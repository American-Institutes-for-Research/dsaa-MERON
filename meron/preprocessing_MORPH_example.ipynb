{
 "cells": [
  {
   "cell_type": "markdown",
   "metadata": {},
   "source": [
    "# Pre-processing MORPH data example\n",
    "This notebook goes over pre-processing MORPH data for training malnutrion models (BMI) \n",
    "\n",
    "MORPH (Craniofacial Longitudinal Morphological Face Database) comes from University of North Carolina, Willmington:\n",
    "\n",
    "_Ricanek, K. and Tesafaye, T., 2006, April. Morph: A longitudinal image database of normal adult age-progression. In Automatic Face and Gesture Recognition, 2006. FGR 2006. 7th International Conference on (pp. 341-345). IEEE._"
   ]
  },
  {
   "cell_type": "code",
   "execution_count": 5,
   "metadata": {},
   "outputs": [
    {
     "name": "stderr",
     "output_type": "stream",
     "text": [
      "/usr/local/lib/python3.5/dist-packages/h5py/__init__.py:36: FutureWarning: Conversion of the second argument of issubdtype from `float` to `np.floating` is deprecated. In future, it will be treated as `np.float64 == np.dtype(float).type`.\n",
      "  from ._conv import register_converters as _register_converters\n",
      "Using TensorFlow backend.\n"
     ]
    }
   ],
   "source": [
    "from preprocessing import MorphPreProcess, ExtractCNNfeatures"
   ]
  },
  {
   "cell_type": "code",
   "execution_count": null,
   "metadata": {},
   "outputs": [],
   "source": [
    "# --------------------------\n",
    "# Data directories and files\n",
    "# --------------------------\n",
    "\n",
    "# This directory contains the original raw MORPH images\n",
    "raw_img_dir = '/home/Data/kimetrica/MORPH/Album2'\n",
    "\n",
    "# This is the directory to write pre-processed images\n",
    "processed_img_dir = '/media/ebaumer/backup/Data/morph_processed'\n",
    "\n",
    "# This is the directory to write the CNN feature files\n",
    "cnn_feature_dir = '/home/Data/kimetrica/meron/features_fc6'\n",
    "\n",
    "# This is the file for Dlib trained facial landmark detection model. Used for aligning facial image\n",
    "landmark_file = '../meron_gh/data/shape_predictor_68_face_landmarks.dat'\n",
    "\n",
    "# This is the original file with all MORPH image meta-data\n",
    "morph_meta_file = '/media/ebaumer/backup/Data/MORPH/MORPH_Album2_Commercial.csv'\n",
    "\n",
    "# This is the file with the MORPH meta-data that has been filtered (preprocess_morph_meta)\n",
    "morph_meta_ofile = '/Data/kimetrica/meron/MORPH_Album2_Commercial_processed.csv'"
   ]
  },
  {
   "cell_type": "code",
   "execution_count": null,
   "metadata": {},
   "outputs": [],
   "source": [
    "# Create instance of MORPH specific pre-processing\n",
    "morph = MorphPreProcess(landmark_file=landmark_file)\n",
    "\n",
    "# Process images (align, rotate and scale). This processes all the raw images in the raw_img_dir\n",
    "# It only grabs one face for each image (n_faces=1)\n",
    "morph.batch_image_detect_align(raw_img_dir, out_dir, n_faces=1)\n",
    "\n",
    "# We only select certain MORPH images. For example we filter out images with facial hair and glasses,\n",
    "# we also filter individuals over 30 years of age. Filtering is done in the preprocess_morph_meta method\n",
    "morph.preprocess_morph_meta(morph_meta_file, morph_meta_ofile)\n",
    "\n",
    "# Initialize instance to extract convolutional features\n",
    "con_feats = ExtractCNNfeatures()\n",
    "# Extract convolutional features from pre-trained VGG network\n",
    "con_feats.extract_batch(processed_img_dir, morph_meta_ofile, cnn_feature_dir, n=1000)\n"
   ]
  }
 ],
 "metadata": {
  "kernelspec": {
   "display_name": "Python 3",
   "language": "python",
   "name": "python3"
  },
  "language_info": {
   "codemirror_mode": {
    "name": "ipython",
    "version": 3
   },
   "file_extension": ".py",
   "mimetype": "text/x-python",
   "name": "python",
   "nbconvert_exporter": "python",
   "pygments_lexer": "ipython3",
   "version": "3.5.2"
  }
 },
 "nbformat": 4,
 "nbformat_minor": 2
}
