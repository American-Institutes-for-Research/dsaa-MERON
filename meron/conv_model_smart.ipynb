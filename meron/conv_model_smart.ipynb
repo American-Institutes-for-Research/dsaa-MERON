{
 "cells": [
  {
   "cell_type": "code",
   "execution_count": 26,
   "metadata": {},
   "outputs": [],
   "source": [
    "import numpy as np\n",
    "import os\n",
    "import pandas as pd\n",
    "from sklearn.model_selection import train_test_split\n",
    "from keras.callbacks import EarlyStopping, ModelCheckpoint\n",
    "from sklearn.preprocessing import StandardScaler, maxabs_scale\n",
    "from keras.optimizers import Adam\n",
    "import matplotlib.pyplot as plt\n",
    "%matplotlib inline\n",
    "from sklearn.utils.class_weight import compute_class_weight"
   ]
  },
  {
   "cell_type": "code",
   "execution_count": 2,
   "metadata": {},
   "outputs": [],
   "source": [
    "from model import MeronSmart, ml_models"
   ]
  },
  {
   "cell_type": "code",
   "execution_count": 3,
   "metadata": {},
   "outputs": [],
   "source": [
    "meron = MeronSmart()"
   ]
  },
  {
   "cell_type": "code",
   "execution_count": 4,
   "metadata": {},
   "outputs": [],
   "source": [
    "dense_model = meron.build_model(reg_val=None)"
   ]
  },
  {
   "cell_type": "code",
   "execution_count": 6,
   "metadata": {},
   "outputs": [
    {
     "name": "stdout",
     "output_type": "stream",
     "text": [
      "_________________________________________________________________\n",
      "Layer (type)                 Output Shape              Param #   \n",
      "=================================================================\n",
      "dense_1 (Dense)              (None, 64)                8384      \n",
      "_________________________________________________________________\n",
      "activation_1 (Activation)    (None, 64)                0         \n",
      "_________________________________________________________________\n",
      "dropout_1 (Dropout)          (None, 64)                0         \n",
      "_________________________________________________________________\n",
      "dense_2 (Dense)              (None, 3)                 195       \n",
      "=================================================================\n",
      "Total params: 8,579\n",
      "Trainable params: 8,579\n",
      "Non-trainable params: 0\n",
      "_________________________________________________________________\n"
     ]
    }
   ],
   "source": [
    "dense_model.summary()"
   ]
  },
  {
   "cell_type": "code",
   "execution_count": 7,
   "metadata": {},
   "outputs": [],
   "source": [
    "merged_df = pd.read_csv('/data/meron/kenya_data/meron_merged_df.csv')\n",
    "meta_data = pd.read_csv('/data/meron/kenya_data/meron_link_data/meron_meta_processed.csv')"
   ]
  },
  {
   "cell_type": "code",
   "execution_count": 8,
   "metadata": {},
   "outputs": [],
   "source": [
    "target = np.array(merged_df[['maln_mam','maln_normal','maln_sam']])"
   ]
  },
  {
   "cell_type": "code",
   "execution_count": 9,
   "metadata": {},
   "outputs": [
    {
     "name": "stdout",
     "output_type": "stream",
     "text": [
      "proportion of normal in dataset: 0.8365758754863813\n"
     ]
    }
   ],
   "source": [
    "num_mam = merged_df['maln_mam'].sum()\n",
    "num_normal = merged_df['maln_normal'].sum()\n",
    "num_sam = merged_df['maln_sam'].sum()\n",
    "counts = [num_mam, num_normal, num_sam]\n",
    "names = ('mam', 'normal','sam')\n",
    "print('proportion of normal in dataset: {}'.format(num_normal/np.sum(counts)))"
   ]
  },
  {
   "cell_type": "code",
   "execution_count": 13,
   "metadata": {},
   "outputs": [
    {
     "data": {
      "text/plain": [
       "([<matplotlib.axis.XTick at 0x7f547dadb400>,\n",
       "  <matplotlib.axis.XTick at 0x7f54c21baa90>,\n",
       "  <matplotlib.axis.XTick at 0x7f547dadb9e8>],\n",
       " <a list of 3 Text xticklabel objects>)"
      ]
     },
     "execution_count": 13,
     "metadata": {},
     "output_type": "execute_result"
    },
    {
     "data": {
      "image/png": "[encoded data removed]",
      "text/plain": [
       "<matplotlib.figure.Figure at 0x7f547d9237f0>"
      ]
     },
     "metadata": {},
     "output_type": "display_data"
    }
   ],
   "source": [
    "plt.bar(np.arange(len(names)),counts, align='center', alpha=0.5)\n",
    "plt.xticks(np.arange(len(names)), names)"
   ]
  },
  {
   "cell_type": "code",
   "execution_count": 10,
   "metadata": {},
   "outputs": [],
   "source": [
    "deselect_cols = ['photo_id','maln_mam','maln_normal','maln_sam']"
   ]
  },
  {
   "cell_type": "code",
   "execution_count": 11,
   "metadata": {},
   "outputs": [
    {
     "data": {
      "text/html": [
       "<div>\n",
       "<style scoped>\n",
       "    .dataframe tbody tr th:only-of-type {\n",
       "        vertical-align: middle;\n",
       "    }\n",
       "\n",
       "    .dataframe tbody tr th {\n",
       "        vertical-align: top;\n",
       "    }\n",
       "\n",
       "    .dataframe thead th {\n",
       "        text-align: right;\n",
       "    }\n",
       "</style>\n",
       "<table border=\"1\" class=\"dataframe\">\n",
       "  <thead>\n",
       "    <tr style=\"text-align: right;\">\n",
       "      <th></th>\n",
       "      <th>0</th>\n",
       "      <th>1</th>\n",
       "      <th>2</th>\n",
       "      <th>3</th>\n",
       "      <th>4</th>\n",
       "      <th>5</th>\n",
       "      <th>6</th>\n",
       "      <th>7</th>\n",
       "      <th>8</th>\n",
       "      <th>9</th>\n",
       "      <th>...</th>\n",
       "      <th>120</th>\n",
       "      <th>121</th>\n",
       "      <th>122</th>\n",
       "      <th>123</th>\n",
       "      <th>124</th>\n",
       "      <th>125</th>\n",
       "      <th>126</th>\n",
       "      <th>127</th>\n",
       "      <th>gender_male</th>\n",
       "      <th>age_months</th>\n",
       "    </tr>\n",
       "  </thead>\n",
       "  <tbody>\n",
       "    <tr>\n",
       "      <th>0</th>\n",
       "      <td>0.0</td>\n",
       "      <td>0.0</td>\n",
       "      <td>0.0</td>\n",
       "      <td>0.0</td>\n",
       "      <td>0.0</td>\n",
       "      <td>1.610925</td>\n",
       "      <td>0.0</td>\n",
       "      <td>0.0</td>\n",
       "      <td>0.0</td>\n",
       "      <td>0.549768</td>\n",
       "      <td>...</td>\n",
       "      <td>0.774492</td>\n",
       "      <td>0.0</td>\n",
       "      <td>0.0</td>\n",
       "      <td>1.000045</td>\n",
       "      <td>1.170272</td>\n",
       "      <td>0.921167</td>\n",
       "      <td>1.242629</td>\n",
       "      <td>0.687481</td>\n",
       "      <td>0</td>\n",
       "      <td>16</td>\n",
       "    </tr>\n",
       "    <tr>\n",
       "      <th>1</th>\n",
       "      <td>0.0</td>\n",
       "      <td>0.0</td>\n",
       "      <td>0.0</td>\n",
       "      <td>0.0</td>\n",
       "      <td>0.0</td>\n",
       "      <td>1.445036</td>\n",
       "      <td>0.0</td>\n",
       "      <td>0.0</td>\n",
       "      <td>0.0</td>\n",
       "      <td>1.647060</td>\n",
       "      <td>...</td>\n",
       "      <td>0.786660</td>\n",
       "      <td>0.0</td>\n",
       "      <td>0.0</td>\n",
       "      <td>0.799522</td>\n",
       "      <td>1.862234</td>\n",
       "      <td>1.719354</td>\n",
       "      <td>1.834410</td>\n",
       "      <td>1.012238</td>\n",
       "      <td>1</td>\n",
       "      <td>43</td>\n",
       "    </tr>\n",
       "    <tr>\n",
       "      <th>2</th>\n",
       "      <td>0.0</td>\n",
       "      <td>0.0</td>\n",
       "      <td>0.0</td>\n",
       "      <td>0.0</td>\n",
       "      <td>0.0</td>\n",
       "      <td>1.350020</td>\n",
       "      <td>0.0</td>\n",
       "      <td>0.0</td>\n",
       "      <td>0.0</td>\n",
       "      <td>1.408485</td>\n",
       "      <td>...</td>\n",
       "      <td>1.505267</td>\n",
       "      <td>0.0</td>\n",
       "      <td>0.0</td>\n",
       "      <td>0.286310</td>\n",
       "      <td>1.878455</td>\n",
       "      <td>1.789453</td>\n",
       "      <td>1.777737</td>\n",
       "      <td>0.666670</td>\n",
       "      <td>0</td>\n",
       "      <td>44</td>\n",
       "    </tr>\n",
       "    <tr>\n",
       "      <th>3</th>\n",
       "      <td>0.0</td>\n",
       "      <td>0.0</td>\n",
       "      <td>0.0</td>\n",
       "      <td>0.0</td>\n",
       "      <td>0.0</td>\n",
       "      <td>1.489869</td>\n",
       "      <td>0.0</td>\n",
       "      <td>0.0</td>\n",
       "      <td>0.0</td>\n",
       "      <td>0.685115</td>\n",
       "      <td>...</td>\n",
       "      <td>0.598133</td>\n",
       "      <td>0.0</td>\n",
       "      <td>0.0</td>\n",
       "      <td>0.550220</td>\n",
       "      <td>1.577498</td>\n",
       "      <td>0.903224</td>\n",
       "      <td>1.778716</td>\n",
       "      <td>1.166920</td>\n",
       "      <td>1</td>\n",
       "      <td>14</td>\n",
       "    </tr>\n",
       "    <tr>\n",
       "      <th>4</th>\n",
       "      <td>0.0</td>\n",
       "      <td>0.0</td>\n",
       "      <td>0.0</td>\n",
       "      <td>0.0</td>\n",
       "      <td>0.0</td>\n",
       "      <td>0.862583</td>\n",
       "      <td>0.0</td>\n",
       "      <td>0.0</td>\n",
       "      <td>0.0</td>\n",
       "      <td>0.998975</td>\n",
       "      <td>...</td>\n",
       "      <td>0.975411</td>\n",
       "      <td>0.0</td>\n",
       "      <td>0.0</td>\n",
       "      <td>0.536872</td>\n",
       "      <td>1.273720</td>\n",
       "      <td>0.870286</td>\n",
       "      <td>0.823969</td>\n",
       "      <td>1.012618</td>\n",
       "      <td>0</td>\n",
       "      <td>7</td>\n",
       "    </tr>\n",
       "  </tbody>\n",
       "</table>\n",
       "<p>5 rows × 130 columns</p>\n",
       "</div>"
      ],
      "text/plain": [
       "     0    1    2    3    4         5    6    7    8         9     ...      \\\n",
       "0  0.0  0.0  0.0  0.0  0.0  1.610925  0.0  0.0  0.0  0.549768     ...       \n",
       "1  0.0  0.0  0.0  0.0  0.0  1.445036  0.0  0.0  0.0  1.647060     ...       \n",
       "2  0.0  0.0  0.0  0.0  0.0  1.350020  0.0  0.0  0.0  1.408485     ...       \n",
       "3  0.0  0.0  0.0  0.0  0.0  1.489869  0.0  0.0  0.0  0.685115     ...       \n",
       "4  0.0  0.0  0.0  0.0  0.0  0.862583  0.0  0.0  0.0  0.998975     ...       \n",
       "\n",
       "        120  121  122       123       124       125       126       127  \\\n",
       "0  0.774492  0.0  0.0  1.000045  1.170272  0.921167  1.242629  0.687481   \n",
       "1  0.786660  0.0  0.0  0.799522  1.862234  1.719354  1.834410  1.012238   \n",
       "2  1.505267  0.0  0.0  0.286310  1.878455  1.789453  1.777737  0.666670   \n",
       "3  0.598133  0.0  0.0  0.550220  1.577498  0.903224  1.778716  1.166920   \n",
       "4  0.975411  0.0  0.0  0.536872  1.273720  0.870286  0.823969  1.012618   \n",
       "\n",
       "   gender_male  age_months  \n",
       "0            0          16  \n",
       "1            1          43  \n",
       "2            0          44  \n",
       "3            1          14  \n",
       "4            0           7  \n",
       "\n",
       "[5 rows x 130 columns]"
      ]
     },
     "execution_count": 11,
     "metadata": {},
     "output_type": "execute_result"
    }
   ],
   "source": [
    "select = [x for x in merged_df.columns if x not in deselect_cols]\n",
    "data_features = merged_df.loc[:, select]\n",
    "data_features.head()"
   ]
  },
  {
   "cell_type": "markdown",
   "metadata": {},
   "source": [
    "# Split data into training and testing sets, then train model"
   ]
  },
  {
   "cell_type": "code",
   "execution_count": 12,
   "metadata": {},
   "outputs": [
    {
     "data": {
      "text/plain": [
       "array([[ 0.        ,  0.        ,  0.        , ..., -1.18780391,\n",
       "        -1.02761861, -0.97103382],\n",
       "       [ 0.        ,  0.        ,  0.        , ...,  0.03142577,\n",
       "         0.97312368,  0.81073245],\n",
       "       [ 0.        ,  0.        ,  0.        , ..., -1.26593645,\n",
       "        -1.02761861,  0.87672379],\n",
       "       ...,\n",
       "       [ 0.        ,  0.        ,  0.        , ..., -1.15373222,\n",
       "         0.97312368,  0.87672379],\n",
       "       [ 0.        ,  0.        ,  0.        , ..., -1.30145252,\n",
       "        -1.02761861,  1.14068917],\n",
       "       [ 0.        ,  0.        ,  0.        , ..., -0.60876649,\n",
       "        -1.02761861, -1.43297323]])"
      ]
     },
     "execution_count": 12,
     "metadata": {},
     "output_type": "execute_result"
    }
   ],
   "source": [
    "### scale/standardize the features?\n",
    "conv_scaler = StandardScaler().fit(data_features)\n",
    "data_features_scaled = conv_scaler.transform(data_features)\n",
    "data_features_scaled"
   ]
  },
  {
   "cell_type": "code",
   "execution_count": 24,
   "metadata": {},
   "outputs": [],
   "source": [
    "### Break data into training and test (stratified)\n",
    "X_train, X_test, y_train, y_test = train_test_split(data_features_scaled, target, test_size=0.2, random_state=42, \n",
    "                                                    stratify=target)"
   ]
  },
  {
   "cell_type": "code",
   "execution_count": 14,
   "metadata": {},
   "outputs": [
    {
     "name": "stdout",
     "output_type": "stream",
     "text": [
      "(2878, 130)\n",
      "(720, 130)\n"
     ]
    }
   ],
   "source": [
    "print(X_train.shape)\n",
    "print(X_test.shape)"
   ]
  },
  {
   "cell_type": "code",
   "execution_count": 22,
   "metadata": {},
   "outputs": [],
   "source": [
    "early_stop = EarlyStopping(monitor='val_loss', patience=5)\n",
    "checkpoint = ModelCheckpoint('dense_model_smart_3layers(dropout_scaled3).h5', monitor='val_loss', verbose=1,\n",
    "                             save_best_only=True, mode='min')"
   ]
  },
  {
   "cell_type": "code",
   "execution_count": 16,
   "metadata": {},
   "outputs": [
    {
     "data": {
      "text/plain": [
       "array([ 2.51391255,  0.39947663, 10.10730594])"
      ]
     },
     "execution_count": 16,
     "metadata": {},
     "output_type": "execute_result"
    }
   ],
   "source": [
    "## compute class weight\n",
    "w = compute_class_weight('balanced', np.unique(meta_data.maln_class), meta_data.maln_class)\n",
    "w"
   ]
  },
  {
   "cell_type": "markdown",
   "metadata": {},
   "source": [
    "dense_model.compile(loss='categorical_crossentropy',\n",
    "                               optimizer=Adam(lr=1e-6),\n",
    "                               metrics=['accuracy'])"
   ]
  },
  {
   "cell_type": "code",
   "execution_count": 25,
   "metadata": {},
   "outputs": [
    {
     "name": "stdout",
     "output_type": "stream",
     "text": [
      "Train on 2878 samples, validate on 720 samples\n",
      "Epoch 1/2000\n",
      "2878/2878 [==============================] - 0s 14us/step - loss: 0.9159 - acc: 0.5413 - val_loss: 1.0077 - val_acc: 0.4875\n",
      "\n",
      "Epoch 00001: val_loss did not improve from 0.89847\n",
      "Epoch 2/2000\n",
      "2878/2878 [==============================] - 0s 13us/step - loss: 0.9110 - acc: 0.5400 - val_loss: 1.0048 - val_acc: 0.4833\n",
      "\n",
      "Epoch 00002: val_loss did not improve from 0.89847\n",
      "Epoch 3/2000\n",
      "2878/2878 [==============================] - 0s 13us/step - loss: 0.9179 - acc: 0.5354 - val_loss: 1.0016 - val_acc: 0.4833\n",
      "\n",
      "Epoch 00003: val_loss did not improve from 0.89847\n",
      "Epoch 4/2000\n",
      "2878/2878 [==============================] - 0s 13us/step - loss: 0.9136 - acc: 0.5424 - val_loss: 0.9993 - val_acc: 0.4806\n",
      "\n",
      "Epoch 00004: val_loss did not improve from 0.89847\n",
      "Epoch 5/2000\n",
      "2878/2878 [==============================] - 0s 12us/step - loss: 0.8893 - acc: 0.5500 - val_loss: 0.9981 - val_acc: 0.4806\n",
      "\n",
      "Epoch 00005: val_loss did not improve from 0.89847\n",
      "Epoch 6/2000\n",
      "2878/2878 [==============================] - 0s 13us/step - loss: 0.9072 - acc: 0.5431 - val_loss: 0.9974 - val_acc: 0.4806\n",
      "\n",
      "Epoch 00006: val_loss did not improve from 0.89847\n",
      "Epoch 7/2000\n",
      "2878/2878 [==============================] - 0s 12us/step - loss: 0.9011 - acc: 0.5573 - val_loss: 0.9967 - val_acc: 0.4847\n",
      "\n",
      "Epoch 00007: val_loss did not improve from 0.89847\n",
      "Epoch 8/2000\n",
      "2878/2878 [==============================] - 0s 13us/step - loss: 0.8891 - acc: 0.5535 - val_loss: 0.9965 - val_acc: 0.4833\n",
      "\n",
      "Epoch 00008: val_loss did not improve from 0.89847\n",
      "Epoch 9/2000\n",
      "2878/2878 [==============================] - 0s 12us/step - loss: 0.9033 - acc: 0.5354 - val_loss: 0.9956 - val_acc: 0.4819\n",
      "\n",
      "Epoch 00009: val_loss did not improve from 0.89847\n",
      "Epoch 10/2000\n",
      "2878/2878 [==============================] - 0s 12us/step - loss: 0.8826 - acc: 0.5490 - val_loss: 0.9957 - val_acc: 0.4833\n",
      "\n",
      "Epoch 00010: val_loss did not improve from 0.89847\n",
      "Epoch 11/2000\n",
      "2878/2878 [==============================] - 0s 13us/step - loss: 0.8945 - acc: 0.5469 - val_loss: 0.9954 - val_acc: 0.4764\n",
      "\n",
      "Epoch 00011: val_loss did not improve from 0.89847\n",
      "Epoch 12/2000\n",
      "2878/2878 [==============================] - 0s 12us/step - loss: 0.8858 - acc: 0.5476 - val_loss: 0.9956 - val_acc: 0.4708\n",
      "\n",
      "Epoch 00012: val_loss did not improve from 0.89847\n",
      "Epoch 13/2000\n",
      "2878/2878 [==============================] - 0s 12us/step - loss: 0.8980 - acc: 0.5299 - val_loss: 0.9961 - val_acc: 0.4736\n",
      "\n",
      "Epoch 00013: val_loss did not improve from 0.89847\n",
      "Epoch 14/2000\n",
      "2878/2878 [==============================] - 0s 12us/step - loss: 0.8868 - acc: 0.5438 - val_loss: 0.9966 - val_acc: 0.4750\n",
      "\n",
      "Epoch 00014: val_loss did not improve from 0.89847\n",
      "Epoch 15/2000\n",
      "2878/2878 [==============================] - 0s 12us/step - loss: 0.8805 - acc: 0.5490 - val_loss: 0.9971 - val_acc: 0.4736\n",
      "\n",
      "Epoch 00015: val_loss did not improve from 0.89847\n",
      "Epoch 16/2000\n",
      "2878/2878 [==============================] - 0s 13us/step - loss: 0.8792 - acc: 0.5476 - val_loss: 0.9980 - val_acc: 0.4750\n",
      "\n",
      "Epoch 00016: val_loss did not improve from 0.89847\n"
     ]
    },
    {
     "data": {
      "text/plain": [
       "<keras.callbacks.History at 0x7f0f91dc3fd0>"
      ]
     },
     "execution_count": 25,
     "metadata": {},
     "output_type": "execute_result"
    }
   ],
   "source": [
    "dense_model.fit(X_train,\n",
    "                y_train,\n",
    "                epochs=2000,\n",
    "                batch_size=512,\n",
    "                callbacks=[checkpoint, early_stop],\n",
    "                shuffle=True,\n",
    "                validation_data=(X_test, y_test),\n",
    "                class_weight=meron._get_class_weights(meta_data.maln_class, neural_net=True),\n",
    "                verbose=1)"
   ]
  },
  {
   "cell_type": "code",
   "execution_count": null,
   "metadata": {},
   "outputs": [],
   "source": []
  }
 ],
 "metadata": {
  "kernelspec": {
   "display_name": "Python 3",
   "language": "python",
   "name": "python3"
  },
  "language_info": {
   "codemirror_mode": {
    "name": "ipython",
    "version": 3
   },
   "file_extension": ".py",
   "mimetype": "text/x-python",
   "name": "python",
   "nbconvert_exporter": "python",
   "pygments_lexer": "ipython3",
   "version": "3.5.2"
  }
 },
 "nbformat": 4,
 "nbformat_minor": 2
}
