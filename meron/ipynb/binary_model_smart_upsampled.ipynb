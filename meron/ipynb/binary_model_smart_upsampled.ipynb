{
 "cells": [
  {
   "cell_type": "code",
   "execution_count": 1,
   "metadata": {},
   "outputs": [
    {
     "name": "stderr",
     "output_type": "stream",
     "text": [
      "/usr/local/lib/python3.5/dist-packages/h5py/__init__.py:36: FutureWarning: Conversion of the second argument of issubdtype from `float` to `np.floating` is deprecated. In future, it will be treated as `np.float64 == np.dtype(float).type`.\n",
      "  from ._conv import register_converters as _register_converters\n",
      "Using TensorFlow backend.\n"
     ]
    }
   ],
   "source": [
    "import numpy as np\n",
    "import os\n",
    "import pandas as pd\n",
    "from sklearn.model_selection import train_test_split\n",
    "from keras.callbacks import EarlyStopping, ModelCheckpoint\n",
    "from keras.models import load_model\n",
    "from sklearn.preprocessing import StandardScaler, maxabs_scale\n",
    "from keras.optimizers import Adam, SGD\n",
    "import matplotlib.pyplot as plt\n",
    "%matplotlib inline\n",
    "from sklearn.utils.class_weight import compute_class_weight\n",
    "from sklearn.metrics import roc_auc_score,f1_score, roc_curve, auc, accuracy_score, confusion_matrix\n",
    "import shutil"
   ]
  },
  {
   "cell_type": "code",
   "execution_count": 2,
   "metadata": {},
   "outputs": [],
   "source": [
    "from model import MeronSmart, ml_models,plot_confusion_matrix"
   ]
  },
  {
   "cell_type": "code",
   "execution_count": 3,
   "metadata": {},
   "outputs": [],
   "source": [
    "meron = MeronSmart()"
   ]
  },
  {
   "cell_type": "code",
   "execution_count": 4,
   "metadata": {},
   "outputs": [],
   "source": [
    "dense_model = meron.build_model()"
   ]
  },
  {
   "cell_type": "code",
   "execution_count": 5,
   "metadata": {},
   "outputs": [
    {
     "name": "stdout",
     "output_type": "stream",
     "text": [
      "_________________________________________________________________\n",
      "Layer (type)                 Output Shape              Param #   \n",
      "=================================================================\n",
      "dense_1 (Dense)              (None, 128)               262528    \n",
      "_________________________________________________________________\n",
      "activation_1 (Activation)    (None, 128)               0         \n",
      "_________________________________________________________________\n",
      "dropout_1 (Dropout)          (None, 128)               0         \n",
      "_________________________________________________________________\n",
      "dense_2 (Dense)              (None, 1)                 129       \n",
      "=================================================================\n",
      "Total params: 262,657\n",
      "Trainable params: 262,657\n",
      "Non-trainable params: 0\n",
      "_________________________________________________________________\n"
     ]
    }
   ],
   "source": [
    "dense_model.summary()"
   ]
  },
  {
   "cell_type": "code",
   "execution_count": 6,
   "metadata": {},
   "outputs": [],
   "source": [
    "#original_merged=pd.read_csv('/data/meron/kenya_data/meron_merged_mal.csv')\n",
    "merged_df = pd.read_csv('/data/meron/kenya_data/meron_merged_mal(sam_mam_upsampled).csv')\n",
    "meta_data = pd.read_csv('/data/meron/kenya_data/meron_link_data/meron_meta_processed.csv')\n",
    "sam_names=pd.read_csv('/data/meron/sam_photo_ids.csv')\n",
    "mam_names=pd.read_csv('/data/meron/mam_photo_ids.csv')\n",
    "\n",
    "#use wfh in meta_data to filter wfh<4\n",
    "merged_df=merged_df[merged_df['wfh']<4]\n"
   ]
  },
  {
   "cell_type": "code",
   "execution_count": 7,
   "metadata": {},
   "outputs": [
    {
     "data": {
      "text/plain": [
       "maln_class\n",
       "mam        964\n",
       "normal    2995\n",
       "sam        232\n",
       "dtype: int64"
      ]
     },
     "execution_count": 7,
     "metadata": {},
     "output_type": "execute_result"
    }
   ],
   "source": [
    "merged_df.groupby(['maln_class']).size()"
   ]
  },
  {
   "cell_type": "code",
   "execution_count": 7,
   "metadata": {},
   "outputs": [],
   "source": [
    "#create new class for binary malnutrition (used later for class weight calculation)\n",
    "new_class=[]\n",
    "for i, row in enumerate(merged_df['maln_class']):\n",
    "    if row=='normal':\n",
    "        new_class.append('normal')\n",
    "    else:\n",
    "        new_class.append('malnutritioned')\n",
    "    "
   ]
  },
  {
   "cell_type": "code",
   "execution_count": 8,
   "metadata": {},
   "outputs": [],
   "source": [
    "merged_df['new_class']=new_class"
   ]
  },
  {
   "cell_type": "markdown",
   "metadata": {},
   "source": [
    "# separate the sam samples so duplicates(flipped image) are not distributed evenly in training and test. samples in validation set are not seen in training"
   ]
  },
  {
   "cell_type": "code",
   "execution_count": 9,
   "metadata": {},
   "outputs": [],
   "source": [
    "sam_samples=merged_df.loc[merged_df['photo_id'].isin(sam_names['photo_id'])]\n",
    "mam_samples=merged_df.loc[merged_df['photo_id'].isin(mam_names['photo_id'])]\n",
    "other_samples=merged_df.loc[~merged_df['photo_id'].isin(sam_names['photo_id'])].loc[~merged_df['photo_id'].isin(mam_names['photo_id'])]\n",
    "\n",
    "#4 sam samples in other samples, 20 mam in other_samples"
   ]
  },
  {
   "cell_type": "code",
   "execution_count": 10,
   "metadata": {},
   "outputs": [
    {
     "name": "stdout",
     "output_type": "stream",
     "text": [
      "sam sample size:(228, 2057)\n",
      "mam sample size:(944, 2057)\n",
      "other sample size:(3019, 2057)\n"
     ]
    }
   ],
   "source": [
    "print('sam sample size:{}'.format(sam_samples.shape))\n",
    "print('mam sample size:{}'.format(mam_samples.shape))\n",
    "print('other sample size:{}'.format(other_samples.shape))"
   ]
  },
  {
   "cell_type": "code",
   "execution_count": 13,
   "metadata": {},
   "outputs": [
    {
     "name": "stdout",
     "output_type": "stream",
     "text": [
      "sam training size:(182, 2057)\n",
      "sam val size:(46, 2057)\n"
     ]
    }
   ],
   "source": [
    "sam_train=sam_samples[:182]\n",
    "sam_validation=sam_samples[182:]\n",
    "print('sam training size:{}'.format(sam_train.shape))\n",
    "print('sam val size:{}'.format(sam_validation.shape))"
   ]
  },
  {
   "cell_type": "code",
   "execution_count": 14,
   "metadata": {},
   "outputs": [
    {
     "name": "stdout",
     "output_type": "stream",
     "text": [
      "mam training size:(755, 2057)\n",
      "mam val size:(189, 2057)\n"
     ]
    }
   ],
   "source": [
    "mam_train=mam_samples[:755]\n",
    "mam_validation=mam_samples[755:]\n",
    "print('mam training size:{}'.format(mam_train.shape))\n",
    "print('mam val size:{}'.format(mam_validation.shape))"
   ]
  },
  {
   "cell_type": "code",
   "execution_count": 21,
   "metadata": {},
   "outputs": [
    {
     "data": {
      "text/html": [
       "<div>\n",
       "<style scoped>\n",
       "    .dataframe tbody tr th:only-of-type {\n",
       "        vertical-align: middle;\n",
       "    }\n",
       "\n",
       "    .dataframe tbody tr th {\n",
       "        vertical-align: top;\n",
       "    }\n",
       "\n",
       "    .dataframe thead th {\n",
       "        text-align: right;\n",
       "    }\n",
       "</style>\n",
       "<table border=\"1\" class=\"dataframe\">\n",
       "  <thead>\n",
       "    <tr style=\"text-align: right;\">\n",
       "      <th></th>\n",
       "      <th>photo_id</th>\n",
       "      <th>0</th>\n",
       "      <th>1</th>\n",
       "      <th>2</th>\n",
       "      <th>3</th>\n",
       "      <th>4</th>\n",
       "      <th>5</th>\n",
       "      <th>6</th>\n",
       "      <th>7</th>\n",
       "      <th>8</th>\n",
       "      <th>...</th>\n",
       "      <th>2046</th>\n",
       "      <th>2047</th>\n",
       "      <th>gender_male</th>\n",
       "      <th>age_months</th>\n",
       "      <th>maln_mam</th>\n",
       "      <th>maln_normal</th>\n",
       "      <th>maln_sam</th>\n",
       "      <th>wfh</th>\n",
       "      <th>maln_class</th>\n",
       "      <th>new_class</th>\n",
       "    </tr>\n",
       "  </thead>\n",
       "  <tbody>\n",
       "    <tr>\n",
       "      <th>5</th>\n",
       "      <td>1519634722743.jpg</td>\n",
       "      <td>0.000000</td>\n",
       "      <td>0.218025</td>\n",
       "      <td>0.000000</td>\n",
       "      <td>0.237022</td>\n",
       "      <td>0.013627</td>\n",
       "      <td>0.799962</td>\n",
       "      <td>1.346431</td>\n",
       "      <td>13.252592</td>\n",
       "      <td>0.000000</td>\n",
       "      <td>...</td>\n",
       "      <td>2.831110</td>\n",
       "      <td>2.128186</td>\n",
       "      <td>1</td>\n",
       "      <td>29.0</td>\n",
       "      <td>0</td>\n",
       "      <td>0</td>\n",
       "      <td>1</td>\n",
       "      <td>-4.96</td>\n",
       "      <td>sam</td>\n",
       "      <td>malnutritioned</td>\n",
       "    </tr>\n",
       "    <tr>\n",
       "      <th>6</th>\n",
       "      <td>1519634722743.jpg</td>\n",
       "      <td>0.000000</td>\n",
       "      <td>0.310197</td>\n",
       "      <td>0.000000</td>\n",
       "      <td>0.000000</td>\n",
       "      <td>0.538029</td>\n",
       "      <td>1.071039</td>\n",
       "      <td>2.753774</td>\n",
       "      <td>14.217513</td>\n",
       "      <td>0.000000</td>\n",
       "      <td>...</td>\n",
       "      <td>2.450462</td>\n",
       "      <td>3.501058</td>\n",
       "      <td>1</td>\n",
       "      <td>29.0</td>\n",
       "      <td>0</td>\n",
       "      <td>0</td>\n",
       "      <td>1</td>\n",
       "      <td>-4.96</td>\n",
       "      <td>sam</td>\n",
       "      <td>malnutritioned</td>\n",
       "    </tr>\n",
       "    <tr>\n",
       "      <th>22</th>\n",
       "      <td>1517308385587.jpg</td>\n",
       "      <td>0.000000</td>\n",
       "      <td>1.070153</td>\n",
       "      <td>0.883892</td>\n",
       "      <td>0.000000</td>\n",
       "      <td>2.273226</td>\n",
       "      <td>0.432866</td>\n",
       "      <td>0.370594</td>\n",
       "      <td>9.211809</td>\n",
       "      <td>0.108621</td>\n",
       "      <td>...</td>\n",
       "      <td>0.715576</td>\n",
       "      <td>0.080925</td>\n",
       "      <td>1</td>\n",
       "      <td>23.0</td>\n",
       "      <td>0</td>\n",
       "      <td>0</td>\n",
       "      <td>1</td>\n",
       "      <td>-3.03</td>\n",
       "      <td>sam</td>\n",
       "      <td>malnutritioned</td>\n",
       "    </tr>\n",
       "    <tr>\n",
       "      <th>23</th>\n",
       "      <td>1517308385587.jpg</td>\n",
       "      <td>0.000000</td>\n",
       "      <td>1.022285</td>\n",
       "      <td>3.869135</td>\n",
       "      <td>0.089626</td>\n",
       "      <td>2.712403</td>\n",
       "      <td>1.364627</td>\n",
       "      <td>0.538262</td>\n",
       "      <td>10.137850</td>\n",
       "      <td>0.012134</td>\n",
       "      <td>...</td>\n",
       "      <td>0.276103</td>\n",
       "      <td>0.006144</td>\n",
       "      <td>1</td>\n",
       "      <td>23.0</td>\n",
       "      <td>0</td>\n",
       "      <td>0</td>\n",
       "      <td>1</td>\n",
       "      <td>-3.03</td>\n",
       "      <td>sam</td>\n",
       "      <td>malnutritioned</td>\n",
       "    </tr>\n",
       "    <tr>\n",
       "      <th>39</th>\n",
       "      <td>1517470917615.jpg</td>\n",
       "      <td>3.025537</td>\n",
       "      <td>0.023323</td>\n",
       "      <td>2.381346</td>\n",
       "      <td>0.524410</td>\n",
       "      <td>0.000000</td>\n",
       "      <td>0.000000</td>\n",
       "      <td>5.221360</td>\n",
       "      <td>3.948538</td>\n",
       "      <td>9.314640</td>\n",
       "      <td>...</td>\n",
       "      <td>0.257508</td>\n",
       "      <td>0.000000</td>\n",
       "      <td>0</td>\n",
       "      <td>57.0</td>\n",
       "      <td>0</td>\n",
       "      <td>0</td>\n",
       "      <td>1</td>\n",
       "      <td>-3.14</td>\n",
       "      <td>sam</td>\n",
       "      <td>malnutritioned</td>\n",
       "    </tr>\n",
       "  </tbody>\n",
       "</table>\n",
       "<p>5 rows × 2057 columns</p>\n",
       "</div>"
      ],
      "text/plain": [
       "             photo_id         0         1         2         3         4  \\\n",
       "5   1519634722743.jpg  0.000000  0.218025  0.000000  0.237022  0.013627   \n",
       "6   1519634722743.jpg  0.000000  0.310197  0.000000  0.000000  0.538029   \n",
       "22  1517308385587.jpg  0.000000  1.070153  0.883892  0.000000  2.273226   \n",
       "23  1517308385587.jpg  0.000000  1.022285  3.869135  0.089626  2.712403   \n",
       "39  1517470917615.jpg  3.025537  0.023323  2.381346  0.524410  0.000000   \n",
       "\n",
       "           5         6          7         8       ...            2046  \\\n",
       "5   0.799962  1.346431  13.252592  0.000000       ...        2.831110   \n",
       "6   1.071039  2.753774  14.217513  0.000000       ...        2.450462   \n",
       "22  0.432866  0.370594   9.211809  0.108621       ...        0.715576   \n",
       "23  1.364627  0.538262  10.137850  0.012134       ...        0.276103   \n",
       "39  0.000000  5.221360   3.948538  9.314640       ...        0.257508   \n",
       "\n",
       "        2047  gender_male  age_months  maln_mam  maln_normal  maln_sam   wfh  \\\n",
       "5   2.128186            1        29.0         0            0         1 -4.96   \n",
       "6   3.501058            1        29.0         0            0         1 -4.96   \n",
       "22  0.080925            1        23.0         0            0         1 -3.03   \n",
       "23  0.006144            1        23.0         0            0         1 -3.03   \n",
       "39  0.000000            0        57.0         0            0         1 -3.14   \n",
       "\n",
       "    maln_class       new_class  \n",
       "5          sam  malnutritioned  \n",
       "6          sam  malnutritioned  \n",
       "22         sam  malnutritioned  \n",
       "23         sam  malnutritioned  \n",
       "39         sam  malnutritioned  \n",
       "\n",
       "[5 rows x 2057 columns]"
      ]
     },
     "execution_count": 21,
     "metadata": {},
     "output_type": "execute_result"
    }
   ],
   "source": [
    "sam_train.head()"
   ]
  },
  {
   "cell_type": "code",
   "execution_count": 15,
   "metadata": {},
   "outputs": [],
   "source": [
    "target_sam_train = np.array(sam_train[['maln_mam','maln_normal','maln_sam']])\n",
    "target_sam_validation=np.array(sam_validation[['maln_mam','maln_normal','maln_sam']])\n",
    "\n",
    "target_mam_train = np.array(mam_train[['maln_mam','maln_normal','maln_sam']])\n",
    "target_mam_validation=np.array(mam_validation[['maln_mam','maln_normal','maln_sam']])\n",
    "\n",
    "target_other=np.array(other_samples[['maln_mam','maln_normal','maln_sam']])\n"
   ]
  },
  {
   "cell_type": "code",
   "execution_count": 16,
   "metadata": {},
   "outputs": [],
   "source": [
    "deselect_cols = ['photo_id','maln_mam','maln_normal','maln_sam','wfh','maln_class','new_class']"
   ]
  },
  {
   "cell_type": "code",
   "execution_count": 17,
   "metadata": {},
   "outputs": [
    {
     "data": {
      "text/html": [
       "<div>\n",
       "<style scoped>\n",
       "    .dataframe tbody tr th:only-of-type {\n",
       "        vertical-align: middle;\n",
       "    }\n",
       "\n",
       "    .dataframe tbody tr th {\n",
       "        vertical-align: top;\n",
       "    }\n",
       "\n",
       "    .dataframe thead th {\n",
       "        text-align: right;\n",
       "    }\n",
       "</style>\n",
       "<table border=\"1\" class=\"dataframe\">\n",
       "  <thead>\n",
       "    <tr style=\"text-align: right;\">\n",
       "      <th></th>\n",
       "      <th>0</th>\n",
       "      <th>1</th>\n",
       "      <th>2</th>\n",
       "      <th>3</th>\n",
       "      <th>4</th>\n",
       "      <th>5</th>\n",
       "      <th>6</th>\n",
       "      <th>7</th>\n",
       "      <th>8</th>\n",
       "      <th>9</th>\n",
       "      <th>...</th>\n",
       "      <th>2040</th>\n",
       "      <th>2041</th>\n",
       "      <th>2042</th>\n",
       "      <th>2043</th>\n",
       "      <th>2044</th>\n",
       "      <th>2045</th>\n",
       "      <th>2046</th>\n",
       "      <th>2047</th>\n",
       "      <th>gender_male</th>\n",
       "      <th>age_months</th>\n",
       "    </tr>\n",
       "  </thead>\n",
       "  <tbody>\n",
       "    <tr>\n",
       "      <th>4</th>\n",
       "      <td>0.000000</td>\n",
       "      <td>0.369026</td>\n",
       "      <td>2.461378</td>\n",
       "      <td>2.946527</td>\n",
       "      <td>0.661946</td>\n",
       "      <td>4.072535</td>\n",
       "      <td>0.526728</td>\n",
       "      <td>6.682256</td>\n",
       "      <td>0.000000</td>\n",
       "      <td>0.0</td>\n",
       "      <td>...</td>\n",
       "      <td>0.687893</td>\n",
       "      <td>0.000000</td>\n",
       "      <td>0.000000</td>\n",
       "      <td>1.743518</td>\n",
       "      <td>0.575827</td>\n",
       "      <td>0.000000</td>\n",
       "      <td>2.062518</td>\n",
       "      <td>0.352439</td>\n",
       "      <td>1</td>\n",
       "      <td>18.0</td>\n",
       "    </tr>\n",
       "    <tr>\n",
       "      <th>9</th>\n",
       "      <td>6.018714</td>\n",
       "      <td>0.000000</td>\n",
       "      <td>4.922188</td>\n",
       "      <td>0.250943</td>\n",
       "      <td>3.632266</td>\n",
       "      <td>0.441533</td>\n",
       "      <td>2.783796</td>\n",
       "      <td>9.161777</td>\n",
       "      <td>0.000000</td>\n",
       "      <td>0.0</td>\n",
       "      <td>...</td>\n",
       "      <td>0.000000</td>\n",
       "      <td>0.000000</td>\n",
       "      <td>0.451506</td>\n",
       "      <td>3.653616</td>\n",
       "      <td>0.734750</td>\n",
       "      <td>0.000000</td>\n",
       "      <td>0.000000</td>\n",
       "      <td>0.000000</td>\n",
       "      <td>0</td>\n",
       "      <td>25.0</td>\n",
       "    </tr>\n",
       "    <tr>\n",
       "      <th>10</th>\n",
       "      <td>0.302067</td>\n",
       "      <td>0.000000</td>\n",
       "      <td>0.856374</td>\n",
       "      <td>4.006856</td>\n",
       "      <td>0.000000</td>\n",
       "      <td>0.476372</td>\n",
       "      <td>4.314477</td>\n",
       "      <td>11.858264</td>\n",
       "      <td>0.000000</td>\n",
       "      <td>0.0</td>\n",
       "      <td>...</td>\n",
       "      <td>1.534502</td>\n",
       "      <td>0.000000</td>\n",
       "      <td>0.453811</td>\n",
       "      <td>16.605633</td>\n",
       "      <td>0.000000</td>\n",
       "      <td>0.845772</td>\n",
       "      <td>0.506828</td>\n",
       "      <td>0.000000</td>\n",
       "      <td>1</td>\n",
       "      <td>40.0</td>\n",
       "    </tr>\n",
       "    <tr>\n",
       "      <th>11</th>\n",
       "      <td>0.000000</td>\n",
       "      <td>0.296940</td>\n",
       "      <td>4.927894</td>\n",
       "      <td>0.212098</td>\n",
       "      <td>0.008911</td>\n",
       "      <td>1.134834</td>\n",
       "      <td>3.333884</td>\n",
       "      <td>2.954910</td>\n",
       "      <td>1.047672</td>\n",
       "      <td>0.0</td>\n",
       "      <td>...</td>\n",
       "      <td>1.352508</td>\n",
       "      <td>0.005078</td>\n",
       "      <td>0.010983</td>\n",
       "      <td>8.271940</td>\n",
       "      <td>0.000000</td>\n",
       "      <td>0.000000</td>\n",
       "      <td>0.876071</td>\n",
       "      <td>0.032372</td>\n",
       "      <td>0</td>\n",
       "      <td>41.0</td>\n",
       "    </tr>\n",
       "    <tr>\n",
       "      <th>12</th>\n",
       "      <td>0.000000</td>\n",
       "      <td>0.228124</td>\n",
       "      <td>0.801086</td>\n",
       "      <td>0.476915</td>\n",
       "      <td>1.492239</td>\n",
       "      <td>1.457904</td>\n",
       "      <td>1.052291</td>\n",
       "      <td>18.379776</td>\n",
       "      <td>0.000000</td>\n",
       "      <td>0.0</td>\n",
       "      <td>...</td>\n",
       "      <td>0.005074</td>\n",
       "      <td>0.000000</td>\n",
       "      <td>0.000000</td>\n",
       "      <td>12.780549</td>\n",
       "      <td>0.740513</td>\n",
       "      <td>0.000000</td>\n",
       "      <td>1.912864</td>\n",
       "      <td>1.549561</td>\n",
       "      <td>0</td>\n",
       "      <td>28.0</td>\n",
       "    </tr>\n",
       "  </tbody>\n",
       "</table>\n",
       "<p>5 rows × 2050 columns</p>\n",
       "</div>"
      ],
      "text/plain": [
       "           0         1         2         3         4         5         6  \\\n",
       "4   0.000000  0.369026  2.461378  2.946527  0.661946  4.072535  0.526728   \n",
       "9   6.018714  0.000000  4.922188  0.250943  3.632266  0.441533  2.783796   \n",
       "10  0.302067  0.000000  0.856374  4.006856  0.000000  0.476372  4.314477   \n",
       "11  0.000000  0.296940  4.927894  0.212098  0.008911  1.134834  3.333884   \n",
       "12  0.000000  0.228124  0.801086  0.476915  1.492239  1.457904  1.052291   \n",
       "\n",
       "            7         8    9     ...          2040      2041      2042  \\\n",
       "4    6.682256  0.000000  0.0     ...      0.687893  0.000000  0.000000   \n",
       "9    9.161777  0.000000  0.0     ...      0.000000  0.000000  0.451506   \n",
       "10  11.858264  0.000000  0.0     ...      1.534502  0.000000  0.453811   \n",
       "11   2.954910  1.047672  0.0     ...      1.352508  0.005078  0.010983   \n",
       "12  18.379776  0.000000  0.0     ...      0.005074  0.000000  0.000000   \n",
       "\n",
       "         2043      2044      2045      2046      2047  gender_male  age_months  \n",
       "4    1.743518  0.575827  0.000000  2.062518  0.352439            1        18.0  \n",
       "9    3.653616  0.734750  0.000000  0.000000  0.000000            0        25.0  \n",
       "10  16.605633  0.000000  0.845772  0.506828  0.000000            1        40.0  \n",
       "11   8.271940  0.000000  0.000000  0.876071  0.032372            0        41.0  \n",
       "12  12.780549  0.740513  0.000000  1.912864  1.549561            0        28.0  \n",
       "\n",
       "[5 rows x 2050 columns]"
      ]
     },
     "execution_count": 17,
     "metadata": {},
     "output_type": "execute_result"
    }
   ],
   "source": [
    "select = [x for x in merged_df.columns if x not in deselect_cols]\n",
    "sam_train_features = sam_train.loc[:, select]\n",
    "sam_validation_features = sam_validation.loc[:, select]\n",
    "\n",
    "mam_train_features = mam_train.loc[:, select]\n",
    "mam_validation_features = mam_validation.loc[:, select]\n",
    "\n",
    "other_features=other_samples.loc[:, select]\n",
    "other_features.head()"
   ]
  },
  {
   "cell_type": "markdown",
   "metadata": {},
   "source": [
    "# Split data into training and testing sets, then train model"
   ]
  },
  {
   "cell_type": "code",
   "execution_count": 18,
   "metadata": {},
   "outputs": [],
   "source": [
    "whole_data=pd.concat([other_features, sam_train_features, sam_validation_features,mam_train_features,mam_validation_features], axis=0)"
   ]
  },
  {
   "cell_type": "code",
   "execution_count": 19,
   "metadata": {},
   "outputs": [],
   "source": [
    "### scale/standardize the features?\n",
    "conv_scaler = StandardScaler().fit(whole_data)\n",
    "sam_train_features_scaled = conv_scaler.transform(sam_train_features)\n",
    "sam_validation_features_scaled=conv_scaler.transform(sam_validation_features)\n",
    "\n",
    "mam_train_features_scaled = conv_scaler.transform(mam_train_features)\n",
    "mam_validation_features_scaled=conv_scaler.transform(mam_validation_features)\n",
    "\n",
    "other_features_scaled=conv_scaler.transform(other_features)"
   ]
  },
  {
   "cell_type": "markdown",
   "metadata": {},
   "source": [
    "# transform target vector to binary "
   ]
  },
  {
   "cell_type": "code",
   "execution_count": 20,
   "metadata": {},
   "outputs": [],
   "source": [
    "def binarize(target_vec):\n",
    "    target_binary=[]\n",
    "    for i in target_vec:\n",
    "        label=np.argmax(i)\n",
    "        if label==1:\n",
    "            target_binary.append(0)\n",
    "        else:\n",
    "            target_binary.append(1)\n",
    "    return target_binary"
   ]
  },
  {
   "cell_type": "code",
   "execution_count": 21,
   "metadata": {},
   "outputs": [],
   "source": [
    "target_other_binary=binarize(target_other)\n",
    "\n",
    "target_sam_train_binary=binarize(target_sam_train)\n",
    "target_mam_train_binary=binarize(target_mam_train)\n",
    "\n",
    "target_sam_validation_binary=binarize(target_sam_validation)\n",
    "target_mam_validation_binary=binarize(target_mam_validation)"
   ]
  },
  {
   "cell_type": "markdown",
   "metadata": {},
   "source": [
    "# Set up model"
   ]
  },
  {
   "cell_type": "code",
   "execution_count": 22,
   "metadata": {},
   "outputs": [],
   "source": [
    "### Break data into training and test (stratified)\n",
    "X_train1, X_test1, y_train1, y_test1 = train_test_split(other_features_scaled, target_other_binary, test_size=0.2, \n",
    "                                                        random_state=42, stratify=target_other)\n",
    "\n",
    "X_train=np.concatenate((X_train1,sam_train_features_scaled,mam_train_features_scaled), axis=0)\n",
    "y_train=np.concatenate((y_train1,target_sam_train_binary,target_mam_train_binary), axis=0)\n",
    "\n",
    "X_test=np.concatenate((X_test1,sam_validation_features_scaled,mam_validation_features_scaled), axis=0)\n",
    "y_test=np.concatenate((y_test1,target_sam_validation_binary, target_mam_validation_binary), axis=0)"
   ]
  },
  {
   "cell_type": "code",
   "execution_count": 22,
   "metadata": {},
   "outputs": [
    {
     "name": "stdout",
     "output_type": "stream",
     "text": [
      "(3352, 2050)\n",
      "(839, 2050)\n"
     ]
    }
   ],
   "source": [
    "print(X_train.shape)\n",
    "print(X_test.shape)"
   ]
  },
  {
   "cell_type": "code",
   "execution_count": 23,
   "metadata": {},
   "outputs": [],
   "source": [
    "early_stop = EarlyStopping(monitor='val_loss', patience=5)\n",
    "checkpoint = ModelCheckpoint('dense_resnetfeats_128(dropout05_binary_upsampled2x)_2.h5', monitor='val_loss', verbose=1,\n",
    "                             save_best_only=True, mode='min')"
   ]
  },
  {
   "cell_type": "code",
   "execution_count": 22,
   "metadata": {},
   "outputs": [
    {
     "data": {
      "text/plain": [
       "array([1.7520903 , 0.69966611])"
      ]
     },
     "execution_count": 22,
     "metadata": {},
     "output_type": "execute_result"
    }
   ],
   "source": [
    "## compute class weight\n",
    "w = compute_class_weight('balanced', np.unique(merged_df.new_class), merged_df.new_class)\n",
    "w"
   ]
  },
  {
   "cell_type": "markdown",
   "metadata": {},
   "source": [
    "dense_model.compile(loss='categorical_crossentropy',\n",
    "                               optimizer=Adam(lr=1e-4),\n",
    "                               metrics=['accuracy'])"
   ]
  },
  {
   "cell_type": "code",
   "execution_count": 24,
   "metadata": {},
   "outputs": [
    {
     "name": "stdout",
     "output_type": "stream",
     "text": [
      "Train on 3352 samples, validate on 839 samples\n",
      "Epoch 1/1000\n",
      "3352/3352 [==============================] - 1s 153us/step - loss: 1.1908 - acc: 0.5409 - val_loss: 1.0114 - val_acc: 0.5816\n",
      "\n",
      "Epoch 00001: val_loss improved from inf to 1.01143, saving model to dense_resnetfeats_128(dropout05_binary_upsampled2x)_2.h5\n",
      "Epoch 2/1000\n",
      "3352/3352 [==============================] - 0s 40us/step - loss: 1.1332 - acc: 0.5632 - val_loss: 1.0033 - val_acc: 0.5876\n",
      "\n",
      "Epoch 00002: val_loss improved from 1.01143 to 1.00330, saving model to dense_resnetfeats_128(dropout05_binary_upsampled2x)_2.h5\n",
      "Epoch 3/1000\n",
      "3352/3352 [==============================] - 0s 46us/step - loss: 1.1193 - acc: 0.5615 - val_loss: 0.9958 - val_acc: 0.5948\n",
      "\n",
      "Epoch 00003: val_loss improved from 1.00330 to 0.99583, saving model to dense_resnetfeats_128(dropout05_binary_upsampled2x)_2.h5\n",
      "Epoch 4/1000\n",
      "3352/3352 [==============================] - 0s 42us/step - loss: 1.1223 - acc: 0.5644 - val_loss: 0.9891 - val_acc: 0.5924\n",
      "\n",
      "Epoch 00004: val_loss improved from 0.99583 to 0.98913, saving model to dense_resnetfeats_128(dropout05_binary_upsampled2x)_2.h5\n",
      "Epoch 5/1000\n",
      "3352/3352 [==============================] - 0s 42us/step - loss: 1.1110 - acc: 0.5764 - val_loss: 0.9830 - val_acc: 0.6031\n",
      "\n",
      "Epoch 00005: val_loss improved from 0.98913 to 0.98302, saving model to dense_resnetfeats_128(dropout05_binary_upsampled2x)_2.h5\n",
      "Epoch 6/1000\n",
      "3352/3352 [==============================] - 0s 43us/step - loss: 1.0880 - acc: 0.5746 - val_loss: 0.9773 - val_acc: 0.6067\n",
      "\n",
      "Epoch 00006: val_loss improved from 0.98302 to 0.97729, saving model to dense_resnetfeats_128(dropout05_binary_upsampled2x)_2.h5\n",
      "Epoch 7/1000\n",
      "3352/3352 [==============================] - 0s 44us/step - loss: 1.0811 - acc: 0.5737 - val_loss: 0.9723 - val_acc: 0.6091\n",
      "\n",
      "Epoch 00007: val_loss improved from 0.97729 to 0.97234, saving model to dense_resnetfeats_128(dropout05_binary_upsampled2x)_2.h5\n",
      "Epoch 8/1000\n",
      "3352/3352 [==============================] - 0s 42us/step - loss: 1.0897 - acc: 0.5779 - val_loss: 0.9677 - val_acc: 0.6138\n",
      "\n",
      "Epoch 00008: val_loss improved from 0.97234 to 0.96772, saving model to dense_resnetfeats_128(dropout05_binary_upsampled2x)_2.h5\n",
      "Epoch 9/1000\n",
      "3352/3352 [==============================] - 0s 41us/step - loss: 1.0862 - acc: 0.5844 - val_loss: 0.9633 - val_acc: 0.6198\n",
      "\n",
      "Epoch 00009: val_loss improved from 0.96772 to 0.96327, saving model to dense_resnetfeats_128(dropout05_binary_upsampled2x)_2.h5\n",
      "Epoch 10/1000\n",
      "3352/3352 [==============================] - 0s 41us/step - loss: 1.0892 - acc: 0.5716 - val_loss: 0.9592 - val_acc: 0.6198\n",
      "\n",
      "Epoch 00010: val_loss improved from 0.96327 to 0.95918, saving model to dense_resnetfeats_128(dropout05_binary_upsampled2x)_2.h5\n",
      "Epoch 11/1000\n",
      "3352/3352 [==============================] - 0s 49us/step - loss: 1.0681 - acc: 0.5931 - val_loss: 0.9553 - val_acc: 0.6210\n",
      "\n",
      "Epoch 00011: val_loss improved from 0.95918 to 0.95527, saving model to dense_resnetfeats_128(dropout05_binary_upsampled2x)_2.h5\n",
      "Epoch 12/1000\n",
      "3352/3352 [==============================] - 0s 42us/step - loss: 1.0364 - acc: 0.5964 - val_loss: 0.9517 - val_acc: 0.6234\n",
      "\n",
      "Epoch 00012: val_loss improved from 0.95527 to 0.95173, saving model to dense_resnetfeats_128(dropout05_binary_upsampled2x)_2.h5\n",
      "Epoch 13/1000\n",
      "3352/3352 [==============================] - 0s 41us/step - loss: 1.0508 - acc: 0.5952 - val_loss: 0.9486 - val_acc: 0.6234\n",
      "\n",
      "Epoch 00013: val_loss improved from 0.95173 to 0.94857, saving model to dense_resnetfeats_128(dropout05_binary_upsampled2x)_2.h5\n",
      "Epoch 14/1000\n",
      "3352/3352 [==============================] - 0s 45us/step - loss: 1.0428 - acc: 0.5990 - val_loss: 0.9459 - val_acc: 0.6246\n",
      "\n",
      "Epoch 00014: val_loss improved from 0.94857 to 0.94587, saving model to dense_resnetfeats_128(dropout05_binary_upsampled2x)_2.h5\n",
      "Epoch 15/1000\n",
      "3352/3352 [==============================] - 0s 42us/step - loss: 1.0323 - acc: 0.5984 - val_loss: 0.9431 - val_acc: 0.6341\n",
      "\n",
      "Epoch 00015: val_loss improved from 0.94587 to 0.94314, saving model to dense_resnetfeats_128(dropout05_binary_upsampled2x)_2.h5\n",
      "Epoch 16/1000\n",
      "3352/3352 [==============================] - 0s 42us/step - loss: 1.0497 - acc: 0.6113 - val_loss: 0.9407 - val_acc: 0.6365\n",
      "\n",
      "Epoch 00016: val_loss improved from 0.94314 to 0.94070, saving model to dense_resnetfeats_128(dropout05_binary_upsampled2x)_2.h5\n",
      "Epoch 17/1000\n",
      "3352/3352 [==============================] - 0s 46us/step - loss: 1.0216 - acc: 0.6125 - val_loss: 0.9381 - val_acc: 0.6353\n",
      "\n",
      "Epoch 00017: val_loss improved from 0.94070 to 0.93808, saving model to dense_resnetfeats_128(dropout05_binary_upsampled2x)_2.h5\n",
      "Epoch 18/1000\n",
      "3352/3352 [==============================] - 0s 45us/step - loss: 0.9983 - acc: 0.6125 - val_loss: 0.9357 - val_acc: 0.6365\n",
      "\n",
      "Epoch 00018: val_loss improved from 0.93808 to 0.93570, saving model to dense_resnetfeats_128(dropout05_binary_upsampled2x)_2.h5\n",
      "Epoch 19/1000\n",
      "3352/3352 [==============================] - 0s 43us/step - loss: 1.0185 - acc: 0.6104 - val_loss: 0.9335 - val_acc: 0.6389\n",
      "\n",
      "Epoch 00019: val_loss improved from 0.93570 to 0.93353, saving model to dense_resnetfeats_128(dropout05_binary_upsampled2x)_2.h5\n",
      "Epoch 20/1000\n",
      "3352/3352 [==============================] - 0s 41us/step - loss: 1.0014 - acc: 0.6092 - val_loss: 0.9314 - val_acc: 0.6377\n",
      "\n",
      "Epoch 00020: val_loss improved from 0.93353 to 0.93143, saving model to dense_resnetfeats_128(dropout05_binary_upsampled2x)_2.h5\n",
      "Epoch 21/1000\n",
      "3352/3352 [==============================] - 0s 43us/step - loss: 1.0012 - acc: 0.6092 - val_loss: 0.9295 - val_acc: 0.6400\n",
      "\n",
      "Epoch 00021: val_loss improved from 0.93143 to 0.92955, saving model to dense_resnetfeats_128(dropout05_binary_upsampled2x)_2.h5\n",
      "Epoch 22/1000\n",
      "3352/3352 [==============================] - 0s 41us/step - loss: 0.9945 - acc: 0.6178 - val_loss: 0.9277 - val_acc: 0.6460\n",
      "\n",
      "Epoch 00022: val_loss improved from 0.92955 to 0.92770, saving model to dense_resnetfeats_128(dropout05_binary_upsampled2x)_2.h5\n",
      "Epoch 23/1000\n",
      "3352/3352 [==============================] - 0s 41us/step - loss: 1.0116 - acc: 0.6217 - val_loss: 0.9262 - val_acc: 0.6412\n",
      "\n",
      "Epoch 00023: val_loss improved from 0.92770 to 0.92620, saving model to dense_resnetfeats_128(dropout05_binary_upsampled2x)_2.h5\n",
      "Epoch 24/1000\n",
      "3352/3352 [==============================] - 0s 42us/step - loss: 0.9984 - acc: 0.6113 - val_loss: 0.9247 - val_acc: 0.6424\n",
      "\n",
      "Epoch 00024: val_loss improved from 0.92620 to 0.92474, saving model to dense_resnetfeats_128(dropout05_binary_upsampled2x)_2.h5\n",
      "Epoch 25/1000\n",
      "3352/3352 [==============================] - 0s 47us/step - loss: 0.9845 - acc: 0.6325 - val_loss: 0.9234 - val_acc: 0.6424\n",
      "\n",
      "Epoch 00025: val_loss improved from 0.92474 to 0.92339, saving model to dense_resnetfeats_128(dropout05_binary_upsampled2x)_2.h5\n",
      "Epoch 26/1000\n",
      "3352/3352 [==============================] - 0s 43us/step - loss: 0.9972 - acc: 0.6193 - val_loss: 0.9219 - val_acc: 0.6424\n",
      "\n",
      "Epoch 00026: val_loss improved from 0.92339 to 0.92192, saving model to dense_resnetfeats_128(dropout05_binary_upsampled2x)_2.h5\n",
      "Epoch 27/1000\n",
      "3352/3352 [==============================] - 0s 44us/step - loss: 0.9940 - acc: 0.6289 - val_loss: 0.9206 - val_acc: 0.6448\n",
      "\n",
      "Epoch 00027: val_loss improved from 0.92192 to 0.92063, saving model to dense_resnetfeats_128(dropout05_binary_upsampled2x)_2.h5\n",
      "Epoch 28/1000\n",
      "3352/3352 [==============================] - 0s 43us/step - loss: 0.9542 - acc: 0.6489 - val_loss: 0.9191 - val_acc: 0.6472\n",
      "\n",
      "Epoch 00028: val_loss improved from 0.92063 to 0.91914, saving model to dense_resnetfeats_128(dropout05_binary_upsampled2x)_2.h5\n",
      "Epoch 29/1000\n",
      "3352/3352 [==============================] - 0s 43us/step - loss: 0.9638 - acc: 0.6417 - val_loss: 0.9179 - val_acc: 0.6496\n",
      "\n",
      "Epoch 00029: val_loss improved from 0.91914 to 0.91795, saving model to dense_resnetfeats_128(dropout05_binary_upsampled2x)_2.h5\n",
      "Epoch 30/1000\n",
      "3352/3352 [==============================] - 0s 43us/step - loss: 0.9754 - acc: 0.6268 - val_loss: 0.9167 - val_acc: 0.6508\n",
      "\n",
      "Epoch 00030: val_loss improved from 0.91795 to 0.91673, saving model to dense_resnetfeats_128(dropout05_binary_upsampled2x)_2.h5\n",
      "Epoch 31/1000\n",
      "3352/3352 [==============================] - 0s 42us/step - loss: 0.9740 - acc: 0.6322 - val_loss: 0.9156 - val_acc: 0.6508\n"
     ]
    },
    {
     "name": "stdout",
     "output_type": "stream",
     "text": [
      "\n",
      "Epoch 00031: val_loss improved from 0.91673 to 0.91557, saving model to dense_resnetfeats_128(dropout05_binary_upsampled2x)_2.h5\n",
      "Epoch 32/1000\n",
      "3352/3352 [==============================] - 0s 43us/step - loss: 0.9510 - acc: 0.6518 - val_loss: 0.9144 - val_acc: 0.6484\n",
      "\n",
      "Epoch 00032: val_loss improved from 0.91557 to 0.91438, saving model to dense_resnetfeats_128(dropout05_binary_upsampled2x)_2.h5\n",
      "Epoch 33/1000\n",
      "3352/3352 [==============================] - 0s 45us/step - loss: 0.9406 - acc: 0.6504 - val_loss: 0.9132 - val_acc: 0.6484\n",
      "\n",
      "Epoch 00033: val_loss improved from 0.91438 to 0.91316, saving model to dense_resnetfeats_128(dropout05_binary_upsampled2x)_2.h5\n",
      "Epoch 34/1000\n",
      "3352/3352 [==============================] - 0s 46us/step - loss: 0.9630 - acc: 0.6369 - val_loss: 0.9119 - val_acc: 0.6508\n",
      "\n",
      "Epoch 00034: val_loss improved from 0.91316 to 0.91191, saving model to dense_resnetfeats_128(dropout05_binary_upsampled2x)_2.h5\n",
      "Epoch 35/1000\n",
      "3352/3352 [==============================] - 0s 43us/step - loss: 0.9439 - acc: 0.6536 - val_loss: 0.9106 - val_acc: 0.6532\n",
      "\n",
      "Epoch 00035: val_loss improved from 0.91191 to 0.91061, saving model to dense_resnetfeats_128(dropout05_binary_upsampled2x)_2.h5\n",
      "Epoch 36/1000\n",
      "3352/3352 [==============================] - 0s 43us/step - loss: 0.9334 - acc: 0.6554 - val_loss: 0.9096 - val_acc: 0.6579\n",
      "\n",
      "Epoch 00036: val_loss improved from 0.91061 to 0.90957, saving model to dense_resnetfeats_128(dropout05_binary_upsampled2x)_2.h5\n",
      "Epoch 37/1000\n",
      "3352/3352 [==============================] - 0s 48us/step - loss: 0.9480 - acc: 0.6533 - val_loss: 0.9086 - val_acc: 0.6591\n",
      "\n",
      "Epoch 00037: val_loss improved from 0.90957 to 0.90859, saving model to dense_resnetfeats_128(dropout05_binary_upsampled2x)_2.h5\n",
      "Epoch 38/1000\n",
      "3352/3352 [==============================] - 0s 46us/step - loss: 0.9380 - acc: 0.6626 - val_loss: 0.9075 - val_acc: 0.6615\n",
      "\n",
      "Epoch 00038: val_loss improved from 0.90859 to 0.90753, saving model to dense_resnetfeats_128(dropout05_binary_upsampled2x)_2.h5\n",
      "Epoch 39/1000\n",
      "3352/3352 [==============================] - 0s 44us/step - loss: 0.9258 - acc: 0.6560 - val_loss: 0.9065 - val_acc: 0.6627\n",
      "\n",
      "Epoch 00039: val_loss improved from 0.90753 to 0.90646, saving model to dense_resnetfeats_128(dropout05_binary_upsampled2x)_2.h5\n",
      "Epoch 40/1000\n",
      "3352/3352 [==============================] - 0s 42us/step - loss: 0.9382 - acc: 0.6632 - val_loss: 0.9054 - val_acc: 0.6651\n",
      "\n",
      "Epoch 00040: val_loss improved from 0.90646 to 0.90540, saving model to dense_resnetfeats_128(dropout05_binary_upsampled2x)_2.h5\n",
      "Epoch 41/1000\n",
      "3352/3352 [==============================] - 0s 43us/step - loss: 0.9269 - acc: 0.6563 - val_loss: 0.9046 - val_acc: 0.6639\n",
      "\n",
      "Epoch 00041: val_loss improved from 0.90540 to 0.90464, saving model to dense_resnetfeats_128(dropout05_binary_upsampled2x)_2.h5\n",
      "Epoch 42/1000\n",
      "3352/3352 [==============================] - 0s 45us/step - loss: 0.9307 - acc: 0.6587 - val_loss: 0.9038 - val_acc: 0.6627\n",
      "\n",
      "Epoch 00042: val_loss improved from 0.90464 to 0.90379, saving model to dense_resnetfeats_128(dropout05_binary_upsampled2x)_2.h5\n",
      "Epoch 43/1000\n",
      "3352/3352 [==============================] - 0s 44us/step - loss: 0.9312 - acc: 0.6644 - val_loss: 0.9031 - val_acc: 0.6639\n",
      "\n",
      "Epoch 00043: val_loss improved from 0.90379 to 0.90312, saving model to dense_resnetfeats_128(dropout05_binary_upsampled2x)_2.h5\n",
      "Epoch 44/1000\n",
      "3352/3352 [==============================] - 0s 44us/step - loss: 0.9163 - acc: 0.6638 - val_loss: 0.9024 - val_acc: 0.6675\n",
      "\n",
      "Epoch 00044: val_loss improved from 0.90312 to 0.90244, saving model to dense_resnetfeats_128(dropout05_binary_upsampled2x)_2.h5\n",
      "Epoch 45/1000\n",
      "3352/3352 [==============================] - 0s 44us/step - loss: 0.9147 - acc: 0.6569 - val_loss: 0.9018 - val_acc: 0.6663\n",
      "\n",
      "Epoch 00045: val_loss improved from 0.90244 to 0.90182, saving model to dense_resnetfeats_128(dropout05_binary_upsampled2x)_2.h5\n",
      "Epoch 46/1000\n",
      "3352/3352 [==============================] - 0s 42us/step - loss: 0.8945 - acc: 0.6721 - val_loss: 0.9011 - val_acc: 0.6663\n",
      "\n",
      "Epoch 00046: val_loss improved from 0.90182 to 0.90107, saving model to dense_resnetfeats_128(dropout05_binary_upsampled2x)_2.h5\n",
      "Epoch 47/1000\n",
      "3352/3352 [==============================] - 0s 43us/step - loss: 0.9162 - acc: 0.6706 - val_loss: 0.9002 - val_acc: 0.6663\n",
      "\n",
      "Epoch 00047: val_loss improved from 0.90107 to 0.90020, saving model to dense_resnetfeats_128(dropout05_binary_upsampled2x)_2.h5\n",
      "Epoch 48/1000\n",
      "3352/3352 [==============================] - 0s 46us/step - loss: 0.9047 - acc: 0.6671 - val_loss: 0.8993 - val_acc: 0.6651\n",
      "\n",
      "Epoch 00048: val_loss improved from 0.90020 to 0.89934, saving model to dense_resnetfeats_128(dropout05_binary_upsampled2x)_2.h5\n",
      "Epoch 49/1000\n",
      "3352/3352 [==============================] - 0s 44us/step - loss: 0.8963 - acc: 0.6769 - val_loss: 0.8986 - val_acc: 0.6675\n",
      "\n",
      "Epoch 00049: val_loss improved from 0.89934 to 0.89859, saving model to dense_resnetfeats_128(dropout05_binary_upsampled2x)_2.h5\n",
      "Epoch 50/1000\n",
      "3352/3352 [==============================] - 0s 51us/step - loss: 0.9105 - acc: 0.6644 - val_loss: 0.8979 - val_acc: 0.6651\n",
      "\n",
      "Epoch 00050: val_loss improved from 0.89859 to 0.89792, saving model to dense_resnetfeats_128(dropout05_binary_upsampled2x)_2.h5\n",
      "Epoch 51/1000\n",
      "3352/3352 [==============================] - 0s 45us/step - loss: 0.8970 - acc: 0.6742 - val_loss: 0.8974 - val_acc: 0.6651\n",
      "\n",
      "Epoch 00051: val_loss improved from 0.89792 to 0.89741, saving model to dense_resnetfeats_128(dropout05_binary_upsampled2x)_2.h5\n",
      "Epoch 52/1000\n",
      "3352/3352 [==============================] - 0s 47us/step - loss: 0.9091 - acc: 0.6641 - val_loss: 0.8969 - val_acc: 0.6651\n",
      "\n",
      "Epoch 00052: val_loss improved from 0.89741 to 0.89692, saving model to dense_resnetfeats_128(dropout05_binary_upsampled2x)_2.h5\n",
      "Epoch 53/1000\n",
      "3352/3352 [==============================] - 0s 40us/step - loss: 0.8942 - acc: 0.6787 - val_loss: 0.8964 - val_acc: 0.6675\n",
      "\n",
      "Epoch 00053: val_loss improved from 0.89692 to 0.89637, saving model to dense_resnetfeats_128(dropout05_binary_upsampled2x)_2.h5\n",
      "Epoch 54/1000\n",
      "3352/3352 [==============================] - 0s 41us/step - loss: 0.8869 - acc: 0.6796 - val_loss: 0.8961 - val_acc: 0.6687\n",
      "\n",
      "Epoch 00054: val_loss improved from 0.89637 to 0.89611, saving model to dense_resnetfeats_128(dropout05_binary_upsampled2x)_2.h5\n",
      "Epoch 55/1000\n",
      "3352/3352 [==============================] - 0s 44us/step - loss: 0.8858 - acc: 0.6757 - val_loss: 0.8958 - val_acc: 0.6710\n",
      "\n",
      "Epoch 00055: val_loss improved from 0.89611 to 0.89576, saving model to dense_resnetfeats_128(dropout05_binary_upsampled2x)_2.h5\n",
      "Epoch 56/1000\n",
      "3352/3352 [==============================] - 0s 52us/step - loss: 0.8802 - acc: 0.6826 - val_loss: 0.8953 - val_acc: 0.6722\n",
      "\n",
      "Epoch 00056: val_loss improved from 0.89576 to 0.89535, saving model to dense_resnetfeats_128(dropout05_binary_upsampled2x)_2.h5\n",
      "Epoch 57/1000\n",
      "3352/3352 [==============================] - 0s 44us/step - loss: 0.8856 - acc: 0.6865 - val_loss: 0.8950 - val_acc: 0.6734\n",
      "\n",
      "Epoch 00057: val_loss improved from 0.89535 to 0.89500, saving model to dense_resnetfeats_128(dropout05_binary_upsampled2x)_2.h5\n",
      "Epoch 58/1000\n",
      "3352/3352 [==============================] - 0s 48us/step - loss: 0.8913 - acc: 0.6778 - val_loss: 0.8946 - val_acc: 0.6770\n",
      "\n",
      "Epoch 00058: val_loss improved from 0.89500 to 0.89459, saving model to dense_resnetfeats_128(dropout05_binary_upsampled2x)_2.h5\n",
      "Epoch 59/1000\n",
      "3352/3352 [==============================] - 0s 44us/step - loss: 0.8823 - acc: 0.6862 - val_loss: 0.8942 - val_acc: 0.6794\n",
      "\n",
      "Epoch 00059: val_loss improved from 0.89459 to 0.89421, saving model to dense_resnetfeats_128(dropout05_binary_upsampled2x)_2.h5\n",
      "Epoch 60/1000\n",
      "3352/3352 [==============================] - 0s 43us/step - loss: 0.8724 - acc: 0.6879 - val_loss: 0.8937 - val_acc: 0.6782\n",
      "\n",
      "Epoch 00060: val_loss improved from 0.89421 to 0.89372, saving model to dense_resnetfeats_128(dropout05_binary_upsampled2x)_2.h5\n",
      "Epoch 61/1000\n",
      "3352/3352 [==============================] - 0s 47us/step - loss: 0.8567 - acc: 0.6954 - val_loss: 0.8933 - val_acc: 0.6794\n",
      "\n",
      "Epoch 00061: val_loss improved from 0.89372 to 0.89326, saving model to dense_resnetfeats_128(dropout05_binary_upsampled2x)_2.h5\n",
      "Epoch 62/1000\n"
     ]
    },
    {
     "name": "stdout",
     "output_type": "stream",
     "text": [
      "3352/3352 [==============================] - 0s 42us/step - loss: 0.8681 - acc: 0.6894 - val_loss: 0.8928 - val_acc: 0.6782\n",
      "\n",
      "Epoch 00062: val_loss improved from 0.89326 to 0.89276, saving model to dense_resnetfeats_128(dropout05_binary_upsampled2x)_2.h5\n",
      "Epoch 63/1000\n",
      "3352/3352 [==============================] - 0s 42us/step - loss: 0.8841 - acc: 0.6727 - val_loss: 0.8923 - val_acc: 0.6794\n",
      "\n",
      "Epoch 00063: val_loss improved from 0.89276 to 0.89229, saving model to dense_resnetfeats_128(dropout05_binary_upsampled2x)_2.h5\n",
      "Epoch 64/1000\n",
      "3352/3352 [==============================] - 0s 43us/step - loss: 0.8836 - acc: 0.6787 - val_loss: 0.8919 - val_acc: 0.6782\n",
      "\n",
      "Epoch 00064: val_loss improved from 0.89229 to 0.89190, saving model to dense_resnetfeats_128(dropout05_binary_upsampled2x)_2.h5\n",
      "Epoch 65/1000\n",
      "3352/3352 [==============================] - 0s 51us/step - loss: 0.8508 - acc: 0.7002 - val_loss: 0.8916 - val_acc: 0.6782\n",
      "\n",
      "Epoch 00065: val_loss improved from 0.89190 to 0.89158, saving model to dense_resnetfeats_128(dropout05_binary_upsampled2x)_2.h5\n",
      "Epoch 66/1000\n",
      "3352/3352 [==============================] - 0s 45us/step - loss: 0.8381 - acc: 0.7136 - val_loss: 0.8914 - val_acc: 0.6794\n",
      "\n",
      "Epoch 00066: val_loss improved from 0.89158 to 0.89142, saving model to dense_resnetfeats_128(dropout05_binary_upsampled2x)_2.h5\n",
      "Epoch 67/1000\n",
      "3352/3352 [==============================] - 0s 50us/step - loss: 0.8586 - acc: 0.7005 - val_loss: 0.8913 - val_acc: 0.6794\n",
      "\n",
      "Epoch 00067: val_loss improved from 0.89142 to 0.89128, saving model to dense_resnetfeats_128(dropout05_binary_upsampled2x)_2.h5\n",
      "Epoch 68/1000\n",
      "3352/3352 [==============================] - 0s 45us/step - loss: 0.8614 - acc: 0.7041 - val_loss: 0.8910 - val_acc: 0.6794\n",
      "\n",
      "Epoch 00068: val_loss improved from 0.89128 to 0.89103, saving model to dense_resnetfeats_128(dropout05_binary_upsampled2x)_2.h5\n",
      "Epoch 69/1000\n",
      "3352/3352 [==============================] - 0s 42us/step - loss: 0.8380 - acc: 0.7061 - val_loss: 0.8906 - val_acc: 0.6806\n",
      "\n",
      "Epoch 00069: val_loss improved from 0.89103 to 0.89063, saving model to dense_resnetfeats_128(dropout05_binary_upsampled2x)_2.h5\n",
      "Epoch 70/1000\n",
      "3352/3352 [==============================] - 0s 47us/step - loss: 0.8557 - acc: 0.6897 - val_loss: 0.8904 - val_acc: 0.6806\n",
      "\n",
      "Epoch 00070: val_loss improved from 0.89063 to 0.89037, saving model to dense_resnetfeats_128(dropout05_binary_upsampled2x)_2.h5\n",
      "Epoch 71/1000\n",
      "3352/3352 [==============================] - 0s 43us/step - loss: 0.8458 - acc: 0.6921 - val_loss: 0.8903 - val_acc: 0.6830\n",
      "\n",
      "Epoch 00071: val_loss improved from 0.89037 to 0.89026, saving model to dense_resnetfeats_128(dropout05_binary_upsampled2x)_2.h5\n",
      "Epoch 72/1000\n",
      "3352/3352 [==============================] - 0s 42us/step - loss: 0.8496 - acc: 0.7038 - val_loss: 0.8900 - val_acc: 0.6841\n",
      "\n",
      "Epoch 00072: val_loss improved from 0.89026 to 0.89002, saving model to dense_resnetfeats_128(dropout05_binary_upsampled2x)_2.h5\n",
      "Epoch 73/1000\n",
      "3352/3352 [==============================] - 0s 49us/step - loss: 0.8495 - acc: 0.6978 - val_loss: 0.8897 - val_acc: 0.6853\n",
      "\n",
      "Epoch 00073: val_loss improved from 0.89002 to 0.88968, saving model to dense_resnetfeats_128(dropout05_binary_upsampled2x)_2.h5\n",
      "Epoch 74/1000\n",
      "3352/3352 [==============================] - 0s 44us/step - loss: 0.8432 - acc: 0.7094 - val_loss: 0.8893 - val_acc: 0.6865\n",
      "\n",
      "Epoch 00074: val_loss improved from 0.88968 to 0.88927, saving model to dense_resnetfeats_128(dropout05_binary_upsampled2x)_2.h5\n",
      "Epoch 75/1000\n",
      "3352/3352 [==============================] - 0s 51us/step - loss: 0.8366 - acc: 0.7082 - val_loss: 0.8889 - val_acc: 0.6865\n",
      "\n",
      "Epoch 00075: val_loss improved from 0.88927 to 0.88892, saving model to dense_resnetfeats_128(dropout05_binary_upsampled2x)_2.h5\n",
      "Epoch 76/1000\n",
      "3352/3352 [==============================] - 0s 43us/step - loss: 0.8474 - acc: 0.6906 - val_loss: 0.8885 - val_acc: 0.6877\n",
      "\n",
      "Epoch 00076: val_loss improved from 0.88892 to 0.88851, saving model to dense_resnetfeats_128(dropout05_binary_upsampled2x)_2.h5\n",
      "Epoch 77/1000\n",
      "3352/3352 [==============================] - 0s 45us/step - loss: 0.8506 - acc: 0.6981 - val_loss: 0.8885 - val_acc: 0.6925\n",
      "\n",
      "Epoch 00077: val_loss improved from 0.88851 to 0.88845, saving model to dense_resnetfeats_128(dropout05_binary_upsampled2x)_2.h5\n",
      "Epoch 78/1000\n",
      "3352/3352 [==============================] - 0s 43us/step - loss: 0.8313 - acc: 0.7154 - val_loss: 0.8881 - val_acc: 0.6913\n",
      "\n",
      "Epoch 00078: val_loss improved from 0.88845 to 0.88811, saving model to dense_resnetfeats_128(dropout05_binary_upsampled2x)_2.h5\n",
      "Epoch 79/1000\n",
      "3352/3352 [==============================] - 0s 45us/step - loss: 0.8481 - acc: 0.6987 - val_loss: 0.8879 - val_acc: 0.6925\n",
      "\n",
      "Epoch 00079: val_loss improved from 0.88811 to 0.88785, saving model to dense_resnetfeats_128(dropout05_binary_upsampled2x)_2.h5\n",
      "Epoch 80/1000\n",
      "3352/3352 [==============================] - 0s 46us/step - loss: 0.8390 - acc: 0.7100 - val_loss: 0.8878 - val_acc: 0.6937\n",
      "\n",
      "Epoch 00080: val_loss improved from 0.88785 to 0.88777, saving model to dense_resnetfeats_128(dropout05_binary_upsampled2x)_2.h5\n",
      "Epoch 81/1000\n",
      "3352/3352 [==============================] - 0s 42us/step - loss: 0.8323 - acc: 0.7106 - val_loss: 0.8878 - val_acc: 0.6937\n",
      "\n",
      "Epoch 00081: val_loss improved from 0.88777 to 0.88777, saving model to dense_resnetfeats_128(dropout05_binary_upsampled2x)_2.h5\n",
      "Epoch 82/1000\n",
      "3352/3352 [==============================] - 0s 44us/step - loss: 0.8218 - acc: 0.7047 - val_loss: 0.8876 - val_acc: 0.6925\n",
      "\n",
      "Epoch 00082: val_loss improved from 0.88777 to 0.88762, saving model to dense_resnetfeats_128(dropout05_binary_upsampled2x)_2.h5\n",
      "Epoch 83/1000\n",
      "3352/3352 [==============================] - 0s 42us/step - loss: 0.8248 - acc: 0.7133 - val_loss: 0.8873 - val_acc: 0.6949\n",
      "\n",
      "Epoch 00083: val_loss improved from 0.88762 to 0.88729, saving model to dense_resnetfeats_128(dropout05_binary_upsampled2x)_2.h5\n",
      "Epoch 84/1000\n",
      "3352/3352 [==============================] - 0s 49us/step - loss: 0.8368 - acc: 0.7118 - val_loss: 0.8871 - val_acc: 0.6949\n",
      "\n",
      "Epoch 00084: val_loss improved from 0.88729 to 0.88706, saving model to dense_resnetfeats_128(dropout05_binary_upsampled2x)_2.h5\n",
      "Epoch 85/1000\n",
      "3352/3352 [==============================] - 0s 43us/step - loss: 0.8323 - acc: 0.7047 - val_loss: 0.8870 - val_acc: 0.6949\n",
      "\n",
      "Epoch 00085: val_loss improved from 0.88706 to 0.88699, saving model to dense_resnetfeats_128(dropout05_binary_upsampled2x)_2.h5\n",
      "Epoch 86/1000\n",
      "3352/3352 [==============================] - 0s 50us/step - loss: 0.8233 - acc: 0.7118 - val_loss: 0.8868 - val_acc: 0.6973\n",
      "\n",
      "Epoch 00086: val_loss improved from 0.88699 to 0.88679, saving model to dense_resnetfeats_128(dropout05_binary_upsampled2x)_2.h5\n",
      "Epoch 87/1000\n",
      "3352/3352 [==============================] - 0s 42us/step - loss: 0.8106 - acc: 0.7181 - val_loss: 0.8868 - val_acc: 0.6973\n",
      "\n",
      "Epoch 00087: val_loss did not improve from 0.88679\n",
      "Epoch 88/1000\n",
      "3352/3352 [==============================] - 0s 42us/step - loss: 0.8337 - acc: 0.7085 - val_loss: 0.8867 - val_acc: 0.6973\n",
      "\n",
      "Epoch 00088: val_loss improved from 0.88679 to 0.88671, saving model to dense_resnetfeats_128(dropout05_binary_upsampled2x)_2.h5\n",
      "Epoch 89/1000\n",
      "3352/3352 [==============================] - 0s 44us/step - loss: 0.8167 - acc: 0.7181 - val_loss: 0.8866 - val_acc: 0.6985\n",
      "\n",
      "Epoch 00089: val_loss improved from 0.88671 to 0.88661, saving model to dense_resnetfeats_128(dropout05_binary_upsampled2x)_2.h5\n",
      "Epoch 90/1000\n",
      "3352/3352 [==============================] - 0s 46us/step - loss: 0.8082 - acc: 0.7270 - val_loss: 0.8865 - val_acc: 0.6996\n",
      "\n",
      "Epoch 00090: val_loss improved from 0.88661 to 0.88648, saving model to dense_resnetfeats_128(dropout05_binary_upsampled2x)_2.h5\n",
      "Epoch 91/1000\n",
      "3352/3352 [==============================] - 0s 43us/step - loss: 0.8081 - acc: 0.7181 - val_loss: 0.8863 - val_acc: 0.7008\n",
      "\n",
      "Epoch 00091: val_loss improved from 0.88648 to 0.88625, saving model to dense_resnetfeats_128(dropout05_binary_upsampled2x)_2.h5\n",
      "Epoch 92/1000\n",
      "3352/3352 [==============================] - 0s 41us/step - loss: 0.8149 - acc: 0.7196 - val_loss: 0.8860 - val_acc: 0.7008\n",
      "\n",
      "Epoch 00092: val_loss improved from 0.88625 to 0.88602, saving model to dense_resnetfeats_128(dropout05_binary_upsampled2x)_2.h5\n",
      "Epoch 93/1000\n"
     ]
    },
    {
     "name": "stdout",
     "output_type": "stream",
     "text": [
      "3352/3352 [==============================] - 0s 52us/step - loss: 0.7862 - acc: 0.7327 - val_loss: 0.8858 - val_acc: 0.7008\n",
      "\n",
      "Epoch 00093: val_loss improved from 0.88602 to 0.88583, saving model to dense_resnetfeats_128(dropout05_binary_upsampled2x)_2.h5\n",
      "Epoch 94/1000\n",
      "3352/3352 [==============================] - 0s 41us/step - loss: 0.8089 - acc: 0.7234 - val_loss: 0.8855 - val_acc: 0.7008\n",
      "\n",
      "Epoch 00094: val_loss improved from 0.88583 to 0.88551, saving model to dense_resnetfeats_128(dropout05_binary_upsampled2x)_2.h5\n",
      "Epoch 95/1000\n",
      "3352/3352 [==============================] - 0s 49us/step - loss: 0.8195 - acc: 0.7160 - val_loss: 0.8852 - val_acc: 0.7020\n",
      "\n",
      "Epoch 00095: val_loss improved from 0.88551 to 0.88522, saving model to dense_resnetfeats_128(dropout05_binary_upsampled2x)_2.h5\n",
      "Epoch 96/1000\n",
      "3352/3352 [==============================] - 0s 46us/step - loss: 0.8087 - acc: 0.7196 - val_loss: 0.8849 - val_acc: 0.7020\n",
      "\n",
      "Epoch 00096: val_loss improved from 0.88522 to 0.88493, saving model to dense_resnetfeats_128(dropout05_binary_upsampled2x)_2.h5\n",
      "Epoch 97/1000\n",
      "3352/3352 [==============================] - 0s 44us/step - loss: 0.7973 - acc: 0.7226 - val_loss: 0.8847 - val_acc: 0.7020\n",
      "\n",
      "Epoch 00097: val_loss improved from 0.88493 to 0.88470, saving model to dense_resnetfeats_128(dropout05_binary_upsampled2x)_2.h5\n",
      "Epoch 98/1000\n",
      "3352/3352 [==============================] - 0s 47us/step - loss: 0.8141 - acc: 0.7172 - val_loss: 0.8848 - val_acc: 0.7020\n",
      "\n",
      "Epoch 00098: val_loss did not improve from 0.88470\n",
      "Epoch 99/1000\n",
      "3352/3352 [==============================] - 0s 45us/step - loss: 0.8033 - acc: 0.7187 - val_loss: 0.8848 - val_acc: 0.7020\n",
      "\n",
      "Epoch 00099: val_loss did not improve from 0.88470\n",
      "Epoch 100/1000\n",
      "3352/3352 [==============================] - 0s 42us/step - loss: 0.8062 - acc: 0.7267 - val_loss: 0.8849 - val_acc: 0.7020\n",
      "\n",
      "Epoch 00100: val_loss did not improve from 0.88470\n",
      "Epoch 101/1000\n",
      "3352/3352 [==============================] - 0s 42us/step - loss: 0.8027 - acc: 0.7339 - val_loss: 0.8847 - val_acc: 0.7020\n",
      "\n",
      "Epoch 00101: val_loss improved from 0.88470 to 0.88466, saving model to dense_resnetfeats_128(dropout05_binary_upsampled2x)_2.h5\n",
      "Epoch 102/1000\n",
      "3352/3352 [==============================] - 0s 43us/step - loss: 0.8022 - acc: 0.7240 - val_loss: 0.8846 - val_acc: 0.7020\n",
      "\n",
      "Epoch 00102: val_loss improved from 0.88466 to 0.88456, saving model to dense_resnetfeats_128(dropout05_binary_upsampled2x)_2.h5\n",
      "Epoch 103/1000\n",
      "3352/3352 [==============================] - 0s 42us/step - loss: 0.7904 - acc: 0.7276 - val_loss: 0.8843 - val_acc: 0.7020\n",
      "\n",
      "Epoch 00103: val_loss improved from 0.88456 to 0.88432, saving model to dense_resnetfeats_128(dropout05_binary_upsampled2x)_2.h5\n",
      "Epoch 104/1000\n",
      "3352/3352 [==============================] - 0s 51us/step - loss: 0.7863 - acc: 0.7270 - val_loss: 0.8841 - val_acc: 0.7020\n",
      "\n",
      "Epoch 00104: val_loss improved from 0.88432 to 0.88405, saving model to dense_resnetfeats_128(dropout05_binary_upsampled2x)_2.h5\n",
      "Epoch 105/1000\n",
      "3352/3352 [==============================] - 0s 43us/step - loss: 0.7955 - acc: 0.7249 - val_loss: 0.8840 - val_acc: 0.7032\n",
      "\n",
      "Epoch 00105: val_loss improved from 0.88405 to 0.88398, saving model to dense_resnetfeats_128(dropout05_binary_upsampled2x)_2.h5\n",
      "Epoch 106/1000\n",
      "3352/3352 [==============================] - 0s 46us/step - loss: 0.7928 - acc: 0.7255 - val_loss: 0.8839 - val_acc: 0.7044\n",
      "\n",
      "Epoch 00106: val_loss improved from 0.88398 to 0.88390, saving model to dense_resnetfeats_128(dropout05_binary_upsampled2x)_2.h5\n",
      "Epoch 107/1000\n",
      "3352/3352 [==============================] - 0s 44us/step - loss: 0.8024 - acc: 0.7276 - val_loss: 0.8836 - val_acc: 0.7044\n",
      "\n",
      "Epoch 00107: val_loss improved from 0.88390 to 0.88365, saving model to dense_resnetfeats_128(dropout05_binary_upsampled2x)_2.h5\n",
      "Epoch 108/1000\n",
      "3352/3352 [==============================] - 0s 48us/step - loss: 0.7945 - acc: 0.7232 - val_loss: 0.8834 - val_acc: 0.7044\n",
      "\n",
      "Epoch 00108: val_loss improved from 0.88365 to 0.88345, saving model to dense_resnetfeats_128(dropout05_binary_upsampled2x)_2.h5\n",
      "Epoch 109/1000\n",
      "3352/3352 [==============================] - 0s 42us/step - loss: 0.7800 - acc: 0.7252 - val_loss: 0.8833 - val_acc: 0.7044\n",
      "\n",
      "Epoch 00109: val_loss improved from 0.88345 to 0.88334, saving model to dense_resnetfeats_128(dropout05_binary_upsampled2x)_2.h5\n",
      "Epoch 110/1000\n",
      "3352/3352 [==============================] - 0s 43us/step - loss: 0.7992 - acc: 0.7318 - val_loss: 0.8832 - val_acc: 0.7032\n",
      "\n",
      "Epoch 00110: val_loss improved from 0.88334 to 0.88322, saving model to dense_resnetfeats_128(dropout05_binary_upsampled2x)_2.h5\n",
      "Epoch 111/1000\n",
      "3352/3352 [==============================] - 0s 41us/step - loss: 0.7705 - acc: 0.7405 - val_loss: 0.8829 - val_acc: 0.7032\n",
      "\n",
      "Epoch 00111: val_loss improved from 0.88322 to 0.88290, saving model to dense_resnetfeats_128(dropout05_binary_upsampled2x)_2.h5\n",
      "Epoch 112/1000\n",
      "3352/3352 [==============================] - 0s 43us/step - loss: 0.7865 - acc: 0.7315 - val_loss: 0.8829 - val_acc: 0.7032\n",
      "\n",
      "Epoch 00112: val_loss did not improve from 0.88290\n",
      "Epoch 113/1000\n",
      "3352/3352 [==============================] - 0s 42us/step - loss: 0.7792 - acc: 0.7354 - val_loss: 0.8827 - val_acc: 0.7020\n",
      "\n",
      "Epoch 00113: val_loss improved from 0.88290 to 0.88271, saving model to dense_resnetfeats_128(dropout05_binary_upsampled2x)_2.h5\n",
      "Epoch 114/1000\n",
      "3352/3352 [==============================] - 0s 43us/step - loss: 0.7937 - acc: 0.7294 - val_loss: 0.8824 - val_acc: 0.7020\n",
      "\n",
      "Epoch 00114: val_loss improved from 0.88271 to 0.88236, saving model to dense_resnetfeats_128(dropout05_binary_upsampled2x)_2.h5\n",
      "Epoch 115/1000\n",
      "3352/3352 [==============================] - 0s 42us/step - loss: 0.7802 - acc: 0.7267 - val_loss: 0.8820 - val_acc: 0.7020\n",
      "\n",
      "Epoch 00115: val_loss improved from 0.88236 to 0.88205, saving model to dense_resnetfeats_128(dropout05_binary_upsampled2x)_2.h5\n",
      "Epoch 116/1000\n",
      "3352/3352 [==============================] - 0s 49us/step - loss: 0.7785 - acc: 0.7419 - val_loss: 0.8820 - val_acc: 0.7044\n",
      "\n",
      "Epoch 00116: val_loss improved from 0.88205 to 0.88203, saving model to dense_resnetfeats_128(dropout05_binary_upsampled2x)_2.h5\n",
      "Epoch 117/1000\n",
      "3352/3352 [==============================] - 0s 41us/step - loss: 0.7635 - acc: 0.7458 - val_loss: 0.8821 - val_acc: 0.7044\n",
      "\n",
      "Epoch 00117: val_loss did not improve from 0.88203\n",
      "Epoch 118/1000\n",
      "3352/3352 [==============================] - 0s 46us/step - loss: 0.7709 - acc: 0.7402 - val_loss: 0.8821 - val_acc: 0.7044\n",
      "\n",
      "Epoch 00118: val_loss did not improve from 0.88203\n",
      "Epoch 119/1000\n",
      "3352/3352 [==============================] - 0s 43us/step - loss: 0.7609 - acc: 0.7393 - val_loss: 0.8822 - val_acc: 0.7044\n",
      "\n",
      "Epoch 00119: val_loss did not improve from 0.88203\n",
      "Epoch 120/1000\n",
      "3352/3352 [==============================] - 0s 44us/step - loss: 0.7551 - acc: 0.7536 - val_loss: 0.8821 - val_acc: 0.7044\n",
      "\n",
      "Epoch 00120: val_loss did not improve from 0.88203\n",
      "Epoch 121/1000\n",
      "3352/3352 [==============================] - 0s 47us/step - loss: 0.7663 - acc: 0.7384 - val_loss: 0.8821 - val_acc: 0.7044\n",
      "\n",
      "Epoch 00121: val_loss did not improve from 0.88203\n"
     ]
    },
    {
     "data": {
      "text/plain": [
       "<keras.callbacks.History at 0x7f4dd80c5860>"
      ]
     },
     "execution_count": 24,
     "metadata": {},
     "output_type": "execute_result"
    }
   ],
   "source": [
    "dense_model.fit(X_train,\n",
    "                y_train,\n",
    "                epochs=1000,\n",
    "                batch_size=512,\n",
    "                callbacks=[checkpoint, early_stop],\n",
    "                shuffle=True,\n",
    "                validation_data=(X_test, y_test),\n",
    "                #class_weight=meron._get_class_weights(merged_df.new_class, neural_net=True),\n",
    "                class_weight=[0.69, 1.75],\n",
    "                verbose=1)"
   ]
  },
  {
   "cell_type": "code",
   "execution_count": 28,
   "metadata": {},
   "outputs": [],
   "source": [
    "dense_model=load_model('dense_resnetfeats_128(dropout05_binary_upsampled2x).h5')\n",
    "binary_prediction=dense_model.predict(X_test)\n",
    "pred_label=np.round(binary_prediction)"
   ]
  },
  {
   "cell_type": "markdown",
   "metadata": {},
   "source": [
    "# Confusion matrix\n"
   ]
  },
  {
   "cell_type": "code",
   "execution_count": 29,
   "metadata": {},
   "outputs": [],
   "source": [
    "import itertools\n",
    "def plot_confusion_matrix(cm, classes,\n",
    "                          normalize=False,\n",
    "                          title='Confusion matrix',\n",
    "                          cmap=plt.cm.Blues):\n",
    "    \"\"\"\n",
    "    This function prints and plots the confusion matrix.\n",
    "    Normalization can be applied by setting `normalize=True`.\n",
    "    \"\"\"\n",
    "    if normalize:\n",
    "        #cm = cm.astype('float') / cm.sum(axis=1)[:, np.newaxis]\n",
    "        cm = np.round(cm.astype('float') / cm.sum(axis=1)[:, np.newaxis], 2)\n",
    "        print(\"Normalized confusion matrix\")\n",
    "    else:\n",
    "        print('Confusion matrix, without normalization')\n",
    "\n",
    "    print(cm)\n",
    "    \n",
    "    plt.imshow(cm, interpolation='nearest', cmap=cmap)\n",
    "    plt.title(title)\n",
    "    plt.colorbar()\n",
    "    tick_marks = np.arange(len(classes))\n",
    "    plt.xticks(tick_marks, classes, rotation=45)\n",
    "    plt.yticks(tick_marks, classes)\n",
    "\n",
    "    fmt = '.2f' if normalize else 'd'\n",
    "    thresh = cm.max() / 2.\n",
    "    for i, j in itertools.product(range(cm.shape[0]), range(cm.shape[1])):\n",
    "        plt.text(j, i, format(cm[i, j], fmt),\n",
    "                 horizontalalignment=\"center\",\n",
    "                 color=\"white\" if cm[i, j] > thresh else \"black\")\n",
    "\n",
    "    plt.tight_layout()\n",
    "    plt.ylabel('True label')\n",
    "    plt.xlabel('Predicted label')\n"
   ]
  },
  {
   "cell_type": "code",
   "execution_count": 30,
   "metadata": {
    "scrolled": true
   },
   "outputs": [
    {
     "name": "stdout",
     "output_type": "stream",
     "text": [
      "Confusion matrix, without normalization\n",
      "[[518  81]\n",
      " [186  54]]\n"
     ]
    },
    {
     "data": {
      "image/png": "[encoded data removed]",
      "text/plain": [
       "<Figure size 432x288 with 2 Axes>"
      ]
     },
     "metadata": {},
     "output_type": "display_data"
    }
   ],
   "source": [
    "cnf_matrix=confusion_matrix(y_test, pred_label)\n",
    "plt.figure()\n",
    "plot_confusion_matrix(cnf_matrix, classes=('normal','malnutritioned'))"
   ]
  },
  {
   "cell_type": "markdown",
   "metadata": {},
   "source": [
    "# F1 score and ROC"
   ]
  },
  {
   "cell_type": "code",
   "execution_count": 40,
   "metadata": {},
   "outputs": [
    {
     "name": "stdout",
     "output_type": "stream",
     "text": [
      "AUC score: 0.613411\n",
      "Accuracy score: 0.649583\n",
      "F1 score: 0.377119\n"
     ]
    }
   ],
   "source": [
    "from sklearn.metrics import roc_auc_score,f1_score, roc_curve, auc, accuracy_score\n",
    "print('AUC score: %f' %roc_auc_score(y_test, binary_prediction))\n",
    "print('Accuracy score: %f' %accuracy_score(y_test, np.round(binary_prediction)))\n",
    "print('F1 score: %f' %f1_score(y_test, np.round(binary_prediction)))\n",
    "\n",
    "fpr, tpr, _ = roc_curve(y_test, binary_prediction)\n"
   ]
  },
  {
   "cell_type": "code",
   "execution_count": 41,
   "metadata": {},
   "outputs": [
    {
     "data": {
      "image/png": "[encoded data removed]",
      "text/plain": [
       "<Figure size 432x288 with 1 Axes>"
      ]
     },
     "metadata": {},
     "output_type": "display_data"
    }
   ],
   "source": [
    "\n",
    "plt.figure()\n",
    "lw = 2\n",
    "plt.plot(fpr, tpr, color='darkorange',\n",
    "         lw=lw, label='ROC curve (area = %0.2f)' % roc_auc_score(y_test, binary_prediction))\n",
    "plt.plot([0, 1], [0, 1], color='navy', lw=lw, linestyle='--')\n",
    "plt.xlim([0.0, 1.0])\n",
    "plt.ylim([0.0, 1.05])\n",
    "plt.xlabel('False Positive Rate')\n",
    "plt.ylabel('True Positive Rate')\n",
    "plt.title('Receiver operating characteristic example')\n",
    "plt.legend(loc=\"lower right\")\n",
    "plt.show()"
   ]
  },
  {
   "cell_type": "code",
   "execution_count": null,
   "metadata": {},
   "outputs": [],
   "source": []
  },
  {
   "cell_type": "code",
   "execution_count": null,
   "metadata": {},
   "outputs": [],
   "source": []
  },
  {
   "cell_type": "markdown",
   "metadata": {},
   "source": [
    "# Model ensembling"
   ]
  },
  {
   "cell_type": "code",
   "execution_count": 31,
   "metadata": {},
   "outputs": [],
   "source": [
    "from sklearn.svm import SVC\n",
    "from sklearn.ensemble import ExtraTreesClassifier\n",
    "from sklearn.ensemble import RandomForestClassifier\n",
    "from sklearn import preprocessing"
   ]
  },
  {
   "cell_type": "code",
   "execution_count": 32,
   "metadata": {},
   "outputs": [],
   "source": [
    "model_1=load_model('dense_resnetfeats_32(dropout05_binary_upsampled2x).h5')\n",
    "model_2=load_model('dense_resnetfeats_48(dropout05_binary_upsampled2x).h5')\n",
    "model_3=load_model('dense_resnetfeats_128(dropout05_binary_upsampled2x).h5')\n"
   ]
  },
  {
   "cell_type": "code",
   "execution_count": 33,
   "metadata": {},
   "outputs": [
    {
     "name": "stdout",
     "output_type": "stream",
     "text": [
      "839/839 [==============================] - 0s 158us/step\n",
      "839/839 [==============================] - 0s 151us/step\n",
      "839/839 [==============================] - 0s 199us/step\n"
     ]
    }
   ],
   "source": [
    "prediction_1=model_1.predict(X_test, verbose=1)\n",
    "prediction_2=model_2.predict(X_test, verbose=1)\n",
    "prediction_3=model_3.predict(X_test, verbose=1)"
   ]
  },
  {
   "cell_type": "code",
   "execution_count": 34,
   "metadata": {},
   "outputs": [],
   "source": [
    "total_pred_svm=np.concatenate((prediction_1, prediction_2,prediction_3), axis=1)\n",
    "total_target_svm=y_test"
   ]
  },
  {
   "cell_type": "code",
   "execution_count": 37,
   "metadata": {},
   "outputs": [
    {
     "data": {
      "text/plain": [
       "(839, 3)"
      ]
     },
     "execution_count": 37,
     "metadata": {},
     "output_type": "execute_result"
    }
   ],
   "source": [
    "total_pred_svm.shape"
   ]
  },
  {
   "cell_type": "code",
   "execution_count": 296,
   "metadata": {},
   "outputs": [],
   "source": [
    "x_train_svm, x_test_svm, y_train_svm, y_test_svm = train_test_split(total_pred_svm, total_target_svm, test_size=0.2, \n",
    "                                                        random_state=42, stratify=total_target_svm)\n"
   ]
  },
  {
   "cell_type": "code",
   "execution_count": 128,
   "metadata": {},
   "outputs": [
    {
     "name": "stdout",
     "output_type": "stream",
     "text": [
      "(670, 9)\n",
      "(168, 9)\n"
     ]
    }
   ],
   "source": [
    "print(x_train_svm.shape)\n",
    "print(x_test_svm.shape)"
   ]
  },
  {
   "cell_type": "code",
   "execution_count": 40,
   "metadata": {},
   "outputs": [
    {
     "data": {
      "text/plain": [
       "0.6853396901072706"
      ]
     },
     "execution_count": 40,
     "metadata": {},
     "output_type": "execute_result"
    }
   ],
   "source": [
    "## take the mean of hte predicted values\n",
    "final_pred=[]\n",
    "for i, prob in enumerate(total_pred_svm):\n",
    "    class_mean=np.mean((prob))\n",
    "    \n",
    "    final_pred.append(class_mean)  \n",
    "    \n",
    "accuracy_score(total_target_svm, np.round(final_pred))    "
   ]
  },
  {
   "cell_type": "code",
   "execution_count": 42,
   "metadata": {},
   "outputs": [],
   "source": []
  },
  {
   "cell_type": "code",
   "execution_count": 43,
   "metadata": {},
   "outputs": [
    {
     "name": "stdout",
     "output_type": "stream",
     "text": [
      "Confusion matrix, without normalization\n",
      "[[518  81]\n",
      " [183  57]]\n"
     ]
    },
    {
     "data": {
      "image/png": "[encoded data removed]",
      "text/plain": [
       "<Figure size 432x288 with 2 Axes>"
      ]
     },
     "metadata": {},
     "output_type": "display_data"
    }
   ],
   "source": [
    "cnf_matrix=confusion_matrix(total_target_svm, np.round(final_pred))\n",
    "plt.figure()\n",
    "plot_confusion_matrix(cnf_matrix, classes=('normal','malnutritioned'))"
   ]
  },
  {
   "cell_type": "markdown",
   "metadata": {},
   "source": [
    "# SVM fit on three models"
   ]
  },
  {
   "cell_type": "code",
   "execution_count": 151,
   "metadata": {},
   "outputs": [],
   "source": [
    "from sklearn.metrics import accuracy_score\n",
    "from sklearn.model_selection import cross_val_score\n",
    "from sklearn import preprocessing"
   ]
  },
  {
   "cell_type": "code",
   "execution_count": 152,
   "metadata": {},
   "outputs": [],
   "source": [
    "clf = SVC(C=1.5, kernel='rbf',random_state=18,class_weight='balanced',tol=0.0001)"
   ]
  },
  {
   "cell_type": "code",
   "execution_count": 153,
   "metadata": {},
   "outputs": [],
   "source": [
    "svm_model=clf.fit(x_train_svm, y_train_svm)"
   ]
  },
  {
   "cell_type": "code",
   "execution_count": 154,
   "metadata": {},
   "outputs": [
    {
     "data": {
      "text/plain": [
       "0.5535714285714286"
      ]
     },
     "execution_count": 154,
     "metadata": {},
     "output_type": "execute_result"
    }
   ],
   "source": [
    "svm_pred=svm_model.predict(x_test_svm)\n",
    "accuracy_score(y_test_svm, svm_pred) #accuracy"
   ]
  },
  {
   "cell_type": "code",
   "execution_count": 155,
   "metadata": {},
   "outputs": [
    {
     "name": "stderr",
     "output_type": "stream",
     "text": [
      "/usr/local/lib/python3.5/dist-packages/sklearn/model_selection/_split.py:605: Warning: The least populated class in y has only 2 members, which is too few. The minimum number of members in any class cannot be less than n_splits=5.\n",
      "  % (min_groups, self.n_splits)), Warning)\n"
     ]
    },
    {
     "name": "stdout",
     "output_type": "stream",
     "text": [
      "[0.53254438 0.65680473 0.58083832 0.47904192 0.28915663]\n"
     ]
    }
   ],
   "source": [
    "cv_score = cross_val_score(svm_model, total_pred_svm, total_target_svm, cv=5)\n",
    "print(cv_score)"
   ]
  },
  {
   "cell_type": "code",
   "execution_count": 156,
   "metadata": {
    "scrolled": true
   },
   "outputs": [
    {
     "name": "stdout",
     "output_type": "stream",
     "text": [
      "Confusion matrix, without normalization\n",
      "[[ 4  6  0]\n",
      " [63 89  6]\n",
      " [ 0  0  0]]\n"
     ]
    },
    {
     "data": {
      "image/png": "[encoded data removed]",
      "text/plain": [
       "<Figure size 432x288 with 2 Axes>"
      ]
     },
     "metadata": {},
     "output_type": "display_data"
    }
   ],
   "source": [
    "cnf_matrix=confusion_matrix(y_test_svm, svm_pred)\n",
    "plt.figure()\n",
    "plot_confusion_matrix(cnf_matrix, classes=('maln_mam','maln_normal','maln_sam'))"
   ]
  },
  {
   "cell_type": "markdown",
   "metadata": {},
   "source": [
    "# Extra tree"
   ]
  },
  {
   "cell_type": "code",
   "execution_count": 215,
   "metadata": {},
   "outputs": [],
   "source": [
    "e_tree = ExtraTreesClassifier(n_estimators=10, max_depth=8,min_samples_split=2, max_features=None,\n",
    "                              random_state=18,class_weight='balanced')"
   ]
  },
  {
   "cell_type": "code",
   "execution_count": 216,
   "metadata": {},
   "outputs": [
    {
     "data": {
      "text/plain": [
       "ExtraTreesClassifier(bootstrap=False, class_weight='balanced',\n",
       "           criterion='gini', max_depth=8, max_features=None,\n",
       "           max_leaf_nodes=None, min_impurity_decrease=0.0,\n",
       "           min_impurity_split=None, min_samples_leaf=1,\n",
       "           min_samples_split=2, min_weight_fraction_leaf=0.0,\n",
       "           n_estimators=10, n_jobs=1, oob_score=False, random_state=18,\n",
       "           verbose=0, warm_start=False)"
      ]
     },
     "execution_count": 216,
     "metadata": {},
     "output_type": "execute_result"
    }
   ],
   "source": [
    "e_tree.fit(x_train_svm, y_train_svm)"
   ]
  },
  {
   "cell_type": "code",
   "execution_count": 217,
   "metadata": {},
   "outputs": [
    {
     "data": {
      "text/plain": [
       "0.8690476190476191"
      ]
     },
     "execution_count": 217,
     "metadata": {},
     "output_type": "execute_result"
    }
   ],
   "source": [
    "#for stratified validation sample\n",
    "e_tree_pred=e_tree.predict(x_test_svm)\n",
    "\n",
    "e_tree.score(x_test_svm, y_test_svm)"
   ]
  },
  {
   "cell_type": "code",
   "execution_count": 218,
   "metadata": {},
   "outputs": [
    {
     "name": "stdout",
     "output_type": "stream",
     "text": [
      "[0.89349112 0.89940828 0.89221557 0.86227545 0.8373494 ]\n"
     ]
    },
    {
     "name": "stderr",
     "output_type": "stream",
     "text": [
      "/usr/local/lib/python3.5/dist-packages/sklearn/model_selection/_split.py:605: Warning: The least populated class in y has only 2 members, which is too few. The minimum number of members in any class cannot be less than n_splits=5.\n",
      "  % (min_groups, self.n_splits)), Warning)\n"
     ]
    }
   ],
   "source": [
    "cv_score = cross_val_score(e_tree, total_pred_svm, total_target_svm, cv=5)\n",
    "print(cv_score)"
   ]
  },
  {
   "cell_type": "code",
   "execution_count": 219,
   "metadata": {},
   "outputs": [],
   "source": [
    "cnf_matrix=confusion_matrix(y_test_svm,e_tree_pred)"
   ]
  },
  {
   "cell_type": "code",
   "execution_count": 220,
   "metadata": {
    "scrolled": true
   },
   "outputs": [
    {
     "name": "stdout",
     "output_type": "stream",
     "text": [
      "Confusion matrix, without normalization\n",
      "[[  1   9]\n",
      " [ 13 145]]\n"
     ]
    },
    {
     "data": {
      "image/png": "[encoded data removed]",
      "text/plain": [
       "<Figure size 432x288 with 2 Axes>"
      ]
     },
     "metadata": {},
     "output_type": "display_data"
    }
   ],
   "source": [
    "plt.figure()\n",
    "plot_confusion_matrix(cnf_matrix, classes=('maln_mam','maln_normal','maln_sam'))"
   ]
  },
  {
   "cell_type": "markdown",
   "metadata": {},
   "source": [
    "# Random Forest did not perform well, it didn't catch the any of the sam class"
   ]
  },
  {
   "cell_type": "code",
   "execution_count": 221,
   "metadata": {},
   "outputs": [],
   "source": [
    "rf = RandomForestClassifier(n_estimators=20, max_depth=None, min_samples_split=2, \n",
    "                            class_weight='balanced',random_state=18)"
   ]
  },
  {
   "cell_type": "code",
   "execution_count": 222,
   "metadata": {},
   "outputs": [
    {
     "data": {
      "text/plain": [
       "RandomForestClassifier(bootstrap=True, class_weight='balanced',\n",
       "            criterion='gini', max_depth=None, max_features='auto',\n",
       "            max_leaf_nodes=None, min_impurity_decrease=0.0,\n",
       "            min_impurity_split=None, min_samples_leaf=1,\n",
       "            min_samples_split=2, min_weight_fraction_leaf=0.0,\n",
       "            n_estimators=20, n_jobs=1, oob_score=False, random_state=18,\n",
       "            verbose=0, warm_start=False)"
      ]
     },
     "execution_count": 222,
     "metadata": {},
     "output_type": "execute_result"
    }
   ],
   "source": [
    "rf.fit(x_train_svm, y_train_svm)"
   ]
  },
  {
   "cell_type": "code",
   "execution_count": 223,
   "metadata": {},
   "outputs": [
    {
     "data": {
      "text/plain": [
       "0.9345238095238095"
      ]
     },
     "execution_count": 223,
     "metadata": {},
     "output_type": "execute_result"
    }
   ],
   "source": [
    "#for stratified validation sample\n",
    "rf_pred=rf.predict(x_test_svm)\n",
    "rf.score(x_test_svm, y_test_svm) #accuracy\n"
   ]
  },
  {
   "cell_type": "code",
   "execution_count": 109,
   "metadata": {},
   "outputs": [
    {
     "name": "stderr",
     "output_type": "stream",
     "text": [
      "/usr/local/lib/python3.5/dist-packages/sklearn/model_selection/_split.py:605: Warning: The least populated class in y has only 2 members, which is too few. The minimum number of members in any class cannot be less than n_splits=5.\n",
      "  % (min_groups, self.n_splits)), Warning)\n"
     ]
    },
    {
     "name": "stdout",
     "output_type": "stream",
     "text": [
      "[0.93491124 0.93491124 0.94011976 0.94011976 0.94578313]\n"
     ]
    }
   ],
   "source": [
    "cv_score = cross_val_score(rf, total_pred_svm, total_target_svm, cv=5)\n",
    "print(cv_score)"
   ]
  },
  {
   "cell_type": "code",
   "execution_count": 224,
   "metadata": {},
   "outputs": [
    {
     "name": "stdout",
     "output_type": "stream",
     "text": [
      "Confusion matrix, without normalization\n",
      "[[  0  10   0]\n",
      " [  0 157   1]\n",
      " [  0   0   0]]\n"
     ]
    },
    {
     "data": {
      "image/png": "[encoded data removed]",
      "text/plain": [
       "<Figure size 432x288 with 2 Axes>"
      ]
     },
     "metadata": {},
     "output_type": "display_data"
    }
   ],
   "source": [
    "cnf_matrix=confusion_matrix(y_test_svm,rf_pred)\n",
    "plt.figure()\n",
    "plot_confusion_matrix(cnf_matrix, classes=('maln_mam','maln_normal','maln_sam'))"
   ]
  },
  {
   "cell_type": "code",
   "execution_count": 225,
   "metadata": {},
   "outputs": [],
   "source": [
    "## xgb?\n",
    "import xgboost as xgb\n",
    "from xgboost.sklearn import XGBClassifier\n"
   ]
  },
  {
   "cell_type": "code",
   "execution_count": 226,
   "metadata": {},
   "outputs": [],
   "source": [
    "xgb = XGBClassifier(objective='multi:softprob', n_estimators=50, subsample=1.0, gamma=2.0,learning_rate=0.001,\n",
    "                   max_depth=10,random_state=18)\n"
   ]
  },
  {
   "cell_type": "code",
   "execution_count": 227,
   "metadata": {},
   "outputs": [
    {
     "data": {
      "text/plain": [
       "XGBClassifier(base_score=0.5, booster='gbtree', colsample_bylevel=1,\n",
       "       colsample_bytree=1, gamma=2.0, learning_rate=0.001,\n",
       "       max_delta_step=0, max_depth=10, min_child_weight=1, missing=None,\n",
       "       n_estimators=50, n_jobs=1, nthread=None, objective='multi:softprob',\n",
       "       random_state=18, reg_alpha=0, reg_lambda=1, scale_pos_weight=1,\n",
       "       seed=None, silent=True, subsample=1.0)"
      ]
     },
     "execution_count": 227,
     "metadata": {},
     "output_type": "execute_result"
    }
   ],
   "source": [
    "xgb.fit(x_train_svm, y_train_svm)"
   ]
  },
  {
   "cell_type": "code",
   "execution_count": 228,
   "metadata": {},
   "outputs": [
    {
     "name": "stderr",
     "output_type": "stream",
     "text": [
      "/usr/local/lib/python3.5/dist-packages/sklearn/preprocessing/label.py:151: DeprecationWarning: The truth value of an empty array is ambiguous. Returning False, but in future this will result in an error. Use `array.size > 0` to check that an array is not empty.\n",
      "  if diff:\n"
     ]
    },
    {
     "data": {
      "text/plain": [
       "0.9166666666666666"
      ]
     },
     "execution_count": 228,
     "metadata": {},
     "output_type": "execute_result"
    }
   ],
   "source": [
    "#for stratified validation sample\n",
    "xgb_pred=rf.predict(x_test_svm)\n",
    "xgb.score(x_test_svm, y_test_svm) #accuracy\n"
   ]
  },
  {
   "cell_type": "code",
   "execution_count": 229,
   "metadata": {},
   "outputs": [
    {
     "name": "stderr",
     "output_type": "stream",
     "text": [
      "/usr/local/lib/python3.5/dist-packages/sklearn/model_selection/_split.py:605: Warning: The least populated class in y has only 2 members, which is too few. The minimum number of members in any class cannot be less than n_splits=5.\n",
      "  % (min_groups, self.n_splits)), Warning)\n",
      "/usr/local/lib/python3.5/dist-packages/sklearn/preprocessing/label.py:151: DeprecationWarning: The truth value of an empty array is ambiguous. Returning False, but in future this will result in an error. Use `array.size > 0` to check that an array is not empty.\n",
      "  if diff:\n",
      "/usr/local/lib/python3.5/dist-packages/sklearn/preprocessing/label.py:151: DeprecationWarning: The truth value of an empty array is ambiguous. Returning False, but in future this will result in an error. Use `array.size > 0` to check that an array is not empty.\n",
      "  if diff:\n",
      "/usr/local/lib/python3.5/dist-packages/sklearn/preprocessing/label.py:151: DeprecationWarning: The truth value of an empty array is ambiguous. Returning False, but in future this will result in an error. Use `array.size > 0` to check that an array is not empty.\n",
      "  if diff:\n"
     ]
    },
    {
     "name": "stdout",
     "output_type": "stream",
     "text": [
      "[0.92307692 0.93491124 0.92814371 0.94011976 0.94578313]\n"
     ]
    },
    {
     "name": "stderr",
     "output_type": "stream",
     "text": [
      "/usr/local/lib/python3.5/dist-packages/sklearn/preprocessing/label.py:151: DeprecationWarning: The truth value of an empty array is ambiguous. Returning False, but in future this will result in an error. Use `array.size > 0` to check that an array is not empty.\n",
      "  if diff:\n",
      "/usr/local/lib/python3.5/dist-packages/sklearn/preprocessing/label.py:151: DeprecationWarning: The truth value of an empty array is ambiguous. Returning False, but in future this will result in an error. Use `array.size > 0` to check that an array is not empty.\n",
      "  if diff:\n"
     ]
    }
   ],
   "source": [
    "cv_score = cross_val_score(xgb, total_pred_svm, total_target_svm, cv=5)\n",
    "print(cv_score)"
   ]
  },
  {
   "cell_type": "code",
   "execution_count": 230,
   "metadata": {},
   "outputs": [
    {
     "name": "stdout",
     "output_type": "stream",
     "text": [
      "Confusion matrix, without normalization\n",
      "[[  0  10   0]\n",
      " [  0 157   1]\n",
      " [  0   0   0]]\n"
     ]
    },
    {
     "data": {
      "image/png": "[encoded data removed]",
      "text/plain": [
       "<Figure size 432x288 with 2 Axes>"
      ]
     },
     "metadata": {},
     "output_type": "display_data"
    }
   ],
   "source": [
    "cnf_matrix=confusion_matrix(y_test_svm,xgb_pred)\n",
    "plt.figure()\n",
    "plot_confusion_matrix(cnf_matrix, classes=('maln_mam','maln_normal','maln_sam'))"
   ]
  },
  {
   "cell_type": "code",
   "execution_count": null,
   "metadata": {},
   "outputs": [],
   "source": []
  }
 ],
 "metadata": {
  "kernelspec": {
   "display_name": "Python 3",
   "language": "python",
   "name": "python3"
  },
  "language_info": {
   "codemirror_mode": {
    "name": "ipython",
    "version": 3
   },
   "file_extension": ".py",
   "mimetype": "text/x-python",
   "name": "python",
   "nbconvert_exporter": "python",
   "pygments_lexer": "ipython3",
   "version": "3.5.2"
  }
 },
 "nbformat": 4,
 "nbformat_minor": 2
}
