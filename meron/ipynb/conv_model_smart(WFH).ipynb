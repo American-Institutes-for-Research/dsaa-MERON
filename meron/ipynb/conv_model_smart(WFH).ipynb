{
 "cells": [
  {
   "cell_type": "code",
   "execution_count": 1,
   "metadata": {},
   "outputs": [
    {
     "name": "stderr",
     "output_type": "stream",
     "text": [
      "/usr/local/lib/python3.5/dist-packages/h5py/__init__.py:36: FutureWarning: Conversion of the second argument of issubdtype from `float` to `np.floating` is deprecated. In future, it will be treated as `np.float64 == np.dtype(float).type`.\n",
      "  from ._conv import register_converters as _register_converters\n",
      "Using TensorFlow backend.\n"
     ]
    }
   ],
   "source": [
    "import numpy as np\n",
    "import os\n",
    "import pandas as pd\n",
    "from sklearn.model_selection import train_test_split\n",
    "from keras.callbacks import EarlyStopping, ModelCheckpoint\n",
    "from keras.models import load_model\n",
    "from sklearn.preprocessing import StandardScaler, maxabs_scale\n",
    "from keras.optimizers import Adam, SGD\n",
    "import matplotlib.pyplot as plt\n",
    "%matplotlib inline\n",
    "from sklearn.utils.class_weight import compute_class_weight\n",
    "from scipy.stats import pearsonr\n",
    "import keras.backend as K\n",
    "import seaborn as sns\n",
    "from sklearn.metrics import r2_score, mean_squared_error\n",
    "from scipy import stats"
   ]
  },
  {
   "cell_type": "code",
   "execution_count": 2,
   "metadata": {},
   "outputs": [],
   "source": [
    "from model import MeronSmart, ml_models,plot_confusion_matrix"
   ]
  },
  {
   "cell_type": "code",
   "execution_count": 3,
   "metadata": {
    "scrolled": true
   },
   "outputs": [],
   "source": [
    "merged_wfh = pd.read_csv('/data/meron/kenya_data/meron_merged_wfh.csv')\n",
    "meta_data = pd.read_csv('/data/meron/kenya_data/meron_link_data/meron_meta_processed.csv')"
   ]
  },
  {
   "cell_type": "code",
   "execution_count": 5,
   "metadata": {},
   "outputs": [
    {
     "data": {
      "text/plain": [
       "(3594, 2052)"
      ]
     },
     "execution_count": 5,
     "metadata": {},
     "output_type": "execute_result"
    }
   ],
   "source": [
    "merged_wfh.shape"
   ]
  },
  {
   "cell_type": "code",
   "execution_count": 4,
   "metadata": {},
   "outputs": [],
   "source": [
    "meron = MeronSmart()"
   ]
  },
  {
   "cell_type": "code",
   "execution_count": 5,
   "metadata": {},
   "outputs": [],
   "source": [
    "regression_model = meron.build_model()"
   ]
  },
  {
   "cell_type": "code",
   "execution_count": 6,
   "metadata": {},
   "outputs": [
    {
     "name": "stdout",
     "output_type": "stream",
     "text": [
      "_________________________________________________________________\n",
      "Layer (type)                 Output Shape              Param #   \n",
      "=================================================================\n",
      "dense_1 (Dense)              (None, 64)                131264    \n",
      "_________________________________________________________________\n",
      "activation_1 (Activation)    (None, 64)                0         \n",
      "_________________________________________________________________\n",
      "dropout_1 (Dropout)          (None, 64)                0         \n",
      "_________________________________________________________________\n",
      "dense_2 (Dense)              (None, 48)                3120      \n",
      "_________________________________________________________________\n",
      "activation_2 (Activation)    (None, 48)                0         \n",
      "_________________________________________________________________\n",
      "dropout_2 (Dropout)          (None, 48)                0         \n",
      "_________________________________________________________________\n",
      "dense_3 (Dense)              (None, 12)                588       \n",
      "_________________________________________________________________\n",
      "activation_3 (Activation)    (None, 12)                0         \n",
      "_________________________________________________________________\n",
      "dropout_3 (Dropout)          (None, 12)                0         \n",
      "_________________________________________________________________\n",
      "dense_4 (Dense)              (None, 1)                 13        \n",
      "=================================================================\n",
      "Total params: 134,985\n",
      "Trainable params: 134,985\n",
      "Non-trainable params: 0\n",
      "_________________________________________________________________\n"
     ]
    }
   ],
   "source": [
    "regression_model.summary()"
   ]
  },
  {
   "cell_type": "code",
   "execution_count": 7,
   "metadata": {},
   "outputs": [],
   "source": [
    "merged_wfh = merged_wfh[merged_wfh['wfh'] < 4]"
   ]
  },
  {
   "cell_type": "code",
   "execution_count": 8,
   "metadata": {},
   "outputs": [],
   "source": [
    "target=merged_wfh['wfh']"
   ]
  },
  {
   "cell_type": "markdown",
   "metadata": {},
   "source": [
    "target_centered=target-np.mean(target)\n",
    "sns.distplot(target_centered)"
   ]
  },
  {
   "cell_type": "code",
   "execution_count": 9,
   "metadata": {},
   "outputs": [
    {
     "name": "stderr",
     "output_type": "stream",
     "text": [
      "/usr/local/lib/python3.5/dist-packages/ipykernel_launcher.py:1: FutureWarning: reshape is deprecated and will raise in a subsequent release. Please use .values.reshape(...) instead\n",
      "  \"\"\"Entry point for launching an IPython kernel.\n",
      "/usr/local/lib/python3.5/dist-packages/ipykernel_launcher.py:2: FutureWarning: reshape is deprecated and will raise in a subsequent release. Please use .values.reshape(...) instead\n",
      "  \n"
     ]
    }
   ],
   "source": [
    "target_scaler = StandardScaler().fit(target.reshape(-1,1))\n",
    "target_norm=target_scaler.transform(target.reshape(-1,1))"
   ]
  },
  {
   "cell_type": "code",
   "execution_count": 10,
   "metadata": {},
   "outputs": [
    {
     "data": {
      "text/html": [
       "<div>\n",
       "<style scoped>\n",
       "    .dataframe tbody tr th:only-of-type {\n",
       "        vertical-align: middle;\n",
       "    }\n",
       "\n",
       "    .dataframe tbody tr th {\n",
       "        vertical-align: top;\n",
       "    }\n",
       "\n",
       "    .dataframe thead th {\n",
       "        text-align: right;\n",
       "    }\n",
       "</style>\n",
       "<table border=\"1\" class=\"dataframe\">\n",
       "  <thead>\n",
       "    <tr style=\"text-align: right;\">\n",
       "      <th></th>\n",
       "      <th>0</th>\n",
       "      <th>1</th>\n",
       "      <th>2</th>\n",
       "      <th>3</th>\n",
       "      <th>4</th>\n",
       "      <th>5</th>\n",
       "      <th>6</th>\n",
       "      <th>7</th>\n",
       "      <th>8</th>\n",
       "      <th>9</th>\n",
       "      <th>...</th>\n",
       "      <th>2040</th>\n",
       "      <th>2041</th>\n",
       "      <th>2042</th>\n",
       "      <th>2043</th>\n",
       "      <th>2044</th>\n",
       "      <th>2045</th>\n",
       "      <th>2046</th>\n",
       "      <th>2047</th>\n",
       "      <th>gender_male</th>\n",
       "      <th>age_months</th>\n",
       "    </tr>\n",
       "  </thead>\n",
       "  <tbody>\n",
       "    <tr>\n",
       "      <th>0</th>\n",
       "      <td>0.010161</td>\n",
       "      <td>0.244977</td>\n",
       "      <td>0.000000</td>\n",
       "      <td>0.146481</td>\n",
       "      <td>3.627992</td>\n",
       "      <td>0.000000</td>\n",
       "      <td>4.934372</td>\n",
       "      <td>5.038579</td>\n",
       "      <td>0.000000</td>\n",
       "      <td>0.011782</td>\n",
       "      <td>...</td>\n",
       "      <td>0.269243</td>\n",
       "      <td>0.000000</td>\n",
       "      <td>0.0</td>\n",
       "      <td>8.513610</td>\n",
       "      <td>0.000000</td>\n",
       "      <td>0.000000</td>\n",
       "      <td>0.000000</td>\n",
       "      <td>0.026938</td>\n",
       "      <td>1</td>\n",
       "      <td>26.0</td>\n",
       "    </tr>\n",
       "    <tr>\n",
       "      <th>1</th>\n",
       "      <td>0.000000</td>\n",
       "      <td>0.000000</td>\n",
       "      <td>0.033809</td>\n",
       "      <td>0.000000</td>\n",
       "      <td>1.634073</td>\n",
       "      <td>0.007764</td>\n",
       "      <td>3.982176</td>\n",
       "      <td>1.657495</td>\n",
       "      <td>0.021575</td>\n",
       "      <td>0.151407</td>\n",
       "      <td>...</td>\n",
       "      <td>0.234539</td>\n",
       "      <td>0.284947</td>\n",
       "      <td>0.0</td>\n",
       "      <td>4.031464</td>\n",
       "      <td>0.000000</td>\n",
       "      <td>0.000000</td>\n",
       "      <td>2.726557</td>\n",
       "      <td>0.149685</td>\n",
       "      <td>0</td>\n",
       "      <td>32.0</td>\n",
       "    </tr>\n",
       "    <tr>\n",
       "      <th>2</th>\n",
       "      <td>0.485405</td>\n",
       "      <td>0.075956</td>\n",
       "      <td>1.195641</td>\n",
       "      <td>0.803847</td>\n",
       "      <td>0.134891</td>\n",
       "      <td>0.073037</td>\n",
       "      <td>3.987601</td>\n",
       "      <td>11.776036</td>\n",
       "      <td>0.000000</td>\n",
       "      <td>0.000000</td>\n",
       "      <td>...</td>\n",
       "      <td>0.000000</td>\n",
       "      <td>0.000000</td>\n",
       "      <td>0.0</td>\n",
       "      <td>5.221664</td>\n",
       "      <td>1.326829</td>\n",
       "      <td>0.000000</td>\n",
       "      <td>0.000000</td>\n",
       "      <td>0.000000</td>\n",
       "      <td>0</td>\n",
       "      <td>12.0</td>\n",
       "    </tr>\n",
       "    <tr>\n",
       "      <th>3</th>\n",
       "      <td>0.000000</td>\n",
       "      <td>7.703766</td>\n",
       "      <td>0.000000</td>\n",
       "      <td>1.107813</td>\n",
       "      <td>0.000000</td>\n",
       "      <td>0.000000</td>\n",
       "      <td>2.804294</td>\n",
       "      <td>7.715090</td>\n",
       "      <td>0.000000</td>\n",
       "      <td>0.000000</td>\n",
       "      <td>...</td>\n",
       "      <td>0.000000</td>\n",
       "      <td>0.080234</td>\n",
       "      <td>0.0</td>\n",
       "      <td>9.156448</td>\n",
       "      <td>0.013398</td>\n",
       "      <td>0.025511</td>\n",
       "      <td>0.110399</td>\n",
       "      <td>1.820649</td>\n",
       "      <td>0</td>\n",
       "      <td>51.0</td>\n",
       "    </tr>\n",
       "    <tr>\n",
       "      <th>4</th>\n",
       "      <td>0.214333</td>\n",
       "      <td>2.559898</td>\n",
       "      <td>1.654353</td>\n",
       "      <td>1.902321</td>\n",
       "      <td>0.600150</td>\n",
       "      <td>1.964184</td>\n",
       "      <td>3.426954</td>\n",
       "      <td>9.696762</td>\n",
       "      <td>0.000000</td>\n",
       "      <td>0.030368</td>\n",
       "      <td>...</td>\n",
       "      <td>0.000000</td>\n",
       "      <td>0.000000</td>\n",
       "      <td>0.0</td>\n",
       "      <td>13.095944</td>\n",
       "      <td>6.709367</td>\n",
       "      <td>0.000000</td>\n",
       "      <td>1.413408</td>\n",
       "      <td>0.487794</td>\n",
       "      <td>0</td>\n",
       "      <td>13.0</td>\n",
       "    </tr>\n",
       "  </tbody>\n",
       "</table>\n",
       "<p>5 rows × 2050 columns</p>\n",
       "</div>"
      ],
      "text/plain": [
       "          0         1         2         3         4         5         6  \\\n",
       "0  0.010161  0.244977  0.000000  0.146481  3.627992  0.000000  4.934372   \n",
       "1  0.000000  0.000000  0.033809  0.000000  1.634073  0.007764  3.982176   \n",
       "2  0.485405  0.075956  1.195641  0.803847  0.134891  0.073037  3.987601   \n",
       "3  0.000000  7.703766  0.000000  1.107813  0.000000  0.000000  2.804294   \n",
       "4  0.214333  2.559898  1.654353  1.902321  0.600150  1.964184  3.426954   \n",
       "\n",
       "           7         8         9     ...          2040      2041  2042  \\\n",
       "0   5.038579  0.000000  0.011782     ...      0.269243  0.000000   0.0   \n",
       "1   1.657495  0.021575  0.151407     ...      0.234539  0.284947   0.0   \n",
       "2  11.776036  0.000000  0.000000     ...      0.000000  0.000000   0.0   \n",
       "3   7.715090  0.000000  0.000000     ...      0.000000  0.080234   0.0   \n",
       "4   9.696762  0.000000  0.030368     ...      0.000000  0.000000   0.0   \n",
       "\n",
       "        2043      2044      2045      2046      2047  gender_male  age_months  \n",
       "0   8.513610  0.000000  0.000000  0.000000  0.026938            1        26.0  \n",
       "1   4.031464  0.000000  0.000000  2.726557  0.149685            0        32.0  \n",
       "2   5.221664  1.326829  0.000000  0.000000  0.000000            0        12.0  \n",
       "3   9.156448  0.013398  0.025511  0.110399  1.820649            0        51.0  \n",
       "4  13.095944  6.709367  0.000000  1.413408  0.487794            0        13.0  \n",
       "\n",
       "[5 rows x 2050 columns]"
      ]
     },
     "execution_count": 10,
     "metadata": {},
     "output_type": "execute_result"
    }
   ],
   "source": [
    "deselect_cols = ['photo_id','wfh']\n",
    "select = [x for x in merged_wfh.columns if x not in deselect_cols]\n",
    "data_features = merged_wfh.loc[:, select]\n",
    "data_features.head()"
   ]
  },
  {
   "cell_type": "markdown",
   "metadata": {},
   "source": [
    "# Split data into training and testing sets, then train model"
   ]
  },
  {
   "cell_type": "code",
   "execution_count": 11,
   "metadata": {},
   "outputs": [
    {
     "data": {
      "text/plain": [
       "array([[-0.36035679, -0.30353122, -0.87658675, ..., -0.5579345 ,\n",
       "         0.97518224, -0.31434157],\n",
       "       [-0.37120382, -0.47184229, -0.85862433, ..., -0.44106173,\n",
       "        -1.02544936,  0.08189474],\n",
       "       [ 0.14698999, -0.41965663, -0.24136037, ..., -0.58358397,\n",
       "        -1.02544936, -1.23889295],\n",
       "       ...,\n",
       "       [ 2.47846592,  0.0838428 , -0.06954757, ...,  0.79544821,\n",
       "        -1.02544936, -0.1822628 ],\n",
       "       [-0.37120382, -0.45123325, -0.87658675, ...,  1.14070246,\n",
       "         0.97518224,  0.14793412],\n",
       "       [-0.29958818, -0.47184229,  0.92240781, ...,  1.22722864,\n",
       "        -1.02544936,  0.47813104]])"
      ]
     },
     "execution_count": 11,
     "metadata": {},
     "output_type": "execute_result"
    }
   ],
   "source": [
    "### scale/standardize the features?\n",
    "conv_scaler = StandardScaler().fit(data_features)\n",
    "data_features_scaled = conv_scaler.transform(data_features)\n",
    "data_features_scaled"
   ]
  },
  {
   "cell_type": "code",
   "execution_count": 12,
   "metadata": {},
   "outputs": [],
   "source": [
    "### Break data into training and test\n",
    "X_train, X_test, y_train, y_test = train_test_split(data_features_scaled, target_norm, test_size=0.2, random_state=42)"
   ]
  },
  {
   "cell_type": "code",
   "execution_count": 13,
   "metadata": {},
   "outputs": [
    {
     "name": "stdout",
     "output_type": "stream",
     "text": [
      "(2865, 2050)\n",
      "(717, 2050)\n"
     ]
    }
   ],
   "source": [
    "print(X_train.shape)\n",
    "print(X_test.shape)"
   ]
  },
  {
   "cell_type": "code",
   "execution_count": 15,
   "metadata": {},
   "outputs": [],
   "source": [
    "early_stop = EarlyStopping(monitor='val_loss', patience=5)\n",
    "checkpoint = ModelCheckpoint('regression_model_resnetfeats_64_48_12(dropout02_scaled).h5', monitor='val_loss', verbose=1,\n",
    "                             save_best_only=True, mode='min')"
   ]
  },
  {
   "cell_type": "code",
   "execution_count": 19,
   "metadata": {},
   "outputs": [
    {
     "name": "stdout",
     "output_type": "stream",
     "text": [
      "Train on 2865 samples, validate on 717 samples\n",
      "Epoch 1/2000\n",
      "2865/2865 [==============================] - 0s 43us/step - loss: 0.8873 - pearson_coeff: 0.5548 - val_loss: 1.1152 - val_pearson_coeff: 0.2653\n",
      "\n",
      "Epoch 00001: val_loss did not improve from 1.11184\n",
      "Epoch 2/2000\n",
      "2865/2865 [==============================] - 0s 40us/step - loss: 0.8582 - pearson_coeff: 0.5786 - val_loss: 1.1157 - val_pearson_coeff: 0.2646\n",
      "\n",
      "Epoch 00002: val_loss did not improve from 1.11184\n",
      "Epoch 3/2000\n",
      "2865/2865 [==============================] - 0s 40us/step - loss: 0.8845 - pearson_coeff: 0.5568 - val_loss: 1.1161 - val_pearson_coeff: 0.2643\n",
      "\n",
      "Epoch 00003: val_loss did not improve from 1.11184\n",
      "Epoch 4/2000\n",
      "2865/2865 [==============================] - 0s 52us/step - loss: 0.8558 - pearson_coeff: 0.5833 - val_loss: 1.1161 - val_pearson_coeff: 0.2648\n",
      "\n",
      "Epoch 00004: val_loss did not improve from 1.11184\n",
      "Epoch 5/2000\n",
      "2865/2865 [==============================] - 0s 41us/step - loss: 0.8620 - pearson_coeff: 0.5783 - val_loss: 1.1165 - val_pearson_coeff: 0.2648\n",
      "\n",
      "Epoch 00005: val_loss did not improve from 1.11184\n",
      "Epoch 6/2000\n",
      "2865/2865 [==============================] - 0s 40us/step - loss: 0.8675 - pearson_coeff: 0.5722 - val_loss: 1.1175 - val_pearson_coeff: 0.2638\n",
      "\n",
      "Epoch 00006: val_loss did not improve from 1.11184\n"
     ]
    },
    {
     "data": {
      "text/plain": [
       "<keras.callbacks.History at 0x7fea24665dd8>"
      ]
     },
     "execution_count": 19,
     "metadata": {},
     "output_type": "execute_result"
    }
   ],
   "source": [
    "regression_model.fit(X_train,\n",
    "                y_train,\n",
    "                epochs=2000,\n",
    "                batch_size=512,\n",
    "                callbacks=[checkpoint, early_stop],\n",
    "                shuffle=True,\n",
    "                validation_data=(X_test, y_test),\n",
    "                verbose=1)"
   ]
  },
  {
   "cell_type": "markdown",
   "metadata": {},
   "source": [
    "# Correlation plot\n"
   ]
  },
  {
   "cell_type": "code",
   "execution_count": 19,
   "metadata": {},
   "outputs": [
    {
     "name": "stdout",
     "output_type": "stream",
     "text": [
      "717/717 [==============================] - 0s 139us/step\n"
     ]
    }
   ],
   "source": [
    "prediction_centered=regression_model.predict(X_test, verbose=1)"
   ]
  },
  {
   "cell_type": "code",
   "execution_count": 20,
   "metadata": {},
   "outputs": [],
   "source": [
    "prediction=target_scaler.inverse_transform(prediction_centered)\n",
    "y_true=target_scaler.inverse_transform(y_test)"
   ]
  },
  {
   "cell_type": "code",
   "execution_count": 21,
   "metadata": {},
   "outputs": [
    {
     "data": {
      "text/plain": [
       "<matplotlib.collections.PathCollection at 0x7fe218223d30>"
      ]
     },
     "execution_count": 21,
     "metadata": {},
     "output_type": "execute_result"
    },
    {
     "data": {
      "image/png": "[encoded data removed]",
      "text/plain": [
       "<Figure size 432x288 with 1 Axes>"
      ]
     },
     "metadata": {},
     "output_type": "display_data"
    }
   ],
   "source": [
    "plt.scatter(prediction, y_true)"
   ]
  },
  {
   "cell_type": "code",
   "execution_count": 98,
   "metadata": {},
   "outputs": [
    {
     "name": "stderr",
     "output_type": "stream",
     "text": [
      "/usr/local/lib/python3.5/dist-packages/matplotlib/cbook/__init__.py:2446: UserWarning: Saw kwargs ['c', 'color'] which are all aliases for 'color'.  Kept value from 'color'\n",
      "  seen=seen, canon=canonical, used=seen[-1]))\n"
     ]
    },
    {
     "data": {
      "image/png": "[encoded data removed]",
      "text/plain": [
       "<Figure size 432x288 with 1 Axes>"
      ]
     },
     "metadata": {},
     "output_type": "display_data"
    }
   ],
   "source": [
    "r_pearson, p_val = pearsonr(prediction, y_true)\n",
    "r_squared_intercept = r_pearson**2\n",
    "r_squared_no_intercept = r2_score(y_true,prediction)\n",
    "rmse = np.sqrt(mean_squared_error(y_true, prediction))\n",
    "\n",
    "# Linear regression\n",
    "reg_params = stats.linregress(prediction[:,0], y_true[:,0])\n",
    "\n",
    "\n",
    "\n",
    "y_max = np.max([np.max(y_true), np.max(prediction)])\n",
    "y_min = np.min([np.min(y_true), np.min(prediction)])\n",
    "\n",
    "fig, ax = plt.subplots()\n",
    "sc = ax.scatter(\n",
    "    prediction, y_true, s=10, edgecolors=\"blue\", color='blue')\n",
    "ax.set_ylabel(r\"True wfh\", fontsize=12)\n",
    "ax.set_xlabel(r\"Predicted wfh\", fontsize=12)\n",
    "ax.set_title('Weight for Height regression', fontsize=18)\n",
    "ax.text(0.1, 0.85, '$r^2$ (intercept) = {0:.2f}'.format(r_squared_intercept[0]), {'color': 'r'},\n",
    "   ha='left', va='center', transform=ax.transAxes)\n",
    "\n",
    "ax.text(0.1, 0.9, '$r^2$ (no intercept) = {0:.2f}'.format(r_squared_no_intercept),\n",
    "    {'color': 'k'}, ha='left', va='center', transform=ax.transAxes)\n",
    "\n",
    "ax.text(0.1, 0.8, 'RMSE = {0:.3f}'.format(rmse), ha='left', va='center', transform=ax.transAxes)\n",
    "ax.grid(True)\n",
    "xplot_vals = np.arange(y_min, y_max + np.floor(y_max / 1))\n",
    "diag_line, = ax.plot(xplot_vals,\n",
    "                     xplot_vals,\n",
    "                     color='k',\n",
    "                     ls=\"--\",\n",
    "                     c=\".15\")\n",
    "\n",
    "diag_line, = ax.plot(xplot_vals,\n",
    "                     reg_params[1] + reg_params[0]*xplot_vals,\n",
    "                     color='r',\n",
    "                     ls=\"-\",\n",
    "                     c=\".15\")\n",
    "\n",
    "ax.set_xlim([-4, 4])\n",
    "ax.set_ylim([-4, 4])\n",
    "\n",
    "plt.savefig(\n",
    "    os.path.join('/data/meron/', 'correlation_plot_wfh.svg'),\n",
    "    dpi=400\n",
    ")\n",
    "plt.show()"
   ]
  },
  {
   "cell_type": "code",
   "execution_count": null,
   "metadata": {},
   "outputs": [],
   "source": []
  }
 ],
 "metadata": {
  "kernelspec": {
   "display_name": "Python 3",
   "language": "python",
   "name": "python3"
  },
  "language_info": {
   "codemirror_mode": {
    "name": "ipython",
    "version": 3
   },
   "file_extension": ".py",
   "mimetype": "text/x-python",
   "name": "python",
   "nbconvert_exporter": "python",
   "pygments_lexer": "ipython3",
   "version": "3.5.2"
  }
 },
 "nbformat": 4,
 "nbformat_minor": 2
}
