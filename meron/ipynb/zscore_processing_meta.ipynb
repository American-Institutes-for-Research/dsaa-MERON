{
 "cells": [
  {
   "cell_type": "markdown",
   "metadata": {},
   "source": [
    "# Calculate Growth Indicators\n",
    "This notebook goes over calculaing zscores based on anthropometric measurements.\n",
    "\n",
    "Part of pre-processing step."
   ]
  },
  {
   "cell_type": "code",
   "execution_count": 2,
   "metadata": {},
   "outputs": [],
   "source": [
    "from preprocessing import ImagePreProcess, ExtractCNNfeatures, SmartZscores"
   ]
  },
  {
   "cell_type": "markdown",
   "metadata": {},
   "source": [
    "# File paths and directories"
   ]
  },
  {
   "cell_type": "code",
   "execution_count": 5,
   "metadata": {},
   "outputs": [],
   "source": [
    "# This is the directory for the who zscore data tables\n",
    "who_tables_dir = '/home/kimetrica/code/MERON/data'\n",
    "\n",
    "# This is the meta file for the SMART/MERON data\n",
    "meta_file = '/data/meron/kenya_data/meron_link_data/all_areas.csv'\n",
    "\n",
    "# Processed Meta file\n",
    "processed_meta_file = '/data/meron/kenya_data/meron_meta_processed.csv'"
   ]
  },
  {
   "cell_type": "markdown",
   "metadata": {},
   "source": [
    "# Calculate zscores for SMART data from WHO tables "
   ]
  },
  {
   "cell_type": "code",
   "execution_count": 6,
   "metadata": {},
   "outputs": [
    {
     "data": {
      "text/plain": [
       "True"
      ]
     },
     "execution_count": 6,
     "metadata": {},
     "output_type": "execute_result"
    }
   ],
   "source": [
    "sz = SmartZscores(who_tables_dir, meta_file)\n",
    "sz.calc_measures(measures=['wfh', 'hfa', 'wfa'])\n",
    "sz.classify_malnutrition()\n",
    "sz.cat_encoding()\n",
    "\n",
    "sz.write_processed_meta(processed_meta_file)"
   ]
  }
 ],
 "metadata": {
  "kernelspec": {
   "display_name": "Python 3",
   "language": "python",
   "name": "python3"
  },
  "language_info": {
   "codemirror_mode": {
    "name": "ipython",
    "version": 3
   },
   "file_extension": ".py",
   "mimetype": "text/x-python",
   "name": "python",
   "nbconvert_exporter": "python",
   "pygments_lexer": "ipython3",
   "version": "3.5.2"
  }
 },
 "nbformat": 4,
 "nbformat_minor": 2
}
