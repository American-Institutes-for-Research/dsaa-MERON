{
 "cells": [
  {
   "cell_type": "markdown",
   "metadata": {},
   "source": [
    "# This notebook goes over the merging of meta-data and features\n",
    "\n",
    "We associate the extracted CNN features (explanitory vars) with the growth indicators (response var)"
   ]
  },
  {
   "cell_type": "code",
   "execution_count": 28,
   "metadata": {},
   "outputs": [],
   "source": [
    "import os\n",
    "import numpy as np\n",
    "import pandas as pd\n",
    "import seaborn as sns\n",
    "import matplotlib.pyplot as plt\n",
    "%matplotlib inline\n",
    "sns.set_style(\"darkgrid\")"
   ]
  },
  {
   "cell_type": "markdown",
   "metadata": {},
   "source": [
    "# Files and directories"
   ]
  },
  {
   "cell_type": "code",
   "execution_count": 90,
   "metadata": {},
   "outputs": [],
   "source": [
    "meta_data_file = '/data/meron/kenya_data/meron_meta_processed.csv'\n",
    "features_dir = '/data/meron/smart_features_resnet'\n",
    "hist_fig = '/data/meron/figs/wfh_dist_smart.jpg'\n",
    "mclass_fig = '/data/meron/figs/malcls_dist_smart.jpg'"
   ]
  },
  {
   "cell_type": "code",
   "execution_count": 9,
   "metadata": {},
   "outputs": [
    {
     "name": "stdout",
     "output_type": "stream",
     "text": [
      "features_3.csv loaded\n",
      "features_2.csv loaded\n",
      "features_1.csv loaded\n",
      "features_0.csv loaded\n"
     ]
    }
   ],
   "source": [
    "meta_data = pd.read_csv(meta_data_file)\n",
    "\n",
    "features = pd.DataFrame()\n",
    "for f in os.listdir(features_dir):\n",
    "    df = pd.read_csv(os.path.join(features_dir, f))\n",
    "    features = pd.concat([features, df], axis=0)\n",
    "    print(f + ' loaded')"
   ]
  },
  {
   "cell_type": "code",
   "execution_count": 10,
   "metadata": {},
   "outputs": [
    {
     "name": "stdout",
     "output_type": "stream",
     "text": [
      "size of meta data for smart dataset: (4422, 17)\n",
      "size of encoder features for smart dataset: (3843, 2049)\n"
     ]
    }
   ],
   "source": [
    "print('size of meta data for smart dataset: {}'.format(meta_data.shape))\n",
    "print('size of encoder features for smart dataset: {}'.format(features.shape))"
   ]
  },
  {
   "cell_type": "code",
   "execution_count": 40,
   "metadata": {},
   "outputs": [
    {
     "name": "stdout",
     "output_type": "stream",
     "text": [
      "size of the merged dataset: (3594, 2055)\n"
     ]
    },
    {
     "name": "stderr",
     "output_type": "stream",
     "text": [
      "/usr/local/lib/python3.5/dist-packages/matplotlib/axes/_axes.py:6462: UserWarning: The 'normed' kwarg is deprecated, and has been replaced by the 'density' kwarg.\n",
      "  warnings.warn(\"The 'normed' kwarg is deprecated, and has been \"\n"
     ]
    },
    {
     "data": {
      "image/png": "[encoded data removed]",
      "text/plain": [
       "<Figure size 432x288 with 1 Axes>"
      ]
     },
     "metadata": {},
     "output_type": "display_data"
    }
   ],
   "source": [
    "## We only want the photo id, Gender, age, and mam hot-encoder columns, drop duplicate (duplicate samples info were the same)\n",
    "select_cols=['photo_id','gender_male', 'age_months','maln_mam','maln_normal','maln_sam', 'wfh', 'maln_class']\n",
    "merged_df=pd.merge(features, meta_data[select_cols], on=\"photo_id\").drop_duplicates('photo_id', keep='first')\n",
    "print('size of the merged dataset: {}'.format(merged_df.shape))\n",
    "# merged_df.head()\n",
    "splot = sns.distplot(meta_data['wfh'], bins=200, kde=False)  # kde_kws={'linewidth':1.0})\n",
    "plt.xticks(np.arange(-10,11), rotation=45)\n",
    "splot.axvline(x=-2.0, color='r', linestyle='--', linewidth=0.5)\n",
    "splot.axvline(x=-3.0, color='r', linestyle='--', linewidth=0.5)\n",
    "plt.savefig(hist_fig, dpi=400)"
   ]
  },
  {
   "cell_type": "code",
   "execution_count": 96,
   "metadata": {},
   "outputs": [
    {
     "data": {
      "text/plain": [
       "normal    3689\n",
       "mam        587\n",
       "sam        146\n",
       "Name: maln_class, dtype: int64"
      ]
     },
     "execution_count": 96,
     "metadata": {},
     "output_type": "execute_result"
    }
   ],
   "source": [
    "meta_data['maln_class'].value_counts()"
   ]
  },
  {
   "cell_type": "code",
   "execution_count": 91,
   "metadata": {},
   "outputs": [
    {
     "data": {
      "image/png": "[encoded data removed]",
      "text/plain": [
       "<Figure size 432x288 with 1 Axes>"
      ]
     },
     "metadata": {},
     "output_type": "display_data"
    }
   ],
   "source": [
    "# mln_plot = sns.distplot(meta_data['maln_class'], bins=3, kde=False)  # kde_kws={'linewidth':1.0})\n",
    "meta_data['maln_class_code'] = 0\n",
    "meta_data.loc[meta_data['maln_class'] == 'normal', 'maln_class_code'] = 2\n",
    "meta_data.loc[meta_data['maln_class'] == 'mam', 'maln_class_code'] = 1\n",
    "plt.hist(meta_data['maln_class_code'], bins=[0, 1, 2, 3], align='left', alpha=0.5)\n",
    "plt.xticks([0, 1, 2], ['SAM', 'MAM', 'Normal'])\n",
    "plt.savefig(mclass_fig, dpi=400)"
   ]
  },
  {
   "cell_type": "code",
   "execution_count": 13,
   "metadata": {},
   "outputs": [],
   "source": [
    "merged_df.to_csv('/data/meron/kenya_data/meron_merged_df.csv', index=False)"
   ]
  },
  {
   "cell_type": "code",
   "execution_count": 39,
   "metadata": {},
   "outputs": [],
   "source": [
    "missing_data=smart_encoder_feats[(~smart_encoder_feats['photo_id'].isin(merged_df['photo_id']))].drop_duplicates('photo_id', keep='first')"
   ]
  },
  {
   "cell_type": "code",
   "execution_count": 41,
   "metadata": {},
   "outputs": [],
   "source": [
    "missing_data['photo_id'].to_csv('/data/meron/kenya_data/missing_photo_id.csv', index=False)"
   ]
  }
 ],
 "metadata": {
  "kernelspec": {
   "display_name": "Python 3",
   "language": "python",
   "name": "python3"
  },
  "language_info": {
   "codemirror_mode": {
    "name": "ipython",
    "version": 3
   },
   "file_extension": ".py",
   "mimetype": "text/x-python",
   "name": "python",
   "nbconvert_exporter": "python",
   "pygments_lexer": "ipython3",
   "version": "3.5.2"
  }
 },
 "nbformat": 4,
 "nbformat_minor": 2
}
