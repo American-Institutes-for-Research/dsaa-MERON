{
 "cells": [
  {
   "cell_type": "code",
   "execution_count": 8,
   "metadata": {},
   "outputs": [],
   "source": [
    "import numpy as np\n",
    "import os\n",
    "import pandas as pd\n",
    "import matplotlib.pyplot as plt\n",
    "%matplotlib inline\n",
    "from sklearn.utils.class_weight import compute_class_weight\n",
    "from sklearn.metrics import roc_auc_score,f1_score, roc_curve, auc, accuracy_score, confusion_matrix\n",
    "import shutil"
   ]
  },
  {
   "cell_type": "markdown",
   "metadata": {},
   "source": [
    "merged_df = pd.read_csv('/data/meron/kenya_data/meron_merged_mal(sam_upsampled).csv')\n",
    "meta_data = pd.read_csv('/data/meron/kenya_data/meron_link_data/meron_meta_processed.csv')\n",
    "#use wfh in meta_data to filter wfh<4\n",
    "merged_df=merged_df[merged_df['wfh']<4]"
   ]
  },
  {
   "cell_type": "code",
   "execution_count": 14,
   "metadata": {},
   "outputs": [],
   "source": [
    "sam_id=pd.read_csv('/data/meron/sam_photo_ids.csv')\n",
    "mam_id=pd.read_csv('/data/meron/mam_photo_ids.csv')"
   ]
  },
  {
   "cell_type": "code",
   "execution_count": 15,
   "metadata": {},
   "outputs": [],
   "source": [
    "def get_names(id_names):\n",
    "    new_name=[]\n",
    "    for row in id_names['photo_id']:\n",
    "        base_name=row.split('.')[0]\n",
    "        mam_clahe=base_name+'_flip.jpg'\n",
    "        new_name.append(mam_clahe)\n",
    "\n",
    "    return new_name"
   ]
  },
  {
   "cell_type": "code",
   "execution_count": 21,
   "metadata": {},
   "outputs": [
    {
     "data": {
      "text/plain": [
       "471"
      ]
     },
     "execution_count": 21,
     "metadata": {},
     "output_type": "execute_result"
    }
   ],
   "source": [
    "new_id=get_names(mam_id)\n",
    "len(new_id)"
   ]
  },
  {
   "cell_type": "code",
   "execution_count": 17,
   "metadata": {},
   "outputs": [],
   "source": [
    "flip_dir='/data/meron/kenya_data/photo_flip/'\n",
    "destination_dir='/data/meron/kenya_data/photo_aug(2)/'"
   ]
  },
  {
   "cell_type": "code",
   "execution_count": 18,
   "metadata": {},
   "outputs": [],
   "source": [
    "def copy_pictures(source_dir, destination, matching_names):\n",
    "    file_names=os.listdir(source_dir)\n",
    "    count=0  \n",
    "    for file_names in matching_names:\n",
    "        selected_file=os.path.join(source_dir+file_names)\n",
    "        #print(selected_file)\n",
    "        \n",
    "        try:\n",
    "            shutil.copy(selected_file,destination)\n",
    "            count=count+1\n",
    "        except:\n",
    "            print('this image not found in folder: %s' %selected_file)\n",
    "            continue\n",
    "            \n",
    "    return print('{} images copied to destination folder'.format(count))"
   ]
  },
  {
   "cell_type": "code",
   "execution_count": 19,
   "metadata": {},
   "outputs": [
    {
     "name": "stdout",
     "output_type": "stream",
     "text": [
      "471 images copied to destination folder\n"
     ]
    }
   ],
   "source": [
    "copy_pictures(flip_dir, destination_dir, new_id)"
   ]
  },
  {
   "cell_type": "markdown",
   "metadata": {},
   "source": [
    "pd.DataFrame({'photo_id':flip_id}).to_csv('/data/meron/kenya_data/meron_images(flip)2.csv', index=False)"
   ]
  },
  {
   "cell_type": "code",
   "execution_count": 33,
   "metadata": {},
   "outputs": [
    {
     "ename": "NameError",
     "evalue": "name 'count' is not defined",
     "output_type": "error",
     "traceback": [
      "\u001b[0;31m---------------------------------------------------------------------------\u001b[0m",
      "\u001b[0;31mNameError\u001b[0m                                 Traceback (most recent call last)",
      "\u001b[0;32m<ipython-input-33-26780ddf2751>\u001b[0m in \u001b[0;36m<module>\u001b[0;34m()\u001b[0m\n\u001b[0;32m----> 1\u001b[0;31m \u001b[0mcount\u001b[0m\u001b[0;34m\u001b[0m\u001b[0m\n\u001b[0m",
      "\u001b[0;31mNameError\u001b[0m: name 'count' is not defined"
     ]
    }
   ],
   "source": [
    "count\n"
   ]
  },
  {
   "cell_type": "code",
   "execution_count": null,
   "metadata": {},
   "outputs": [],
   "source": []
  }
 ],
 "metadata": {
  "kernelspec": {
   "display_name": "Python 3",
   "language": "python",
   "name": "python3"
  },
  "language_info": {
   "codemirror_mode": {
    "name": "ipython",
    "version": 3
   },
   "file_extension": ".py",
   "mimetype": "text/x-python",
   "name": "python",
   "nbconvert_exporter": "python",
   "pygments_lexer": "ipython3",
   "version": "3.5.2"
  }
 },
 "nbformat": 4,
 "nbformat_minor": 2
}
