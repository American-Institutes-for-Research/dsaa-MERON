{
 "cells": [
  {
   "cell_type": "markdown",
   "metadata": {},
   "source": [
    "# Align images and extract CNN features"
   ]
  },
  {
   "cell_type": "code",
   "execution_count": 6,
   "metadata": {},
   "outputs": [],
   "source": [
    "import os\n",
    "import numpy as np\n",
    "import pandas as pd\n",
    "from preprocessing import ImagePreProcess, ExtractCNNfeatures, SmartZscores\n",
    "from model import MeronSmart"
   ]
  },
  {
   "cell_type": "markdown",
   "metadata": {},
   "source": [
    "## Files and directories"
   ]
  },
  {
   "cell_type": "code",
   "execution_count": 7,
   "metadata": {},
   "outputs": [],
   "source": [
    "# This directory contains the original raw SMART images\n",
    "raw_img_dir = '/data/meron/kenya_data/meron_photos'\n",
    "\n",
    "# This is the directory to write pre-processed images\n",
    "processed_img_dir ='/data/meron/kenya_data/meron_photos_processed'\n",
    "\n",
    "# Photo meta data file\n",
    "meta_data_file = '/data/meron/kenya_data/meron_meta_processed.csv'\n",
    "\n",
    "# This is the directory to write the CNN feature files\n",
    "feature_dir = '/data/meron/smart_features_resnet'\n",
    "\n",
    "# This is the file for Dlib trained facial landmark detection model. Used for aligning facial image\n",
    "landmark_file = '/home/kimetrica/code/MERON/data/shape_predictor_68_face_landmarks.dat'"
   ]
  },
  {
   "cell_type": "markdown",
   "metadata": {},
   "source": [
    "## Align and pre-process images"
   ]
  },
  {
   "cell_type": "code",
   "execution_count": 10,
   "metadata": {},
   "outputs": [
    {
     "name": "stdout",
     "output_type": "stream",
     "text": [
      "2018-05-11 14:42:44,670 [MainThread  ] [WARNI]  Unable to process image: 1518175903405.jpg\n",
      "2018-05-11 14:42:44,670 [MainThread  ] [WARNI]  Unable to process image: 1518175903405.jpg\n",
      "2018-05-11 14:42:44,670 [MainThread  ] [WARNI]  Unable to process image: 1518175903405.jpg\n",
      "2018-05-11 14:42:44,670 [MainThread  ] [WARNI]  Unable to process image: 1518175903405.jpg\n",
      "2018-05-11 14:44:26,288 [MainThread  ] [WARNI]  Unable to process image: 1517231487652.jpg\n",
      "2018-05-11 14:44:26,288 [MainThread  ] [WARNI]  Unable to process image: 1517231487652.jpg\n",
      "2018-05-11 14:44:26,288 [MainThread  ] [WARNI]  Unable to process image: 1517231487652.jpg\n",
      "2018-05-11 14:44:26,288 [MainThread  ] [WARNI]  Unable to process image: 1517231487652.jpg\n",
      "2018-05-11 14:53:45,348 [MainThread  ] [INFO ]  908 images successfully processed\n",
      "2018-05-11 14:53:45,348 [MainThread  ] [INFO ]  908 images successfully processed\n",
      "2018-05-11 14:53:45,348 [MainThread  ] [INFO ]  908 images successfully processed\n",
      "2018-05-11 14:53:45,348 [MainThread  ] [INFO ]  908 images successfully processed\n"
     ]
    },
    {
     "data": {
      "text/plain": [
       "True"
      ]
     },
     "execution_count": 10,
     "metadata": {},
     "output_type": "execute_result"
    }
   ],
   "source": [
    "# -----------------------\n",
    "# Detect and align images\n",
    "# -----------------------\n",
    "# Create instance of MORPH specific pre-processing\n",
    "meron = ImagePreProcess(landmark_file=landmark_file)\n",
    "\n",
    "# Process images (align, rotate and scale). This processes all the raw images in the raw_img_dir\n",
    "# It only grabs one face for each image (n_faces=1)\n",
    "meron.batch_image_detect_align(raw_img_dir, processed_img_dir, n_faces=1)"
   ]
  },
  {
   "cell_type": "markdown",
   "metadata": {},
   "source": [
    "## Extract CNN features"
   ]
  },
  {
   "cell_type": "code",
   "execution_count": 1,
   "metadata": {},
   "outputs": [],
   "source": [
    "# --------------------\n",
    "# Extract CNN features\n",
    "# --------------------\n",
    "con_feats = ExtractCNNfeatures()\n",
    "# Extract convolutional features from pre-trained VGG network\n",
    "con_feats.extract_batch('/data/meron/kenya_data/meron_photos_processed_old', meta_data_file, \n",
    "                        feature_dir, model_type='resnet50', n=5000)"
   ]
  }
 ],
 "metadata": {
  "kernelspec": {
   "display_name": "Python 3",
   "language": "python",
   "name": "python3"
  },
  "language_info": {
   "codemirror_mode": {
    "name": "ipython",
    "version": 3
   },
   "file_extension": ".py",
   "mimetype": "text/x-python",
   "name": "python",
   "nbconvert_exporter": "python",
   "pygments_lexer": "ipython3",
   "version": "3.5.2"
  }
 },
 "nbformat": 4,
 "nbformat_minor": 2
}
