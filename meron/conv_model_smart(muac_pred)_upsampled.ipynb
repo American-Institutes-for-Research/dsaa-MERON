{
 "cells": [
  {
   "cell_type": "code",
   "execution_count": 1,
   "metadata": {},
   "outputs": [
    {
     "name": "stderr",
     "output_type": "stream",
     "text": [
      "/usr/local/lib/python3.5/dist-packages/h5py/__init__.py:36: FutureWarning: Conversion of the second argument of issubdtype from `float` to `np.floating` is deprecated. In future, it will be treated as `np.float64 == np.dtype(float).type`.\n",
      "  from ._conv import register_converters as _register_converters\n",
      "Using TensorFlow backend.\n"
     ]
    }
   ],
   "source": [
    "import numpy as np\n",
    "import os\n",
    "import pandas as pd\n",
    "from sklearn.model_selection import train_test_split\n",
    "from keras.callbacks import EarlyStopping, ModelCheckpoint\n",
    "from keras.models import load_model\n",
    "from sklearn.preprocessing import StandardScaler, maxabs_scale\n",
    "from keras.optimizers import Adam, SGD\n",
    "import matplotlib.pyplot as plt\n",
    "%matplotlib inline\n",
    "from sklearn.utils.class_weight import compute_class_weight\n",
    "from sklearn.metrics import roc_auc_score,f1_score, roc_curve, auc, accuracy_score, confusion_matrix\n",
    "import shutil"
   ]
  },
  {
   "cell_type": "code",
   "execution_count": 2,
   "metadata": {},
   "outputs": [],
   "source": [
    "from model import MeronSmart, ml_models,plot_confusion_matrix"
   ]
  },
  {
   "cell_type": "code",
   "execution_count": 3,
   "metadata": {},
   "outputs": [],
   "source": [
    "meron = MeronSmart()"
   ]
  },
  {
   "cell_type": "code",
   "execution_count": 4,
   "metadata": {},
   "outputs": [],
   "source": [
    "dense_model = meron.build_model(reg_val=None)"
   ]
  },
  {
   "cell_type": "code",
   "execution_count": 5,
   "metadata": {},
   "outputs": [
    {
     "name": "stdout",
     "output_type": "stream",
     "text": [
      "_________________________________________________________________\n",
      "Layer (type)                 Output Shape              Param #   \n",
      "=================================================================\n",
      "dense_1 (Dense)              (None, 128)               262528    \n",
      "_________________________________________________________________\n",
      "activation_1 (Activation)    (None, 128)               0         \n",
      "_________________________________________________________________\n",
      "dropout_1 (Dropout)          (None, 128)               0         \n",
      "_________________________________________________________________\n",
      "dense_2 (Dense)              (None, 16)                2064      \n",
      "_________________________________________________________________\n",
      "activation_2 (Activation)    (None, 16)                0         \n",
      "_________________________________________________________________\n",
      "dropout_2 (Dropout)          (None, 16)                0         \n",
      "_________________________________________________________________\n",
      "dense_3 (Dense)              (None, 3)                 51        \n",
      "=================================================================\n",
      "Total params: 264,643\n",
      "Trainable params: 264,643\n",
      "Non-trainable params: 0\n",
      "_________________________________________________________________\n"
     ]
    }
   ],
   "source": [
    "dense_model.summary()"
   ]
  },
  {
   "cell_type": "code",
   "execution_count": 6,
   "metadata": {},
   "outputs": [],
   "source": [
    "merged_df = pd.read_csv('/data/meron/kenya_data/meron_merged_mal(sam_mam_upsampled)_muac.csv')\n",
    "meta_data = pd.read_csv('/data/meron/kenya_data/meron_link_data/meron_meta_processed.csv')\n",
    "sam_names=pd.read_csv('/data/meron/sam_photo_ids.csv')\n",
    "mam_names=pd.read_csv('/data/meron/mam_photo_ids.csv')\n",
    "\n",
    "#use wfh in meta_data to filter wfh<4\n",
    "merged_df=merged_df[merged_df['wfh']<4]"
   ]
  },
  {
   "cell_type": "code",
   "execution_count": 7,
   "metadata": {},
   "outputs": [
    {
     "data": {
      "text/html": [
       "<div>\n",
       "<style scoped>\n",
       "    .dataframe tbody tr th:only-of-type {\n",
       "        vertical-align: middle;\n",
       "    }\n",
       "\n",
       "    .dataframe tbody tr th {\n",
       "        vertical-align: top;\n",
       "    }\n",
       "\n",
       "    .dataframe thead th {\n",
       "        text-align: right;\n",
       "    }\n",
       "</style>\n",
       "<table border=\"1\" class=\"dataframe\">\n",
       "  <thead>\n",
       "    <tr style=\"text-align: right;\">\n",
       "      <th></th>\n",
       "      <th>photo_id</th>\n",
       "      <th>0</th>\n",
       "      <th>1</th>\n",
       "      <th>2</th>\n",
       "      <th>3</th>\n",
       "      <th>4</th>\n",
       "      <th>5</th>\n",
       "      <th>6</th>\n",
       "      <th>7</th>\n",
       "      <th>8</th>\n",
       "      <th>...</th>\n",
       "      <th>2046</th>\n",
       "      <th>2047</th>\n",
       "      <th>gender_male</th>\n",
       "      <th>age_months</th>\n",
       "      <th>maln_mam</th>\n",
       "      <th>maln_normal</th>\n",
       "      <th>maln_sam</th>\n",
       "      <th>wfh</th>\n",
       "      <th>maln_class</th>\n",
       "      <th>muac_prediction</th>\n",
       "    </tr>\n",
       "  </thead>\n",
       "  <tbody>\n",
       "    <tr>\n",
       "      <th>0</th>\n",
       "      <td>1517384891739.jpg</td>\n",
       "      <td>0.157335</td>\n",
       "      <td>0.015997</td>\n",
       "      <td>0.707683</td>\n",
       "      <td>0.009274</td>\n",
       "      <td>0.000000</td>\n",
       "      <td>0.698504</td>\n",
       "      <td>1.974866</td>\n",
       "      <td>6.329210</td>\n",
       "      <td>0.0</td>\n",
       "      <td>...</td>\n",
       "      <td>1.867832</td>\n",
       "      <td>0.024899</td>\n",
       "      <td>0</td>\n",
       "      <td>32.0</td>\n",
       "      <td>1</td>\n",
       "      <td>0</td>\n",
       "      <td>0</td>\n",
       "      <td>-2.97</td>\n",
       "      <td>mam</td>\n",
       "      <td>normal</td>\n",
       "    </tr>\n",
       "    <tr>\n",
       "      <th>1</th>\n",
       "      <td>1517384891739.jpg</td>\n",
       "      <td>0.000000</td>\n",
       "      <td>0.000000</td>\n",
       "      <td>1.571181</td>\n",
       "      <td>0.000000</td>\n",
       "      <td>0.000000</td>\n",
       "      <td>0.627390</td>\n",
       "      <td>1.353355</td>\n",
       "      <td>6.647170</td>\n",
       "      <td>0.0</td>\n",
       "      <td>...</td>\n",
       "      <td>2.161191</td>\n",
       "      <td>0.000000</td>\n",
       "      <td>0</td>\n",
       "      <td>32.0</td>\n",
       "      <td>1</td>\n",
       "      <td>0</td>\n",
       "      <td>0</td>\n",
       "      <td>-2.97</td>\n",
       "      <td>mam</td>\n",
       "      <td>normal</td>\n",
       "    </tr>\n",
       "    <tr>\n",
       "      <th>2</th>\n",
       "      <td>1517478268776.jpg</td>\n",
       "      <td>0.045922</td>\n",
       "      <td>0.000000</td>\n",
       "      <td>3.087823</td>\n",
       "      <td>0.000000</td>\n",
       "      <td>0.331306</td>\n",
       "      <td>1.069497</td>\n",
       "      <td>1.636940</td>\n",
       "      <td>1.760356</td>\n",
       "      <td>0.0</td>\n",
       "      <td>...</td>\n",
       "      <td>4.154829</td>\n",
       "      <td>0.812403</td>\n",
       "      <td>1</td>\n",
       "      <td>19.0</td>\n",
       "      <td>1</td>\n",
       "      <td>0</td>\n",
       "      <td>0</td>\n",
       "      <td>-2.09</td>\n",
       "      <td>mam</td>\n",
       "      <td>normal</td>\n",
       "    </tr>\n",
       "    <tr>\n",
       "      <th>3</th>\n",
       "      <td>1517478268776.jpg</td>\n",
       "      <td>0.181375</td>\n",
       "      <td>0.000000</td>\n",
       "      <td>3.747156</td>\n",
       "      <td>0.022242</td>\n",
       "      <td>1.065049</td>\n",
       "      <td>1.856126</td>\n",
       "      <td>1.670891</td>\n",
       "      <td>2.034269</td>\n",
       "      <td>0.0</td>\n",
       "      <td>...</td>\n",
       "      <td>3.283012</td>\n",
       "      <td>1.401969</td>\n",
       "      <td>1</td>\n",
       "      <td>19.0</td>\n",
       "      <td>1</td>\n",
       "      <td>0</td>\n",
       "      <td>0</td>\n",
       "      <td>-2.09</td>\n",
       "      <td>mam</td>\n",
       "      <td>normal</td>\n",
       "    </tr>\n",
       "    <tr>\n",
       "      <th>4</th>\n",
       "      <td>1517238175403.jpg</td>\n",
       "      <td>0.000000</td>\n",
       "      <td>0.369026</td>\n",
       "      <td>2.461378</td>\n",
       "      <td>2.946527</td>\n",
       "      <td>0.661946</td>\n",
       "      <td>4.072535</td>\n",
       "      <td>0.526728</td>\n",
       "      <td>6.682256</td>\n",
       "      <td>0.0</td>\n",
       "      <td>...</td>\n",
       "      <td>2.062518</td>\n",
       "      <td>0.352439</td>\n",
       "      <td>1</td>\n",
       "      <td>18.0</td>\n",
       "      <td>0</td>\n",
       "      <td>1</td>\n",
       "      <td>0</td>\n",
       "      <td>-1.16</td>\n",
       "      <td>normal</td>\n",
       "      <td>normal</td>\n",
       "    </tr>\n",
       "  </tbody>\n",
       "</table>\n",
       "<p>5 rows × 2057 columns</p>\n",
       "</div>"
      ],
      "text/plain": [
       "            photo_id         0         1         2         3         4  \\\n",
       "0  1517384891739.jpg  0.157335  0.015997  0.707683  0.009274  0.000000   \n",
       "1  1517384891739.jpg  0.000000  0.000000  1.571181  0.000000  0.000000   \n",
       "2  1517478268776.jpg  0.045922  0.000000  3.087823  0.000000  0.331306   \n",
       "3  1517478268776.jpg  0.181375  0.000000  3.747156  0.022242  1.065049   \n",
       "4  1517238175403.jpg  0.000000  0.369026  2.461378  2.946527  0.661946   \n",
       "\n",
       "          5         6         7    8       ...             2046      2047  \\\n",
       "0  0.698504  1.974866  6.329210  0.0       ...         1.867832  0.024899   \n",
       "1  0.627390  1.353355  6.647170  0.0       ...         2.161191  0.000000   \n",
       "2  1.069497  1.636940  1.760356  0.0       ...         4.154829  0.812403   \n",
       "3  1.856126  1.670891  2.034269  0.0       ...         3.283012  1.401969   \n",
       "4  4.072535  0.526728  6.682256  0.0       ...         2.062518  0.352439   \n",
       "\n",
       "   gender_male  age_months  maln_mam  maln_normal  maln_sam   wfh  maln_class  \\\n",
       "0            0        32.0         1            0         0 -2.97         mam   \n",
       "1            0        32.0         1            0         0 -2.97         mam   \n",
       "2            1        19.0         1            0         0 -2.09         mam   \n",
       "3            1        19.0         1            0         0 -2.09         mam   \n",
       "4            1        18.0         0            1         0 -1.16      normal   \n",
       "\n",
       "   muac_prediction  \n",
       "0           normal  \n",
       "1           normal  \n",
       "2           normal  \n",
       "3           normal  \n",
       "4           normal  \n",
       "\n",
       "[5 rows x 2057 columns]"
      ]
     },
     "execution_count": 7,
     "metadata": {},
     "output_type": "execute_result"
    }
   ],
   "source": [
    "merged_df.head()"
   ]
  },
  {
   "cell_type": "markdown",
   "metadata": {},
   "source": [
    "# separate the sam samples so duplicates(flipped image) are not distributed evenly in training and test. samples in validation set are not seen in training"
   ]
  },
  {
   "cell_type": "code",
   "execution_count": 8,
   "metadata": {},
   "outputs": [],
   "source": [
    "sam_samples=merged_df.loc[merged_df['photo_id'].isin(sam_names['photo_id'])]\n",
    "mam_samples=merged_df.loc[merged_df['photo_id'].isin(mam_names['photo_id'])]\n",
    "\n",
    "other_samples=merged_df.loc[~merged_df['photo_id'].isin(sam_names['photo_id'])].loc[~merged_df['photo_id'].isin(mam_names['photo_id'])]"
   ]
  },
  {
   "cell_type": "code",
   "execution_count": 23,
   "metadata": {},
   "outputs": [
    {
     "name": "stdout",
     "output_type": "stream",
     "text": [
      "sam sample size:(228, 2056)\n",
      "mam sample size:(944, 2056)\n",
      "other sample size:(3019, 2056)\n"
     ]
    }
   ],
   "source": [
    "print('sam sample size:{}'.format(sam_samples.shape))\n",
    "print('mam sample size:{}'.format(mam_samples.shape))\n",
    "print('other sample size:{}'.format(other_samples.shape))"
   ]
  },
  {
   "cell_type": "code",
   "execution_count": 11,
   "metadata": {},
   "outputs": [
    {
     "name": "stdout",
     "output_type": "stream",
     "text": [
      "sam training size:(188, 2057)\n",
      "sam val size:(40, 2057)\n"
     ]
    }
   ],
   "source": [
    "sam_train=sam_samples[:188]\n",
    "sam_validation=sam_samples[188:]\n",
    "print('sam training size:{}'.format(sam_train.shape))\n",
    "print('sam val size:{}'.format(sam_validation.shape))"
   ]
  },
  {
   "cell_type": "code",
   "execution_count": 12,
   "metadata": {},
   "outputs": [
    {
     "name": "stdout",
     "output_type": "stream",
     "text": [
      "mam training size:(750, 2057)\n",
      "mam val size:(194, 2057)\n"
     ]
    }
   ],
   "source": [
    "mam_train=mam_samples[:750]\n",
    "mam_validation=mam_samples[750:]\n",
    "print('mam training size:{}'.format(mam_train.shape))\n",
    "print('mam val size:{}'.format(mam_validation.shape))"
   ]
  },
  {
   "cell_type": "code",
   "execution_count": 14,
   "metadata": {},
   "outputs": [
    {
     "data": {
      "text/html": [
       "<div>\n",
       "<style scoped>\n",
       "    .dataframe tbody tr th:only-of-type {\n",
       "        vertical-align: middle;\n",
       "    }\n",
       "\n",
       "    .dataframe tbody tr th {\n",
       "        vertical-align: top;\n",
       "    }\n",
       "\n",
       "    .dataframe thead th {\n",
       "        text-align: right;\n",
       "    }\n",
       "</style>\n",
       "<table border=\"1\" class=\"dataframe\">\n",
       "  <thead>\n",
       "    <tr style=\"text-align: right;\">\n",
       "      <th></th>\n",
       "      <th>photo_id</th>\n",
       "      <th>0</th>\n",
       "      <th>1</th>\n",
       "      <th>2</th>\n",
       "      <th>3</th>\n",
       "      <th>4</th>\n",
       "      <th>5</th>\n",
       "      <th>6</th>\n",
       "      <th>7</th>\n",
       "      <th>8</th>\n",
       "      <th>...</th>\n",
       "      <th>2046</th>\n",
       "      <th>2047</th>\n",
       "      <th>gender_male</th>\n",
       "      <th>age_months</th>\n",
       "      <th>maln_mam</th>\n",
       "      <th>maln_normal</th>\n",
       "      <th>maln_sam</th>\n",
       "      <th>wfh</th>\n",
       "      <th>maln_class</th>\n",
       "      <th>muac_prediction</th>\n",
       "    </tr>\n",
       "  </thead>\n",
       "  <tbody>\n",
       "    <tr>\n",
       "      <th>5</th>\n",
       "      <td>1519634722743.jpg</td>\n",
       "      <td>0.000000</td>\n",
       "      <td>0.218025</td>\n",
       "      <td>0.000000</td>\n",
       "      <td>0.237022</td>\n",
       "      <td>0.013627</td>\n",
       "      <td>0.799962</td>\n",
       "      <td>1.346431</td>\n",
       "      <td>13.252592</td>\n",
       "      <td>0.000000</td>\n",
       "      <td>...</td>\n",
       "      <td>2.831110</td>\n",
       "      <td>2.128186</td>\n",
       "      <td>1</td>\n",
       "      <td>29.0</td>\n",
       "      <td>0</td>\n",
       "      <td>0</td>\n",
       "      <td>1</td>\n",
       "      <td>-4.96</td>\n",
       "      <td>sam</td>\n",
       "      <td>normal</td>\n",
       "    </tr>\n",
       "    <tr>\n",
       "      <th>6</th>\n",
       "      <td>1519634722743.jpg</td>\n",
       "      <td>0.000000</td>\n",
       "      <td>0.310197</td>\n",
       "      <td>0.000000</td>\n",
       "      <td>0.000000</td>\n",
       "      <td>0.538029</td>\n",
       "      <td>1.071039</td>\n",
       "      <td>2.753774</td>\n",
       "      <td>14.217513</td>\n",
       "      <td>0.000000</td>\n",
       "      <td>...</td>\n",
       "      <td>2.450462</td>\n",
       "      <td>3.501058</td>\n",
       "      <td>1</td>\n",
       "      <td>29.0</td>\n",
       "      <td>0</td>\n",
       "      <td>0</td>\n",
       "      <td>1</td>\n",
       "      <td>-4.96</td>\n",
       "      <td>sam</td>\n",
       "      <td>normal</td>\n",
       "    </tr>\n",
       "    <tr>\n",
       "      <th>22</th>\n",
       "      <td>1517308385587.jpg</td>\n",
       "      <td>0.000000</td>\n",
       "      <td>1.070153</td>\n",
       "      <td>0.883892</td>\n",
       "      <td>0.000000</td>\n",
       "      <td>2.273226</td>\n",
       "      <td>0.432866</td>\n",
       "      <td>0.370594</td>\n",
       "      <td>9.211809</td>\n",
       "      <td>0.108621</td>\n",
       "      <td>...</td>\n",
       "      <td>0.715576</td>\n",
       "      <td>0.080925</td>\n",
       "      <td>1</td>\n",
       "      <td>23.0</td>\n",
       "      <td>0</td>\n",
       "      <td>0</td>\n",
       "      <td>1</td>\n",
       "      <td>-3.03</td>\n",
       "      <td>sam</td>\n",
       "      <td>mam</td>\n",
       "    </tr>\n",
       "    <tr>\n",
       "      <th>23</th>\n",
       "      <td>1517308385587.jpg</td>\n",
       "      <td>0.000000</td>\n",
       "      <td>1.022285</td>\n",
       "      <td>3.869135</td>\n",
       "      <td>0.089626</td>\n",
       "      <td>2.712403</td>\n",
       "      <td>1.364627</td>\n",
       "      <td>0.538262</td>\n",
       "      <td>10.137850</td>\n",
       "      <td>0.012134</td>\n",
       "      <td>...</td>\n",
       "      <td>0.276103</td>\n",
       "      <td>0.006144</td>\n",
       "      <td>1</td>\n",
       "      <td>23.0</td>\n",
       "      <td>0</td>\n",
       "      <td>0</td>\n",
       "      <td>1</td>\n",
       "      <td>-3.03</td>\n",
       "      <td>sam</td>\n",
       "      <td>mam</td>\n",
       "    </tr>\n",
       "    <tr>\n",
       "      <th>39</th>\n",
       "      <td>1517470917615.jpg</td>\n",
       "      <td>3.025537</td>\n",
       "      <td>0.023323</td>\n",
       "      <td>2.381346</td>\n",
       "      <td>0.524410</td>\n",
       "      <td>0.000000</td>\n",
       "      <td>0.000000</td>\n",
       "      <td>5.221360</td>\n",
       "      <td>3.948538</td>\n",
       "      <td>9.314640</td>\n",
       "      <td>...</td>\n",
       "      <td>0.257508</td>\n",
       "      <td>0.000000</td>\n",
       "      <td>0</td>\n",
       "      <td>57.0</td>\n",
       "      <td>0</td>\n",
       "      <td>0</td>\n",
       "      <td>1</td>\n",
       "      <td>-3.14</td>\n",
       "      <td>sam</td>\n",
       "      <td>normal</td>\n",
       "    </tr>\n",
       "  </tbody>\n",
       "</table>\n",
       "<p>5 rows × 2057 columns</p>\n",
       "</div>"
      ],
      "text/plain": [
       "             photo_id         0         1         2         3         4  \\\n",
       "5   1519634722743.jpg  0.000000  0.218025  0.000000  0.237022  0.013627   \n",
       "6   1519634722743.jpg  0.000000  0.310197  0.000000  0.000000  0.538029   \n",
       "22  1517308385587.jpg  0.000000  1.070153  0.883892  0.000000  2.273226   \n",
       "23  1517308385587.jpg  0.000000  1.022285  3.869135  0.089626  2.712403   \n",
       "39  1517470917615.jpg  3.025537  0.023323  2.381346  0.524410  0.000000   \n",
       "\n",
       "           5         6          7         8       ...             2046  \\\n",
       "5   0.799962  1.346431  13.252592  0.000000       ...         2.831110   \n",
       "6   1.071039  2.753774  14.217513  0.000000       ...         2.450462   \n",
       "22  0.432866  0.370594   9.211809  0.108621       ...         0.715576   \n",
       "23  1.364627  0.538262  10.137850  0.012134       ...         0.276103   \n",
       "39  0.000000  5.221360   3.948538  9.314640       ...         0.257508   \n",
       "\n",
       "        2047  gender_male  age_months  maln_mam  maln_normal  maln_sam   wfh  \\\n",
       "5   2.128186            1        29.0         0            0         1 -4.96   \n",
       "6   3.501058            1        29.0         0            0         1 -4.96   \n",
       "22  0.080925            1        23.0         0            0         1 -3.03   \n",
       "23  0.006144            1        23.0         0            0         1 -3.03   \n",
       "39  0.000000            0        57.0         0            0         1 -3.14   \n",
       "\n",
       "    maln_class  muac_prediction  \n",
       "5          sam           normal  \n",
       "6          sam           normal  \n",
       "22         sam              mam  \n",
       "23         sam              mam  \n",
       "39         sam           normal  \n",
       "\n",
       "[5 rows x 2057 columns]"
      ]
     },
     "execution_count": 14,
     "metadata": {},
     "output_type": "execute_result"
    }
   ],
   "source": [
    "sam_train.head()"
   ]
  },
  {
   "cell_type": "code",
   "execution_count": 13,
   "metadata": {},
   "outputs": [],
   "source": [
    "target_sam_train = np.array(sam_train[['maln_mam','maln_normal','maln_sam']])\n",
    "target_sam_validation=np.array(sam_validation[['maln_mam','maln_normal','maln_sam']])\n",
    "target_sam_muac_validation=np.array(sam_validation['muac_prediction'])\n",
    "\n",
    "target_mam_train = np.array(mam_train[['maln_mam','maln_normal','maln_sam']])\n",
    "target_mam_validation=np.array(mam_validation[['maln_mam','maln_normal','maln_sam']])\n",
    "target_mam_muac_validation=np.array(mam_validation['muac_prediction'])\n",
    "\n",
    "\n",
    "target_other=np.array(other_samples[['maln_mam','maln_normal','maln_sam']])\n",
    "target_other_muac_validation=np.array(other_samples['muac_prediction'])"
   ]
  },
  {
   "cell_type": "code",
   "execution_count": 35,
   "metadata": {},
   "outputs": [
    {
     "data": {
      "text/plain": [
       "array(['sam', 'sam', 'normal', 'normal', 'mam', 'mam', 'mam', 'mam',\n",
       "       'mam', 'mam', 'normal', 'normal', 'mam', 'mam', 'normal', 'normal',\n",
       "       'normal', 'normal', 'normal', 'normal', 'normal', 'normal',\n",
       "       'normal', 'normal', 'normal', 'normal', 'normal', 'normal', 'mam',\n",
       "       'mam', 'normal', 'normal', 'normal', 'normal', 'mam', 'mam', 'mam',\n",
       "       'mam', 'normal', 'normal'], dtype=object)"
      ]
     },
     "execution_count": 35,
     "metadata": {},
     "output_type": "execute_result"
    }
   ],
   "source": [
    "target_sam_muac_validation"
   ]
  },
  {
   "cell_type": "code",
   "execution_count": 11,
   "metadata": {},
   "outputs": [
    {
     "name": "stdout",
     "output_type": "stream",
     "text": [
      "proportion of normal in dataset: 0.7146265807683131\n",
      "number of sam: 232\n",
      "number of mam: 964\n",
      "number of normal: 2995\n"
     ]
    }
   ],
   "source": [
    "num_mam = merged_df['maln_mam'].sum()\n",
    "num_normal = merged_df['maln_normal'].sum()\n",
    "num_sam = merged_df['maln_sam'].sum()\n",
    "counts = [num_mam, num_normal, num_sam]\n",
    "names = ('mam', 'normal','sam')\n",
    "print('proportion of normal in dataset: {}'.format(num_normal/np.sum(counts)))\n",
    "print('number of sam: {}'.format(num_sam))\n",
    "print('number of mam: {}'.format(num_mam))\n",
    "print('number of normal: {}'.format(num_normal))"
   ]
  },
  {
   "cell_type": "code",
   "execution_count": 14,
   "metadata": {},
   "outputs": [],
   "source": [
    "deselect_cols = ['photo_id','maln_mam','maln_normal','maln_sam','wfh','maln_class','muac_prediction']"
   ]
  },
  {
   "cell_type": "code",
   "execution_count": 15,
   "metadata": {},
   "outputs": [
    {
     "data": {
      "text/html": [
       "<div>\n",
       "<style scoped>\n",
       "    .dataframe tbody tr th:only-of-type {\n",
       "        vertical-align: middle;\n",
       "    }\n",
       "\n",
       "    .dataframe tbody tr th {\n",
       "        vertical-align: top;\n",
       "    }\n",
       "\n",
       "    .dataframe thead th {\n",
       "        text-align: right;\n",
       "    }\n",
       "</style>\n",
       "<table border=\"1\" class=\"dataframe\">\n",
       "  <thead>\n",
       "    <tr style=\"text-align: right;\">\n",
       "      <th></th>\n",
       "      <th>0</th>\n",
       "      <th>1</th>\n",
       "      <th>2</th>\n",
       "      <th>3</th>\n",
       "      <th>4</th>\n",
       "      <th>5</th>\n",
       "      <th>6</th>\n",
       "      <th>7</th>\n",
       "      <th>8</th>\n",
       "      <th>9</th>\n",
       "      <th>...</th>\n",
       "      <th>2040</th>\n",
       "      <th>2041</th>\n",
       "      <th>2042</th>\n",
       "      <th>2043</th>\n",
       "      <th>2044</th>\n",
       "      <th>2045</th>\n",
       "      <th>2046</th>\n",
       "      <th>2047</th>\n",
       "      <th>gender_male</th>\n",
       "      <th>age_months</th>\n",
       "    </tr>\n",
       "  </thead>\n",
       "  <tbody>\n",
       "    <tr>\n",
       "      <th>4</th>\n",
       "      <td>0.000000</td>\n",
       "      <td>0.369026</td>\n",
       "      <td>2.461378</td>\n",
       "      <td>2.946527</td>\n",
       "      <td>0.661946</td>\n",
       "      <td>4.072535</td>\n",
       "      <td>0.526728</td>\n",
       "      <td>6.682256</td>\n",
       "      <td>0.000000</td>\n",
       "      <td>0.0</td>\n",
       "      <td>...</td>\n",
       "      <td>0.687893</td>\n",
       "      <td>0.000000</td>\n",
       "      <td>0.000000</td>\n",
       "      <td>1.743518</td>\n",
       "      <td>0.575827</td>\n",
       "      <td>0.000000</td>\n",
       "      <td>2.062518</td>\n",
       "      <td>0.352439</td>\n",
       "      <td>1</td>\n",
       "      <td>18.0</td>\n",
       "    </tr>\n",
       "    <tr>\n",
       "      <th>9</th>\n",
       "      <td>6.018714</td>\n",
       "      <td>0.000000</td>\n",
       "      <td>4.922188</td>\n",
       "      <td>0.250943</td>\n",
       "      <td>3.632266</td>\n",
       "      <td>0.441533</td>\n",
       "      <td>2.783796</td>\n",
       "      <td>9.161777</td>\n",
       "      <td>0.000000</td>\n",
       "      <td>0.0</td>\n",
       "      <td>...</td>\n",
       "      <td>0.000000</td>\n",
       "      <td>0.000000</td>\n",
       "      <td>0.451506</td>\n",
       "      <td>3.653616</td>\n",
       "      <td>0.734750</td>\n",
       "      <td>0.000000</td>\n",
       "      <td>0.000000</td>\n",
       "      <td>0.000000</td>\n",
       "      <td>0</td>\n",
       "      <td>25.0</td>\n",
       "    </tr>\n",
       "    <tr>\n",
       "      <th>10</th>\n",
       "      <td>0.302067</td>\n",
       "      <td>0.000000</td>\n",
       "      <td>0.856374</td>\n",
       "      <td>4.006856</td>\n",
       "      <td>0.000000</td>\n",
       "      <td>0.476372</td>\n",
       "      <td>4.314477</td>\n",
       "      <td>11.858264</td>\n",
       "      <td>0.000000</td>\n",
       "      <td>0.0</td>\n",
       "      <td>...</td>\n",
       "      <td>1.534502</td>\n",
       "      <td>0.000000</td>\n",
       "      <td>0.453811</td>\n",
       "      <td>16.605633</td>\n",
       "      <td>0.000000</td>\n",
       "      <td>0.845772</td>\n",
       "      <td>0.506828</td>\n",
       "      <td>0.000000</td>\n",
       "      <td>1</td>\n",
       "      <td>40.0</td>\n",
       "    </tr>\n",
       "    <tr>\n",
       "      <th>11</th>\n",
       "      <td>0.000000</td>\n",
       "      <td>0.296940</td>\n",
       "      <td>4.927894</td>\n",
       "      <td>0.212098</td>\n",
       "      <td>0.008911</td>\n",
       "      <td>1.134834</td>\n",
       "      <td>3.333884</td>\n",
       "      <td>2.954910</td>\n",
       "      <td>1.047672</td>\n",
       "      <td>0.0</td>\n",
       "      <td>...</td>\n",
       "      <td>1.352508</td>\n",
       "      <td>0.005078</td>\n",
       "      <td>0.010983</td>\n",
       "      <td>8.271940</td>\n",
       "      <td>0.000000</td>\n",
       "      <td>0.000000</td>\n",
       "      <td>0.876071</td>\n",
       "      <td>0.032372</td>\n",
       "      <td>0</td>\n",
       "      <td>41.0</td>\n",
       "    </tr>\n",
       "    <tr>\n",
       "      <th>12</th>\n",
       "      <td>0.000000</td>\n",
       "      <td>0.228124</td>\n",
       "      <td>0.801086</td>\n",
       "      <td>0.476915</td>\n",
       "      <td>1.492239</td>\n",
       "      <td>1.457904</td>\n",
       "      <td>1.052291</td>\n",
       "      <td>18.379776</td>\n",
       "      <td>0.000000</td>\n",
       "      <td>0.0</td>\n",
       "      <td>...</td>\n",
       "      <td>0.005074</td>\n",
       "      <td>0.000000</td>\n",
       "      <td>0.000000</td>\n",
       "      <td>12.780549</td>\n",
       "      <td>0.740513</td>\n",
       "      <td>0.000000</td>\n",
       "      <td>1.912864</td>\n",
       "      <td>1.549561</td>\n",
       "      <td>0</td>\n",
       "      <td>28.0</td>\n",
       "    </tr>\n",
       "  </tbody>\n",
       "</table>\n",
       "<p>5 rows × 2050 columns</p>\n",
       "</div>"
      ],
      "text/plain": [
       "           0         1         2         3         4         5         6  \\\n",
       "4   0.000000  0.369026  2.461378  2.946527  0.661946  4.072535  0.526728   \n",
       "9   6.018714  0.000000  4.922188  0.250943  3.632266  0.441533  2.783796   \n",
       "10  0.302067  0.000000  0.856374  4.006856  0.000000  0.476372  4.314477   \n",
       "11  0.000000  0.296940  4.927894  0.212098  0.008911  1.134834  3.333884   \n",
       "12  0.000000  0.228124  0.801086  0.476915  1.492239  1.457904  1.052291   \n",
       "\n",
       "            7         8    9     ...          2040      2041      2042  \\\n",
       "4    6.682256  0.000000  0.0     ...      0.687893  0.000000  0.000000   \n",
       "9    9.161777  0.000000  0.0     ...      0.000000  0.000000  0.451506   \n",
       "10  11.858264  0.000000  0.0     ...      1.534502  0.000000  0.453811   \n",
       "11   2.954910  1.047672  0.0     ...      1.352508  0.005078  0.010983   \n",
       "12  18.379776  0.000000  0.0     ...      0.005074  0.000000  0.000000   \n",
       "\n",
       "         2043      2044      2045      2046      2047  gender_male  age_months  \n",
       "4    1.743518  0.575827  0.000000  2.062518  0.352439            1        18.0  \n",
       "9    3.653616  0.734750  0.000000  0.000000  0.000000            0        25.0  \n",
       "10  16.605633  0.000000  0.845772  0.506828  0.000000            1        40.0  \n",
       "11   8.271940  0.000000  0.000000  0.876071  0.032372            0        41.0  \n",
       "12  12.780549  0.740513  0.000000  1.912864  1.549561            0        28.0  \n",
       "\n",
       "[5 rows x 2050 columns]"
      ]
     },
     "execution_count": 15,
     "metadata": {},
     "output_type": "execute_result"
    }
   ],
   "source": [
    "select = [x for x in merged_df.columns if x not in deselect_cols]\n",
    "sam_train_features = sam_train.loc[:, select]\n",
    "sam_validation_features = sam_validation.loc[:, select]\n",
    "\n",
    "mam_train_features = mam_train.loc[:, select]\n",
    "mam_validation_features = mam_validation.loc[:, select]\n",
    "\n",
    "other_features=other_samples.loc[:, select]\n",
    "other_features.head()"
   ]
  },
  {
   "cell_type": "markdown",
   "metadata": {},
   "source": [
    "# Split data into training and testing sets, then train model"
   ]
  },
  {
   "cell_type": "code",
   "execution_count": 234,
   "metadata": {},
   "outputs": [],
   "source": [
    "whole_data=pd.concat([other_features, sam_train_features, sam_validation_features,mam_train_features,mam_validation_features], axis=0)"
   ]
  },
  {
   "cell_type": "code",
   "execution_count": 235,
   "metadata": {},
   "outputs": [],
   "source": [
    "### scale/standardize the features?\n",
    "conv_scaler = StandardScaler().fit(whole_data)\n",
    "sam_train_features_scaled = conv_scaler.transform(sam_train_features)\n",
    "sam_validation_features_scaled=conv_scaler.transform(sam_validation_features)\n",
    "\n",
    "mam_train_features_scaled = conv_scaler.transform(mam_train_features)\n",
    "mam_validation_features_scaled=conv_scaler.transform(mam_validation_features)\n",
    "\n",
    "other_features_scaled=conv_scaler.transform(other_features)"
   ]
  },
  {
   "cell_type": "code",
   "execution_count": 236,
   "metadata": {},
   "outputs": [],
   "source": [
    "### Break data into training and test (stratified)\n",
    "X_train1, X_test1, y_train1, y_test1 = train_test_split(other_features_scaled, target_other, test_size=0.2, \n",
    "                                                        random_state=42, stratify=target_other)\n",
    "\n",
    "X_train=np.concatenate((X_train1,sam_train_features_scaled,mam_train_features_scaled), axis=0)\n",
    "y_train=np.concatenate((y_train1,target_sam_train,target_mam_train), axis=0)\n",
    "\n",
    "X_test=np.concatenate((X_test1,sam_validation_features_scaled,mam_validation_features_scaled), axis=0)\n",
    "y_test=np.concatenate((y_test1,target_sam_validation, target_mam_validation), axis=0)"
   ]
  },
  {
   "cell_type": "code",
   "execution_count": 237,
   "metadata": {},
   "outputs": [],
   "source": [
    "### fetch data with muac_prediction, only care about the target for validation\n",
    "X_train2, X_test2, y_train2, y_test2 = train_test_split(other_samples, target_other, test_size=0.2, \n",
    "                                                        random_state=42, stratify=target_other)\n",
    "\n",
    "#X_train=np.concatenate((X_train1,sam_train_features_scaled,mam_train_features_scaled), axis=0)\n",
    "#y_train=np.concatenate((y_train1,target_sam_train,target_mam_train), axis=0)\n",
    "\n",
    "#X_test=np.concatenate((X_test1,sam_validation_features_scaled,mam_validation_features_scaled), axis=0)\n",
    "y_test_muac=np.concatenate((X_test2['muac_prediction'],target_sam_muac_validation, target_mam_muac_validation), axis=0)"
   ]
  },
  {
   "cell_type": "code",
   "execution_count": 58,
   "metadata": {},
   "outputs": [
    {
     "name": "stdout",
     "output_type": "stream",
     "text": [
      "(3353, 2050)\n",
      "(838, 2050)\n"
     ]
    }
   ],
   "source": [
    "print(X_train.shape)\n",
    "print(X_test.shape)"
   ]
  },
  {
   "cell_type": "code",
   "execution_count": 256,
   "metadata": {},
   "outputs": [],
   "source": [
    "y_test_labeled=pd.DataFrame({'y_test':np.argmax(y_test, axis=1)})\n",
    "#y_test_labeled\n",
    "#print(y_test_labeled[3])\n",
    "y_test_wfh=y_test_labeled['y_test'].map({0:'mam', 1:'normal', 2:'sam'})"
   ]
  },
  {
   "cell_type": "code",
   "execution_count": 257,
   "metadata": {},
   "outputs": [],
   "source": [
    "y_test_comparison=pd.DataFrame({'wfh_classification':y_test_wfh,\n",
    "                            'muac_classification':y_test_muac},\n",
    "                           columns = ['wfh_classification','muac_classification'])"
   ]
  },
  {
   "cell_type": "code",
   "execution_count": 287,
   "metadata": {},
   "outputs": [],
   "source": [
    "y_test_comparison=pd.read_csv('y_test_comparisons.csv')\n",
    "y_test_ensemble_pred=pd.read_csv('y_test_ensemble_pred.csv')"
   ]
  },
  {
   "cell_type": "code",
   "execution_count": 288,
   "metadata": {},
   "outputs": [
    {
     "data": {
      "text/plain": [
       "(838, 1)"
      ]
     },
     "execution_count": 288,
     "metadata": {},
     "output_type": "execute_result"
    }
   ],
   "source": [
    "y_test_ensemble_pred.shape"
   ]
  },
  {
   "cell_type": "code",
   "execution_count": 16,
   "metadata": {},
   "outputs": [],
   "source": [
    "early_stop = EarlyStopping(monitor='val_loss', patience=5)\n",
    "checkpoint = ModelCheckpoint('dense_resnetfeats_128_16(dropout05_filtered_upsampled2x).h5', monitor='val_loss', verbose=1,\n",
    "                             save_best_only=True, mode='min')"
   ]
  },
  {
   "cell_type": "markdown",
   "metadata": {},
   "source": [
    "## compute class weight\n",
    "w = compute_class_weight('balanced', np.unique(merged_df.maln_class), merged_df.maln_class)\n",
    "w"
   ]
  },
  {
   "cell_type": "markdown",
   "metadata": {},
   "source": [
    "dense_model.compile(loss='categorical_crossentropy',\n",
    "                               optimizer=Adam(lr=1e-4),\n",
    "                               metrics=['accuracy'])"
   ]
  },
  {
   "cell_type": "code",
   "execution_count": 20,
   "metadata": {},
   "outputs": [
    {
     "name": "stdout",
     "output_type": "stream",
     "text": [
      "Train on 3353 samples, validate on 838 samples\n",
      "Epoch 1/1000\n",
      "3353/3353 [==============================] - 0s 50us/step - loss: 1.1589 - acc: 0.4426 - val_loss: 1.0427 - val_acc: 0.4177\n",
      "\n",
      "Epoch 00001: val_loss did not improve from 0.97561\n",
      "Epoch 2/1000\n",
      "3353/3353 [==============================] - 0s 49us/step - loss: 1.1386 - acc: 0.4384 - val_loss: 1.0431 - val_acc: 0.4189\n",
      "\n",
      "Epoch 00002: val_loss did not improve from 0.97561\n",
      "Epoch 3/1000\n",
      "3353/3353 [==============================] - 0s 50us/step - loss: 1.1043 - acc: 0.4396 - val_loss: 1.0417 - val_acc: 0.4224\n",
      "\n",
      "Epoch 00003: val_loss did not improve from 0.97561\n",
      "Epoch 4/1000\n",
      "3353/3353 [==============================] - 0s 48us/step - loss: 1.1165 - acc: 0.4390 - val_loss: 1.0391 - val_acc: 0.4212\n",
      "\n",
      "Epoch 00004: val_loss did not improve from 0.97561\n",
      "Epoch 5/1000\n",
      "3353/3353 [==============================] - 0s 48us/step - loss: 1.0889 - acc: 0.4429 - val_loss: 1.0375 - val_acc: 0.4260\n",
      "\n",
      "Epoch 00005: val_loss did not improve from 0.97561\n",
      "Epoch 6/1000\n",
      "3353/3353 [==============================] - 0s 50us/step - loss: 1.0534 - acc: 0.4590 - val_loss: 1.0348 - val_acc: 0.4260\n",
      "\n",
      "Epoch 00006: val_loss did not improve from 0.97561\n",
      "Epoch 7/1000\n",
      "3353/3353 [==============================] - 0s 49us/step - loss: 1.0862 - acc: 0.4566 - val_loss: 1.0320 - val_acc: 0.4272\n",
      "\n",
      "Epoch 00007: val_loss did not improve from 0.97561\n",
      "Epoch 8/1000\n",
      "3353/3353 [==============================] - 0s 50us/step - loss: 1.0617 - acc: 0.4527 - val_loss: 1.0302 - val_acc: 0.4236\n",
      "\n",
      "Epoch 00008: val_loss did not improve from 0.97561\n",
      "Epoch 9/1000\n",
      "3353/3353 [==============================] - 0s 48us/step - loss: 1.0334 - acc: 0.4614 - val_loss: 1.0274 - val_acc: 0.4356\n",
      "\n",
      "Epoch 00009: val_loss did not improve from 0.97561\n",
      "Epoch 10/1000\n",
      "3353/3353 [==============================] - 0s 50us/step - loss: 1.0400 - acc: 0.4569 - val_loss: 1.0255 - val_acc: 0.4296\n",
      "\n",
      "Epoch 00010: val_loss did not improve from 0.97561\n",
      "Epoch 11/1000\n",
      "3353/3353 [==============================] - 0s 49us/step - loss: 1.0380 - acc: 0.4411 - val_loss: 1.0233 - val_acc: 0.4284\n",
      "\n",
      "Epoch 00011: val_loss did not improve from 0.97561\n",
      "Epoch 12/1000\n",
      "3353/3353 [==============================] - 0s 49us/step - loss: 1.0012 - acc: 0.4632 - val_loss: 1.0212 - val_acc: 0.4284\n",
      "\n",
      "Epoch 00012: val_loss did not improve from 0.97561\n",
      "Epoch 13/1000\n",
      "3353/3353 [==============================] - 0s 49us/step - loss: 1.0078 - acc: 0.4653 - val_loss: 1.0193 - val_acc: 0.4248\n",
      "\n",
      "Epoch 00013: val_loss did not improve from 0.97561\n",
      "Epoch 14/1000\n",
      "3353/3353 [==============================] - 0s 48us/step - loss: 1.0141 - acc: 0.4524 - val_loss: 1.0179 - val_acc: 0.4308\n",
      "\n",
      "Epoch 00014: val_loss did not improve from 0.97561\n",
      "Epoch 15/1000\n",
      "3353/3353 [==============================] - 0s 50us/step - loss: 1.0119 - acc: 0.4599 - val_loss: 1.0153 - val_acc: 0.4391\n",
      "\n",
      "Epoch 00015: val_loss did not improve from 0.97561\n",
      "Epoch 16/1000\n",
      "3353/3353 [==============================] - 0s 48us/step - loss: 0.9983 - acc: 0.4644 - val_loss: 1.0129 - val_acc: 0.4379\n",
      "\n",
      "Epoch 00016: val_loss did not improve from 0.97561\n",
      "Epoch 17/1000\n",
      "3353/3353 [==============================] - 0s 51us/step - loss: 0.9988 - acc: 0.4685 - val_loss: 1.0105 - val_acc: 0.4332\n",
      "\n",
      "Epoch 00017: val_loss did not improve from 0.97561\n",
      "Epoch 18/1000\n",
      "3353/3353 [==============================] - 0s 49us/step - loss: 0.9959 - acc: 0.4733 - val_loss: 1.0075 - val_acc: 0.4368\n",
      "\n",
      "Epoch 00018: val_loss did not improve from 0.97561\n",
      "Epoch 19/1000\n",
      "3353/3353 [==============================] - 0s 49us/step - loss: 0.9889 - acc: 0.4557 - val_loss: 1.0034 - val_acc: 0.4403\n",
      "\n",
      "Epoch 00019: val_loss did not improve from 0.97561\n",
      "Epoch 20/1000\n",
      "3353/3353 [==============================] - 0s 50us/step - loss: 0.9712 - acc: 0.4748 - val_loss: 1.0025 - val_acc: 0.4415\n",
      "\n",
      "Epoch 00020: val_loss did not improve from 0.97561\n",
      "Epoch 21/1000\n",
      "3353/3353 [==============================] - 0s 48us/step - loss: 0.9761 - acc: 0.4754 - val_loss: 1.0013 - val_acc: 0.4403\n",
      "\n",
      "Epoch 00021: val_loss did not improve from 0.97561\n",
      "Epoch 22/1000\n",
      "3353/3353 [==============================] - 0s 49us/step - loss: 0.9606 - acc: 0.4787 - val_loss: 1.0005 - val_acc: 0.4427\n",
      "\n",
      "Epoch 00022: val_loss did not improve from 0.97561\n",
      "Epoch 23/1000\n",
      "3353/3353 [==============================] - 0s 47us/step - loss: 0.9526 - acc: 0.4751 - val_loss: 1.0012 - val_acc: 0.4427\n",
      "\n",
      "Epoch 00023: val_loss did not improve from 0.97561\n",
      "Epoch 24/1000\n",
      "3353/3353 [==============================] - 0s 50us/step - loss: 0.9611 - acc: 0.4790 - val_loss: 1.0007 - val_acc: 0.4391\n",
      "\n",
      "Epoch 00024: val_loss did not improve from 0.97561\n",
      "Epoch 25/1000\n",
      "3353/3353 [==============================] - 0s 48us/step - loss: 0.9698 - acc: 0.4837 - val_loss: 0.9991 - val_acc: 0.4379\n",
      "\n",
      "Epoch 00025: val_loss did not improve from 0.97561\n",
      "Epoch 26/1000\n",
      "3353/3353 [==============================] - 0s 50us/step - loss: 0.9502 - acc: 0.4670 - val_loss: 0.9961 - val_acc: 0.4403\n",
      "\n",
      "Epoch 00026: val_loss did not improve from 0.97561\n",
      "Epoch 27/1000\n",
      "3353/3353 [==============================] - 0s 47us/step - loss: 0.9069 - acc: 0.4870 - val_loss: 0.9934 - val_acc: 0.4451\n",
      "\n",
      "Epoch 00027: val_loss did not improve from 0.97561\n",
      "Epoch 28/1000\n",
      "3353/3353 [==============================] - 0s 56us/step - loss: 0.9137 - acc: 0.4772 - val_loss: 0.9913 - val_acc: 0.4499\n",
      "\n",
      "Epoch 00028: val_loss did not improve from 0.97561\n",
      "Epoch 29/1000\n",
      "3353/3353 [==============================] - 0s 49us/step - loss: 0.9275 - acc: 0.4876 - val_loss: 0.9893 - val_acc: 0.4582\n",
      "\n",
      "Epoch 00029: val_loss did not improve from 0.97561\n",
      "Epoch 30/1000\n",
      "3353/3353 [==============================] - 0s 50us/step - loss: 0.9314 - acc: 0.4691 - val_loss: 0.9871 - val_acc: 0.4618\n",
      "\n",
      "Epoch 00030: val_loss did not improve from 0.97561\n",
      "Epoch 31/1000\n",
      "3353/3353 [==============================] - 0s 49us/step - loss: 0.9047 - acc: 0.5097 - val_loss: 0.9858 - val_acc: 0.4547\n",
      "\n",
      "Epoch 00031: val_loss did not improve from 0.97561\n",
      "Epoch 32/1000\n",
      "3353/3353 [==============================] - 0s 53us/step - loss: 0.8909 - acc: 0.5151 - val_loss: 0.9842 - val_acc: 0.4570\n",
      "\n",
      "Epoch 00032: val_loss did not improve from 0.97561\n",
      "Epoch 33/1000\n",
      "3353/3353 [==============================] - 0s 51us/step - loss: 0.8857 - acc: 0.4990 - val_loss: 0.9817 - val_acc: 0.4570\n",
      "\n",
      "Epoch 00033: val_loss did not improve from 0.97561\n",
      "Epoch 34/1000\n",
      "3353/3353 [==============================] - 0s 48us/step - loss: 0.8926 - acc: 0.5064 - val_loss: 0.9796 - val_acc: 0.4547\n",
      "\n",
      "Epoch 00034: val_loss did not improve from 0.97561\n",
      "Epoch 35/1000\n",
      "3353/3353 [==============================] - 0s 47us/step - loss: 0.9402 - acc: 0.4906 - val_loss: 0.9788 - val_acc: 0.4594\n",
      "\n",
      "Epoch 00035: val_loss did not improve from 0.97561\n",
      "Epoch 36/1000\n",
      "3353/3353 [==============================] - 0s 48us/step - loss: 0.8786 - acc: 0.5136 - val_loss: 0.9780 - val_acc: 0.4642\n",
      "\n",
      "Epoch 00036: val_loss did not improve from 0.97561\n",
      "Epoch 37/1000\n",
      "3353/3353 [==============================] - 0s 48us/step - loss: 0.8873 - acc: 0.5127 - val_loss: 0.9767 - val_acc: 0.4642\n",
      "\n",
      "Epoch 00037: val_loss did not improve from 0.97561\n",
      "Epoch 38/1000\n",
      "3353/3353 [==============================] - 0s 51us/step - loss: 0.8830 - acc: 0.5130 - val_loss: 0.9751 - val_acc: 0.4606\n",
      "\n",
      "Epoch 00038: val_loss improved from 0.97561 to 0.97507, saving model to dense_resnetfeats_128_16(dropout05_filtered_upsampled2x).h5\n",
      "Epoch 39/1000\n",
      "3353/3353 [==============================] - 0s 48us/step - loss: 0.8709 - acc: 0.5195 - val_loss: 0.9739 - val_acc: 0.4618\n",
      "\n",
      "Epoch 00039: val_loss improved from 0.97507 to 0.97389, saving model to dense_resnetfeats_128_16(dropout05_filtered_upsampled2x).h5\n",
      "Epoch 40/1000\n",
      "3353/3353 [==============================] - 0s 47us/step - loss: 0.8678 - acc: 0.5231 - val_loss: 0.9716 - val_acc: 0.4618\n",
      "\n",
      "Epoch 00040: val_loss improved from 0.97389 to 0.97161, saving model to dense_resnetfeats_128_16(dropout05_filtered_upsampled2x).h5\n",
      "Epoch 41/1000\n",
      "3353/3353 [==============================] - 0s 47us/step - loss: 0.8699 - acc: 0.5291 - val_loss: 0.9700 - val_acc: 0.4630\n",
      "\n",
      "Epoch 00041: val_loss improved from 0.97161 to 0.96997, saving model to dense_resnetfeats_128_16(dropout05_filtered_upsampled2x).h5\n",
      "Epoch 42/1000\n",
      "3353/3353 [==============================] - 0s 48us/step - loss: 0.8493 - acc: 0.5213 - val_loss: 0.9688 - val_acc: 0.4630\n",
      "\n",
      "Epoch 00042: val_loss improved from 0.96997 to 0.96877, saving model to dense_resnetfeats_128_16(dropout05_filtered_upsampled2x).h5\n",
      "Epoch 43/1000\n",
      "3353/3353 [==============================] - 0s 49us/step - loss: 0.8734 - acc: 0.5094 - val_loss: 0.9667 - val_acc: 0.4630\n",
      "\n",
      "Epoch 00043: val_loss improved from 0.96877 to 0.96666, saving model to dense_resnetfeats_128_16(dropout05_filtered_upsampled2x).h5\n",
      "Epoch 44/1000\n",
      "3353/3353 [==============================] - 0s 48us/step - loss: 0.8547 - acc: 0.5154 - val_loss: 0.9634 - val_acc: 0.4654\n",
      "\n",
      "Epoch 00044: val_loss improved from 0.96666 to 0.96343, saving model to dense_resnetfeats_128_16(dropout05_filtered_upsampled2x).h5\n",
      "Epoch 45/1000\n",
      "3353/3353 [==============================] - 0s 47us/step - loss: 0.8582 - acc: 0.5171 - val_loss: 0.9601 - val_acc: 0.4797\n",
      "\n",
      "Epoch 00045: val_loss improved from 0.96343 to 0.96008, saving model to dense_resnetfeats_128_16(dropout05_filtered_upsampled2x).h5\n",
      "Epoch 46/1000\n",
      "3353/3353 [==============================] - 0s 51us/step - loss: 0.8588 - acc: 0.5350 - val_loss: 0.9564 - val_acc: 0.4785\n",
      "\n",
      "Epoch 00046: val_loss improved from 0.96008 to 0.95638, saving model to dense_resnetfeats_128_16(dropout05_filtered_upsampled2x).h5\n",
      "Epoch 47/1000\n",
      "3353/3353 [==============================] - 0s 48us/step - loss: 0.8433 - acc: 0.5204 - val_loss: 0.9544 - val_acc: 0.4773\n",
      "\n",
      "Epoch 00047: val_loss improved from 0.95638 to 0.95441, saving model to dense_resnetfeats_128_16(dropout05_filtered_upsampled2x).h5\n",
      "Epoch 48/1000\n",
      "3353/3353 [==============================] - 0s 48us/step - loss: 0.8676 - acc: 0.5070 - val_loss: 0.9531 - val_acc: 0.4857\n",
      "\n",
      "Epoch 00048: val_loss improved from 0.95441 to 0.95314, saving model to dense_resnetfeats_128_16(dropout05_filtered_upsampled2x).h5\n",
      "Epoch 49/1000\n",
      "3353/3353 [==============================] - 0s 49us/step - loss: 0.8496 - acc: 0.5359 - val_loss: 0.9515 - val_acc: 0.4857\n",
      "\n",
      "Epoch 00049: val_loss improved from 0.95314 to 0.95149, saving model to dense_resnetfeats_128_16(dropout05_filtered_upsampled2x).h5\n",
      "Epoch 50/1000\n",
      "3353/3353 [==============================] - 0s 47us/step - loss: 0.8488 - acc: 0.5255 - val_loss: 0.9498 - val_acc: 0.4952\n",
      "\n",
      "Epoch 00050: val_loss improved from 0.95149 to 0.94983, saving model to dense_resnetfeats_128_16(dropout05_filtered_upsampled2x).h5\n",
      "Epoch 51/1000\n",
      "3353/3353 [==============================] - 0s 54us/step - loss: 0.8434 - acc: 0.5261 - val_loss: 0.9491 - val_acc: 0.4964\n",
      "\n",
      "Epoch 00051: val_loss improved from 0.94983 to 0.94913, saving model to dense_resnetfeats_128_16(dropout05_filtered_upsampled2x).h5\n",
      "Epoch 52/1000\n",
      "3353/3353 [==============================] - 0s 47us/step - loss: 0.8342 - acc: 0.5267 - val_loss: 0.9489 - val_acc: 0.5000\n",
      "\n",
      "Epoch 00052: val_loss improved from 0.94913 to 0.94889, saving model to dense_resnetfeats_128_16(dropout05_filtered_upsampled2x).h5\n",
      "Epoch 53/1000\n",
      "3353/3353 [==============================] - 0s 49us/step - loss: 0.8243 - acc: 0.5377 - val_loss: 0.9487 - val_acc: 0.4940\n",
      "\n",
      "Epoch 00053: val_loss improved from 0.94889 to 0.94869, saving model to dense_resnetfeats_128_16(dropout05_filtered_upsampled2x).h5\n",
      "Epoch 54/1000\n",
      "3353/3353 [==============================] - 0s 48us/step - loss: 0.8212 - acc: 0.5470 - val_loss: 0.9478 - val_acc: 0.4952\n",
      "\n",
      "Epoch 00054: val_loss improved from 0.94869 to 0.94776, saving model to dense_resnetfeats_128_16(dropout05_filtered_upsampled2x).h5\n",
      "Epoch 55/1000\n",
      "3353/3353 [==============================] - 0s 47us/step - loss: 0.8307 - acc: 0.5195 - val_loss: 0.9473 - val_acc: 0.4964\n",
      "\n",
      "Epoch 00055: val_loss improved from 0.94776 to 0.94729, saving model to dense_resnetfeats_128_16(dropout05_filtered_upsampled2x).h5\n",
      "Epoch 56/1000\n",
      "3353/3353 [==============================] - 0s 48us/step - loss: 0.7860 - acc: 0.5574 - val_loss: 0.9456 - val_acc: 0.4976\n",
      "\n",
      "Epoch 00056: val_loss improved from 0.94729 to 0.94557, saving model to dense_resnetfeats_128_16(dropout05_filtered_upsampled2x).h5\n",
      "Epoch 57/1000\n",
      "3353/3353 [==============================] - 0s 49us/step - loss: 0.8124 - acc: 0.5440 - val_loss: 0.9444 - val_acc: 0.4964\n",
      "\n",
      "Epoch 00057: val_loss improved from 0.94557 to 0.94437, saving model to dense_resnetfeats_128_16(dropout05_filtered_upsampled2x).h5\n",
      "Epoch 58/1000\n",
      "3353/3353 [==============================] - 0s 47us/step - loss: 0.8112 - acc: 0.5371 - val_loss: 0.9426 - val_acc: 0.4988\n",
      "\n",
      "Epoch 00058: val_loss improved from 0.94437 to 0.94256, saving model to dense_resnetfeats_128_16(dropout05_filtered_upsampled2x).h5\n",
      "Epoch 59/1000\n",
      "3353/3353 [==============================] - 0s 47us/step - loss: 0.7953 - acc: 0.5461 - val_loss: 0.9400 - val_acc: 0.5012\n",
      "\n",
      "Epoch 00059: val_loss improved from 0.94256 to 0.93998, saving model to dense_resnetfeats_128_16(dropout05_filtered_upsampled2x).h5\n",
      "Epoch 60/1000\n",
      "3353/3353 [==============================] - 0s 49us/step - loss: 0.7882 - acc: 0.5577 - val_loss: 0.9377 - val_acc: 0.5060\n",
      "\n",
      "Epoch 00060: val_loss improved from 0.93998 to 0.93766, saving model to dense_resnetfeats_128_16(dropout05_filtered_upsampled2x).h5\n",
      "Epoch 61/1000\n",
      "3353/3353 [==============================] - 0s 47us/step - loss: 0.7924 - acc: 0.5607 - val_loss: 0.9351 - val_acc: 0.5060\n",
      "\n",
      "Epoch 00061: val_loss improved from 0.93766 to 0.93510, saving model to dense_resnetfeats_128_16(dropout05_filtered_upsampled2x).h5\n",
      "Epoch 62/1000\n",
      "3353/3353 [==============================] - 0s 48us/step - loss: 0.7891 - acc: 0.5458 - val_loss: 0.9335 - val_acc: 0.5084\n",
      "\n",
      "Epoch 00062: val_loss improved from 0.93510 to 0.93354, saving model to dense_resnetfeats_128_16(dropout05_filtered_upsampled2x).h5\n",
      "Epoch 63/1000\n",
      "3353/3353 [==============================] - 0s 48us/step - loss: 0.7493 - acc: 0.5828 - val_loss: 0.9320 - val_acc: 0.5072\n",
      "\n",
      "Epoch 00063: val_loss improved from 0.93354 to 0.93204, saving model to dense_resnetfeats_128_16(dropout05_filtered_upsampled2x).h5\n",
      "Epoch 64/1000\n",
      "3353/3353 [==============================] - 0s 47us/step - loss: 0.7763 - acc: 0.5717 - val_loss: 0.9315 - val_acc: 0.5095\n",
      "\n",
      "Epoch 00064: val_loss improved from 0.93204 to 0.93149, saving model to dense_resnetfeats_128_16(dropout05_filtered_upsampled2x).h5\n",
      "Epoch 65/1000\n",
      "3353/3353 [==============================] - 0s 47us/step - loss: 0.7837 - acc: 0.5577 - val_loss: 0.9307 - val_acc: 0.5060\n",
      "\n",
      "Epoch 00065: val_loss improved from 0.93149 to 0.93068, saving model to dense_resnetfeats_128_16(dropout05_filtered_upsampled2x).h5\n",
      "Epoch 66/1000\n",
      "3353/3353 [==============================] - 0s 47us/step - loss: 0.7949 - acc: 0.5613 - val_loss: 0.9293 - val_acc: 0.5095\n",
      "\n",
      "Epoch 00066: val_loss improved from 0.93068 to 0.92935, saving model to dense_resnetfeats_128_16(dropout05_filtered_upsampled2x).h5\n",
      "Epoch 67/1000\n",
      "3353/3353 [==============================] - 0s 49us/step - loss: 0.8011 - acc: 0.5473 - val_loss: 0.9284 - val_acc: 0.5084\n",
      "\n",
      "Epoch 00067: val_loss improved from 0.92935 to 0.92837, saving model to dense_resnetfeats_128_16(dropout05_filtered_upsampled2x).h5\n",
      "Epoch 68/1000\n",
      "3353/3353 [==============================] - 0s 46us/step - loss: 0.7763 - acc: 0.5628 - val_loss: 0.9272 - val_acc: 0.5107\n",
      "\n",
      "Epoch 00068: val_loss improved from 0.92837 to 0.92722, saving model to dense_resnetfeats_128_16(dropout05_filtered_upsampled2x).h5\n",
      "Epoch 69/1000\n",
      "3353/3353 [==============================] - 0s 47us/step - loss: 0.7602 - acc: 0.5729 - val_loss: 0.9260 - val_acc: 0.5095\n",
      "\n",
      "Epoch 00069: val_loss improved from 0.92722 to 0.92602, saving model to dense_resnetfeats_128_16(dropout05_filtered_upsampled2x).h5\n",
      "Epoch 70/1000\n",
      "3353/3353 [==============================] - 0s 52us/step - loss: 0.7764 - acc: 0.5735 - val_loss: 0.9246 - val_acc: 0.5119\n",
      "\n",
      "Epoch 00070: val_loss improved from 0.92602 to 0.92463, saving model to dense_resnetfeats_128_16(dropout05_filtered_upsampled2x).h5\n",
      "Epoch 71/1000\n",
      "3353/3353 [==============================] - 0s 47us/step - loss: 0.7768 - acc: 0.5658 - val_loss: 0.9243 - val_acc: 0.5131\n",
      "\n",
      "Epoch 00071: val_loss improved from 0.92463 to 0.92425, saving model to dense_resnetfeats_128_16(dropout05_filtered_upsampled2x).h5\n",
      "Epoch 72/1000\n"
     ]
    },
    {
     "name": "stdout",
     "output_type": "stream",
     "text": [
      "3353/3353 [==============================] - 0s 47us/step - loss: 0.7488 - acc: 0.5649 - val_loss: 0.9249 - val_acc: 0.5119\n",
      "\n",
      "Epoch 00072: val_loss did not improve from 0.92425\n",
      "Epoch 73/1000\n",
      "3353/3353 [==============================] - 0s 49us/step - loss: 0.7427 - acc: 0.5732 - val_loss: 0.9250 - val_acc: 0.5143\n",
      "\n",
      "Epoch 00073: val_loss did not improve from 0.92425\n",
      "Epoch 74/1000\n",
      "3353/3353 [==============================] - 0s 48us/step - loss: 0.7443 - acc: 0.5676 - val_loss: 0.9236 - val_acc: 0.5107\n",
      "\n",
      "Epoch 00074: val_loss improved from 0.92425 to 0.92356, saving model to dense_resnetfeats_128_16(dropout05_filtered_upsampled2x).h5\n",
      "Epoch 75/1000\n",
      "3353/3353 [==============================] - 0s 51us/step - loss: 0.7667 - acc: 0.5586 - val_loss: 0.9226 - val_acc: 0.5107\n",
      "\n",
      "Epoch 00075: val_loss improved from 0.92356 to 0.92263, saving model to dense_resnetfeats_128_16(dropout05_filtered_upsampled2x).h5\n",
      "Epoch 76/1000\n",
      "3353/3353 [==============================] - 0s 50us/step - loss: 0.7396 - acc: 0.5804 - val_loss: 0.9219 - val_acc: 0.5084\n",
      "\n",
      "Epoch 00076: val_loss improved from 0.92263 to 0.92193, saving model to dense_resnetfeats_128_16(dropout05_filtered_upsampled2x).h5\n",
      "Epoch 77/1000\n",
      "3353/3353 [==============================] - 0s 49us/step - loss: 0.7593 - acc: 0.5771 - val_loss: 0.9205 - val_acc: 0.5119\n",
      "\n",
      "Epoch 00077: val_loss improved from 0.92193 to 0.92048, saving model to dense_resnetfeats_128_16(dropout05_filtered_upsampled2x).h5\n",
      "Epoch 78/1000\n",
      "3353/3353 [==============================] - 0s 51us/step - loss: 0.7240 - acc: 0.5816 - val_loss: 0.9193 - val_acc: 0.5107\n",
      "\n",
      "Epoch 00078: val_loss improved from 0.92048 to 0.91926, saving model to dense_resnetfeats_128_16(dropout05_filtered_upsampled2x).h5\n",
      "Epoch 79/1000\n",
      "3353/3353 [==============================] - 0s 50us/step - loss: 0.7239 - acc: 0.5857 - val_loss: 0.9176 - val_acc: 0.5107\n",
      "\n",
      "Epoch 00079: val_loss improved from 0.91926 to 0.91758, saving model to dense_resnetfeats_128_16(dropout05_filtered_upsampled2x).h5\n",
      "Epoch 80/1000\n",
      "3353/3353 [==============================] - 0s 52us/step - loss: 0.7234 - acc: 0.5753 - val_loss: 0.9173 - val_acc: 0.5131\n",
      "\n",
      "Epoch 00080: val_loss improved from 0.91758 to 0.91731, saving model to dense_resnetfeats_128_16(dropout05_filtered_upsampled2x).h5\n",
      "Epoch 81/1000\n",
      "3353/3353 [==============================] - 0s 49us/step - loss: 0.7265 - acc: 0.5962 - val_loss: 0.9166 - val_acc: 0.5143\n",
      "\n",
      "Epoch 00081: val_loss improved from 0.91731 to 0.91663, saving model to dense_resnetfeats_128_16(dropout05_filtered_upsampled2x).h5\n",
      "Epoch 82/1000\n",
      "3353/3353 [==============================] - 0s 51us/step - loss: 0.7193 - acc: 0.6075 - val_loss: 0.9151 - val_acc: 0.5167\n",
      "\n",
      "Epoch 00082: val_loss improved from 0.91663 to 0.91505, saving model to dense_resnetfeats_128_16(dropout05_filtered_upsampled2x).h5\n",
      "Epoch 83/1000\n",
      "3353/3353 [==============================] - 0s 53us/step - loss: 0.7080 - acc: 0.5977 - val_loss: 0.9125 - val_acc: 0.5191\n",
      "\n",
      "Epoch 00083: val_loss improved from 0.91505 to 0.91253, saving model to dense_resnetfeats_128_16(dropout05_filtered_upsampled2x).h5\n",
      "Epoch 84/1000\n",
      "3353/3353 [==============================] - 0s 49us/step - loss: 0.7128 - acc: 0.5753 - val_loss: 0.9106 - val_acc: 0.5215\n",
      "\n",
      "Epoch 00084: val_loss improved from 0.91253 to 0.91062, saving model to dense_resnetfeats_128_16(dropout05_filtered_upsampled2x).h5\n",
      "Epoch 85/1000\n",
      "3353/3353 [==============================] - 0s 48us/step - loss: 0.7134 - acc: 0.5998 - val_loss: 0.9079 - val_acc: 0.5286\n",
      "\n",
      "Epoch 00085: val_loss improved from 0.91062 to 0.90790, saving model to dense_resnetfeats_128_16(dropout05_filtered_upsampled2x).h5\n",
      "Epoch 86/1000\n",
      "3353/3353 [==============================] - 0s 47us/step - loss: 0.7087 - acc: 0.6016 - val_loss: 0.9060 - val_acc: 0.5310\n",
      "\n",
      "Epoch 00086: val_loss improved from 0.90790 to 0.90596, saving model to dense_resnetfeats_128_16(dropout05_filtered_upsampled2x).h5\n",
      "Epoch 87/1000\n",
      "3353/3353 [==============================] - 0s 47us/step - loss: 0.7122 - acc: 0.6111 - val_loss: 0.9045 - val_acc: 0.5310\n",
      "\n",
      "Epoch 00087: val_loss improved from 0.90596 to 0.90453, saving model to dense_resnetfeats_128_16(dropout05_filtered_upsampled2x).h5\n",
      "Epoch 88/1000\n",
      "3353/3353 [==============================] - 0s 50us/step - loss: 0.7005 - acc: 0.6081 - val_loss: 0.9025 - val_acc: 0.5394\n",
      "\n",
      "Epoch 00088: val_loss improved from 0.90453 to 0.90250, saving model to dense_resnetfeats_128_16(dropout05_filtered_upsampled2x).h5\n",
      "Epoch 89/1000\n",
      "3353/3353 [==============================] - 0s 50us/step - loss: 0.6961 - acc: 0.6120 - val_loss: 0.9009 - val_acc: 0.5442\n",
      "\n",
      "Epoch 00089: val_loss improved from 0.90250 to 0.90090, saving model to dense_resnetfeats_128_16(dropout05_filtered_upsampled2x).h5\n",
      "Epoch 90/1000\n",
      "3353/3353 [==============================] - 0s 48us/step - loss: 0.6789 - acc: 0.6054 - val_loss: 0.9007 - val_acc: 0.5418\n",
      "\n",
      "Epoch 00090: val_loss improved from 0.90090 to 0.90066, saving model to dense_resnetfeats_128_16(dropout05_filtered_upsampled2x).h5\n",
      "Epoch 91/1000\n",
      "3353/3353 [==============================] - 0s 50us/step - loss: 0.6933 - acc: 0.6111 - val_loss: 0.9003 - val_acc: 0.5382\n",
      "\n",
      "Epoch 00091: val_loss improved from 0.90066 to 0.90033, saving model to dense_resnetfeats_128_16(dropout05_filtered_upsampled2x).h5\n",
      "Epoch 92/1000\n",
      "3353/3353 [==============================] - 0s 49us/step - loss: 0.6789 - acc: 0.6075 - val_loss: 0.9006 - val_acc: 0.5394\n",
      "\n",
      "Epoch 00092: val_loss did not improve from 0.90033\n",
      "Epoch 93/1000\n",
      "3353/3353 [==============================] - 0s 48us/step - loss: 0.6771 - acc: 0.6096 - val_loss: 0.8994 - val_acc: 0.5442\n",
      "\n",
      "Epoch 00093: val_loss improved from 0.90033 to 0.89944, saving model to dense_resnetfeats_128_16(dropout05_filtered_upsampled2x).h5\n",
      "Epoch 94/1000\n",
      "3353/3353 [==============================] - 0s 51us/step - loss: 0.6675 - acc: 0.6260 - val_loss: 0.8970 - val_acc: 0.5513\n",
      "\n",
      "Epoch 00094: val_loss improved from 0.89944 to 0.89697, saving model to dense_resnetfeats_128_16(dropout05_filtered_upsampled2x).h5\n",
      "Epoch 95/1000\n",
      "3353/3353 [==============================] - 0s 47us/step - loss: 0.6794 - acc: 0.6102 - val_loss: 0.8946 - val_acc: 0.5513\n",
      "\n",
      "Epoch 00095: val_loss improved from 0.89697 to 0.89463, saving model to dense_resnetfeats_128_16(dropout05_filtered_upsampled2x).h5\n",
      "Epoch 96/1000\n",
      "3353/3353 [==============================] - 0s 50us/step - loss: 0.6780 - acc: 0.6129 - val_loss: 0.8930 - val_acc: 0.5549\n",
      "\n",
      "Epoch 00096: val_loss improved from 0.89463 to 0.89305, saving model to dense_resnetfeats_128_16(dropout05_filtered_upsampled2x).h5\n",
      "Epoch 97/1000\n",
      "3353/3353 [==============================] - 0s 49us/step - loss: 0.6454 - acc: 0.6138 - val_loss: 0.8923 - val_acc: 0.5573\n",
      "\n",
      "Epoch 00097: val_loss improved from 0.89305 to 0.89229, saving model to dense_resnetfeats_128_16(dropout05_filtered_upsampled2x).h5\n",
      "Epoch 98/1000\n",
      "3353/3353 [==============================] - 0s 48us/step - loss: 0.6609 - acc: 0.6227 - val_loss: 0.8921 - val_acc: 0.5609\n",
      "\n",
      "Epoch 00098: val_loss improved from 0.89229 to 0.89212, saving model to dense_resnetfeats_128_16(dropout05_filtered_upsampled2x).h5\n",
      "Epoch 99/1000\n",
      "3353/3353 [==============================] - 0s 47us/step - loss: 0.6496 - acc: 0.6376 - val_loss: 0.8922 - val_acc: 0.5632\n",
      "\n",
      "Epoch 00099: val_loss did not improve from 0.89212\n",
      "Epoch 100/1000\n",
      "3353/3353 [==============================] - 0s 46us/step - loss: 0.6345 - acc: 0.6194 - val_loss: 0.8915 - val_acc: 0.5656\n",
      "\n",
      "Epoch 00100: val_loss improved from 0.89212 to 0.89147, saving model to dense_resnetfeats_128_16(dropout05_filtered_upsampled2x).h5\n",
      "Epoch 101/1000\n",
      "3353/3353 [==============================] - 0s 46us/step - loss: 0.6852 - acc: 0.6066 - val_loss: 0.8903 - val_acc: 0.5656\n",
      "\n",
      "Epoch 00101: val_loss improved from 0.89147 to 0.89026, saving model to dense_resnetfeats_128_16(dropout05_filtered_upsampled2x).h5\n",
      "Epoch 102/1000\n",
      "3353/3353 [==============================] - 0s 48us/step - loss: 0.6673 - acc: 0.6299 - val_loss: 0.8908 - val_acc: 0.5621\n",
      "\n",
      "Epoch 00102: val_loss did not improve from 0.89026\n",
      "Epoch 103/1000\n",
      "3353/3353 [==============================] - 0s 48us/step - loss: 0.6404 - acc: 0.6156 - val_loss: 0.8920 - val_acc: 0.5609\n",
      "\n",
      "Epoch 00103: val_loss did not improve from 0.89026\n",
      "Epoch 104/1000\n",
      "3353/3353 [==============================] - 0s 48us/step - loss: 0.6232 - acc: 0.6445 - val_loss: 0.8924 - val_acc: 0.5597\n",
      "\n",
      "Epoch 00104: val_loss did not improve from 0.89026\n",
      "Epoch 105/1000\n",
      "3353/3353 [==============================] - 0s 48us/step - loss: 0.6355 - acc: 0.6353 - val_loss: 0.8917 - val_acc: 0.5597\n",
      "\n",
      "Epoch 00105: val_loss did not improve from 0.89026\n",
      "Epoch 106/1000\n",
      "3353/3353 [==============================] - 0s 48us/step - loss: 0.6384 - acc: 0.6409 - val_loss: 0.8914 - val_acc: 0.5597\n",
      "\n",
      "Epoch 00106: val_loss did not improve from 0.89026\n"
     ]
    },
    {
     "data": {
      "text/plain": [
       "<keras.callbacks.History at 0x7fe7d83cc4a8>"
      ]
     },
     "execution_count": 20,
     "metadata": {},
     "output_type": "execute_result"
    }
   ],
   "source": [
    "dense_model.fit(X_train,\n",
    "                y_train,\n",
    "                epochs=1000,\n",
    "                batch_size=512,\n",
    "                callbacks=[checkpoint, early_stop],\n",
    "                shuffle=True,\n",
    "                validation_data=(X_test, y_test),\n",
    "                class_weight=meron._get_class_weights(merged_df.maln_class, neural_net=True),\n",
    "                #class_weight=[3,0.3,10],\n",
    "                verbose=1)"
   ]
  },
  {
   "cell_type": "code",
   "execution_count": 26,
   "metadata": {},
   "outputs": [
    {
     "data": {
      "text/plain": [
       "array([[0.12360514, 0.62314516, 0.25324973],\n",
       "       [0.1966752 , 0.71819   , 0.0851348 ],\n",
       "       [0.10398412, 0.8853804 , 0.01063551],\n",
       "       ...,\n",
       "       [0.09733242, 0.7806217 , 0.12204589],\n",
       "       [0.69188035, 0.24125844, 0.06686119],\n",
       "       [0.6096208 , 0.29724312, 0.09313609]], dtype=float32)"
      ]
     },
     "execution_count": 26,
     "metadata": {},
     "output_type": "execute_result"
    }
   ],
   "source": [
    "prediction"
   ]
  },
  {
   "cell_type": "markdown",
   "metadata": {},
   "source": [
    "# Confusion matrix\n"
   ]
  },
  {
   "cell_type": "code",
   "execution_count": 44,
   "metadata": {},
   "outputs": [],
   "source": [
    "import itertools\n",
    "def plot_confusion_matrix(cm, classes,\n",
    "                          normalize=False,\n",
    "                          title='Confusion matrix',\n",
    "                          cmap=plt.cm.Blues):\n",
    "    \"\"\"\n",
    "    This function prints and plots the confusion matrix.\n",
    "    Normalization can be applied by setting `normalize=True`.\n",
    "    \"\"\"\n",
    "    if normalize:\n",
    "        #cm = cm.astype('float') / cm.sum(axis=1)[:, np.newaxis]\n",
    "        cm = np.round(cm.astype('float') / cm.sum(axis=1)[:, np.newaxis], 2)\n",
    "        print(\"Normalized confusion matrix\")\n",
    "    else:\n",
    "        print('Confusion matrix, without normalization')\n",
    "\n",
    "    print(cm)\n",
    "    \n",
    "    plt.imshow(cm, interpolation='nearest', cmap=cmap)\n",
    "    plt.title(title)\n",
    "    plt.colorbar()\n",
    "    tick_marks = np.arange(len(classes))\n",
    "    plt.xticks(tick_marks, classes, rotation=45)\n",
    "    plt.yticks(tick_marks, classes)\n",
    "\n",
    "    fmt = '.2f' if normalize else 'd'\n",
    "    thresh = cm.max() / 2.\n",
    "    for i, j in itertools.product(range(cm.shape[0]), range(cm.shape[1])):\n",
    "        plt.text(j, i, format(cm[i, j], fmt),\n",
    "                 horizontalalignment=\"center\",\n",
    "                 color=\"white\" if cm[i, j] > thresh else \"black\")\n",
    "\n",
    "    plt.tight_layout()\n",
    "    plt.ylabel('True label')\n",
    "    plt.xlabel('Predicted label')\n"
   ]
  },
  {
   "cell_type": "code",
   "execution_count": 41,
   "metadata": {},
   "outputs": [],
   "source": [
    "cnf_matrix=confusion_matrix(true_classes, pred_classes)"
   ]
  },
  {
   "cell_type": "code",
   "execution_count": 42,
   "metadata": {
    "scrolled": true
   },
   "outputs": [
    {
     "name": "stdout",
     "output_type": "stream",
     "text": [
      "Confusion matrix, without normalization\n",
      "[[104  88   6]\n",
      " [210 383   6]\n",
      " [ 15  26   0]]\n"
     ]
    },
    {
     "data": {
      "image/png": "[encoded data removed]",
      "text/plain": [
       "<Figure size 432x288 with 2 Axes>"
      ]
     },
     "metadata": {},
     "output_type": "display_data"
    }
   ],
   "source": [
    "plt.figure()\n",
    "plot_confusion_matrix(cnf_matrix, classes=('maln_mam','maln_normal','maln_sam'))"
   ]
  },
  {
   "cell_type": "markdown",
   "metadata": {},
   "source": [
    "# Model ensembling"
   ]
  },
  {
   "cell_type": "code",
   "execution_count": 49,
   "metadata": {},
   "outputs": [],
   "source": [
    "from sklearn.svm import SVC\n",
    "from sklearn.ensemble import ExtraTreesClassifier\n",
    "from sklearn.ensemble import RandomForestClassifier\n",
    "from sklearn import preprocessing"
   ]
  },
  {
   "cell_type": "code",
   "execution_count": 293,
   "metadata": {},
   "outputs": [],
   "source": [
    "model_1=load_model('dense_resnetfeats_64_16(dropout05_filtered_upsampled2x).h5')\n",
    "model_2=load_model('dense_resnetfeats_128_16(dropout05_filtered_upsampled2x).h5')\n",
    "model_3=load_model('dense_resnetfeats_256_64_16(dropout05_filtered_upsampled2x).h5')\n"
   ]
  },
  {
   "cell_type": "code",
   "execution_count": 294,
   "metadata": {},
   "outputs": [
    {
     "name": "stdout",
     "output_type": "stream",
     "text": [
      "838/838 [==============================] - 0s 338us/step\n",
      "838/838 [==============================] - 0s 351us/step\n",
      "838/838 [==============================] - 0s 348us/step\n"
     ]
    }
   ],
   "source": [
    "prediction_1=model_1.predict(X_test, verbose=1)\n",
    "prediction_2=model_2.predict(X_test, verbose=1)\n",
    "prediction_3=model_3.predict(X_test, verbose=1)"
   ]
  },
  {
   "cell_type": "code",
   "execution_count": 53,
   "metadata": {},
   "outputs": [],
   "source": [
    "le = preprocessing.LabelEncoder()\n",
    "y_test_label_muac=le.fit_transform(y_test_muac)"
   ]
  },
  {
   "cell_type": "code",
   "execution_count": 295,
   "metadata": {},
   "outputs": [],
   "source": [
    "total_pred_svm=np.concatenate((prediction_1, prediction_2,prediction_3), axis=1)\n",
    "total_target_svm=y_test_label_muac"
   ]
  },
  {
   "cell_type": "code",
   "execution_count": 296,
   "metadata": {},
   "outputs": [],
   "source": [
    "x_train_svm, x_test_svm, y_train_svm, y_test_svm = train_test_split(total_pred_svm, total_target_svm, test_size=0.2, \n",
    "                                                        random_state=42, stratify=total_target_svm)\n"
   ]
  },
  {
   "cell_type": "code",
   "execution_count": 128,
   "metadata": {},
   "outputs": [
    {
     "name": "stdout",
     "output_type": "stream",
     "text": [
      "(670, 9)\n",
      "(168, 9)\n"
     ]
    }
   ],
   "source": [
    "print(x_train_svm.shape)\n",
    "print(x_test_svm.shape)"
   ]
  },
  {
   "cell_type": "code",
   "execution_count": 290,
   "metadata": {},
   "outputs": [
    {
     "data": {
      "text/plain": [
       "0.6587112171837709"
      ]
     },
     "execution_count": 290,
     "metadata": {},
     "output_type": "execute_result"
    }
   ],
   "source": [
    "## take the mean of hte predicted values\n",
    "final_pred=[]\n",
    "for i, prob in enumerate(total_pred_svm):\n",
    "    class0_mean=np.mean((prob[0],prob[3],prob[6]))\n",
    "    class1_mean=np.mean((prob[1],prob[4],prob[7]))\n",
    "    class2_mean=np.mean((prob[2],prob[5],prob[8]))\n",
    "    mean_pred=[class0_mean, class1_mean, class2_mean]\n",
    "    final_pred.append(np.argmax(mean_pred))  \n",
    "    \n",
    "accuracy_score(total_target_svm, final_pred)    "
   ]
  },
  {
   "cell_type": "code",
   "execution_count": 291,
   "metadata": {},
   "outputs": [],
   "source": [
    "cnf_matrix=confusion_matrix(total_target_svm, final_pred)"
   ]
  },
  {
   "cell_type": "code",
   "execution_count": 292,
   "metadata": {},
   "outputs": [
    {
     "name": "stdout",
     "output_type": "stream",
     "text": [
      "Confusion matrix, without normalization\n",
      "[[ 17  31   1]\n",
      " [239 535  13]\n",
      " [  2   0   0]]\n"
     ]
    },
    {
     "data": {
      "image/png": "[encoded data removed]",
      "text/plain": [
       "<Figure size 432x288 with 2 Axes>"
      ]
     },
     "metadata": {},
     "output_type": "display_data"
    }
   ],
   "source": [
    "plt.figure()\n",
    "plot_confusion_matrix(cnf_matrix, classes=('maln_mam','maln_normal','maln_sam'))"
   ]
  },
  {
   "cell_type": "markdown",
   "metadata": {},
   "source": [
    "# SVM fit on three models"
   ]
  },
  {
   "cell_type": "code",
   "execution_count": 151,
   "metadata": {},
   "outputs": [],
   "source": [
    "from sklearn.metrics import accuracy_score\n",
    "from sklearn.model_selection import cross_val_score\n",
    "from sklearn import preprocessing"
   ]
  },
  {
   "cell_type": "code",
   "execution_count": 152,
   "metadata": {},
   "outputs": [],
   "source": [
    "clf = SVC(C=1.5, kernel='rbf',random_state=18,class_weight='balanced',tol=0.0001)"
   ]
  },
  {
   "cell_type": "code",
   "execution_count": 153,
   "metadata": {},
   "outputs": [],
   "source": [
    "svm_model=clf.fit(x_train_svm, y_train_svm)"
   ]
  },
  {
   "cell_type": "code",
   "execution_count": 154,
   "metadata": {},
   "outputs": [
    {
     "data": {
      "text/plain": [
       "0.5535714285714286"
      ]
     },
     "execution_count": 154,
     "metadata": {},
     "output_type": "execute_result"
    }
   ],
   "source": [
    "svm_pred=svm_model.predict(x_test_svm)\n",
    "accuracy_score(y_test_svm, svm_pred) #accuracy"
   ]
  },
  {
   "cell_type": "code",
   "execution_count": 155,
   "metadata": {},
   "outputs": [
    {
     "name": "stderr",
     "output_type": "stream",
     "text": [
      "/usr/local/lib/python3.5/dist-packages/sklearn/model_selection/_split.py:605: Warning: The least populated class in y has only 2 members, which is too few. The minimum number of members in any class cannot be less than n_splits=5.\n",
      "  % (min_groups, self.n_splits)), Warning)\n"
     ]
    },
    {
     "name": "stdout",
     "output_type": "stream",
     "text": [
      "[0.53254438 0.65680473 0.58083832 0.47904192 0.28915663]\n"
     ]
    }
   ],
   "source": [
    "cv_score = cross_val_score(svm_model, total_pred_svm, total_target_svm, cv=5)\n",
    "print(cv_score)"
   ]
  },
  {
   "cell_type": "code",
   "execution_count": 156,
   "metadata": {
    "scrolled": true
   },
   "outputs": [
    {
     "name": "stdout",
     "output_type": "stream",
     "text": [
      "Confusion matrix, without normalization\n",
      "[[ 4  6  0]\n",
      " [63 89  6]\n",
      " [ 0  0  0]]\n"
     ]
    },
    {
     "data": {
      "image/png": "[encoded data removed]",
      "text/plain": [
       "<Figure size 432x288 with 2 Axes>"
      ]
     },
     "metadata": {},
     "output_type": "display_data"
    }
   ],
   "source": [
    "cnf_matrix=confusion_matrix(y_test_svm, svm_pred)\n",
    "plt.figure()\n",
    "plot_confusion_matrix(cnf_matrix, classes=('maln_mam','maln_normal','maln_sam'))"
   ]
  },
  {
   "cell_type": "markdown",
   "metadata": {},
   "source": [
    "# Extra tree"
   ]
  },
  {
   "cell_type": "code",
   "execution_count": 215,
   "metadata": {},
   "outputs": [],
   "source": [
    "e_tree = ExtraTreesClassifier(n_estimators=10, max_depth=8,min_samples_split=2, max_features=None,\n",
    "                              random_state=18,class_weight='balanced')"
   ]
  },
  {
   "cell_type": "code",
   "execution_count": 216,
   "metadata": {},
   "outputs": [
    {
     "data": {
      "text/plain": [
       "ExtraTreesClassifier(bootstrap=False, class_weight='balanced',\n",
       "           criterion='gini', max_depth=8, max_features=None,\n",
       "           max_leaf_nodes=None, min_impurity_decrease=0.0,\n",
       "           min_impurity_split=None, min_samples_leaf=1,\n",
       "           min_samples_split=2, min_weight_fraction_leaf=0.0,\n",
       "           n_estimators=10, n_jobs=1, oob_score=False, random_state=18,\n",
       "           verbose=0, warm_start=False)"
      ]
     },
     "execution_count": 216,
     "metadata": {},
     "output_type": "execute_result"
    }
   ],
   "source": [
    "e_tree.fit(x_train_svm, y_train_svm)"
   ]
  },
  {
   "cell_type": "code",
   "execution_count": 217,
   "metadata": {},
   "outputs": [
    {
     "data": {
      "text/plain": [
       "0.8690476190476191"
      ]
     },
     "execution_count": 217,
     "metadata": {},
     "output_type": "execute_result"
    }
   ],
   "source": [
    "#for stratified validation sample\n",
    "e_tree_pred=e_tree.predict(x_test_svm)\n",
    "\n",
    "e_tree.score(x_test_svm, y_test_svm)"
   ]
  },
  {
   "cell_type": "code",
   "execution_count": 218,
   "metadata": {},
   "outputs": [
    {
     "name": "stdout",
     "output_type": "stream",
     "text": [
      "[0.89349112 0.89940828 0.89221557 0.86227545 0.8373494 ]\n"
     ]
    },
    {
     "name": "stderr",
     "output_type": "stream",
     "text": [
      "/usr/local/lib/python3.5/dist-packages/sklearn/model_selection/_split.py:605: Warning: The least populated class in y has only 2 members, which is too few. The minimum number of members in any class cannot be less than n_splits=5.\n",
      "  % (min_groups, self.n_splits)), Warning)\n"
     ]
    }
   ],
   "source": [
    "cv_score = cross_val_score(e_tree, total_pred_svm, total_target_svm, cv=5)\n",
    "print(cv_score)"
   ]
  },
  {
   "cell_type": "code",
   "execution_count": 219,
   "metadata": {},
   "outputs": [],
   "source": [
    "cnf_matrix=confusion_matrix(y_test_svm,e_tree_pred)"
   ]
  },
  {
   "cell_type": "code",
   "execution_count": 220,
   "metadata": {
    "scrolled": true
   },
   "outputs": [
    {
     "name": "stdout",
     "output_type": "stream",
     "text": [
      "Confusion matrix, without normalization\n",
      "[[  1   9]\n",
      " [ 13 145]]\n"
     ]
    },
    {
     "data": {
      "image/png": "[encoded data removed]",
      "text/plain": [
       "<Figure size 432x288 with 2 Axes>"
      ]
     },
     "metadata": {},
     "output_type": "display_data"
    }
   ],
   "source": [
    "plt.figure()\n",
    "plot_confusion_matrix(cnf_matrix, classes=('maln_mam','maln_normal','maln_sam'))"
   ]
  },
  {
   "cell_type": "markdown",
   "metadata": {},
   "source": [
    "# Random Forest did not perform well, it didn't catch the any of the sam class"
   ]
  },
  {
   "cell_type": "code",
   "execution_count": 221,
   "metadata": {},
   "outputs": [],
   "source": [
    "rf = RandomForestClassifier(n_estimators=20, max_depth=None, min_samples_split=2, \n",
    "                            class_weight='balanced',random_state=18)"
   ]
  },
  {
   "cell_type": "code",
   "execution_count": 222,
   "metadata": {},
   "outputs": [
    {
     "data": {
      "text/plain": [
       "RandomForestClassifier(bootstrap=True, class_weight='balanced',\n",
       "            criterion='gini', max_depth=None, max_features='auto',\n",
       "            max_leaf_nodes=None, min_impurity_decrease=0.0,\n",
       "            min_impurity_split=None, min_samples_leaf=1,\n",
       "            min_samples_split=2, min_weight_fraction_leaf=0.0,\n",
       "            n_estimators=20, n_jobs=1, oob_score=False, random_state=18,\n",
       "            verbose=0, warm_start=False)"
      ]
     },
     "execution_count": 222,
     "metadata": {},
     "output_type": "execute_result"
    }
   ],
   "source": [
    "rf.fit(x_train_svm, y_train_svm)"
   ]
  },
  {
   "cell_type": "code",
   "execution_count": 223,
   "metadata": {},
   "outputs": [
    {
     "data": {
      "text/plain": [
       "0.9345238095238095"
      ]
     },
     "execution_count": 223,
     "metadata": {},
     "output_type": "execute_result"
    }
   ],
   "source": [
    "#for stratified validation sample\n",
    "rf_pred=rf.predict(x_test_svm)\n",
    "rf.score(x_test_svm, y_test_svm) #accuracy\n"
   ]
  },
  {
   "cell_type": "code",
   "execution_count": 109,
   "metadata": {},
   "outputs": [
    {
     "name": "stderr",
     "output_type": "stream",
     "text": [
      "/usr/local/lib/python3.5/dist-packages/sklearn/model_selection/_split.py:605: Warning: The least populated class in y has only 2 members, which is too few. The minimum number of members in any class cannot be less than n_splits=5.\n",
      "  % (min_groups, self.n_splits)), Warning)\n"
     ]
    },
    {
     "name": "stdout",
     "output_type": "stream",
     "text": [
      "[0.93491124 0.93491124 0.94011976 0.94011976 0.94578313]\n"
     ]
    }
   ],
   "source": [
    "cv_score = cross_val_score(rf, total_pred_svm, total_target_svm, cv=5)\n",
    "print(cv_score)"
   ]
  },
  {
   "cell_type": "code",
   "execution_count": 224,
   "metadata": {},
   "outputs": [
    {
     "name": "stdout",
     "output_type": "stream",
     "text": [
      "Confusion matrix, without normalization\n",
      "[[  0  10   0]\n",
      " [  0 157   1]\n",
      " [  0   0   0]]\n"
     ]
    },
    {
     "data": {
      "image/png": "[encoded data removed]",
      "text/plain": [
       "<Figure size 432x288 with 2 Axes>"
      ]
     },
     "metadata": {},
     "output_type": "display_data"
    }
   ],
   "source": [
    "cnf_matrix=confusion_matrix(y_test_svm,rf_pred)\n",
    "plt.figure()\n",
    "plot_confusion_matrix(cnf_matrix, classes=('maln_mam','maln_normal','maln_sam'))"
   ]
  },
  {
   "cell_type": "code",
   "execution_count": 225,
   "metadata": {},
   "outputs": [],
   "source": [
    "## xgb?\n",
    "import xgboost as xgb\n",
    "from xgboost.sklearn import XGBClassifier\n"
   ]
  },
  {
   "cell_type": "code",
   "execution_count": 226,
   "metadata": {},
   "outputs": [],
   "source": [
    "xgb = XGBClassifier(objective='multi:softprob', n_estimators=50, subsample=1.0, gamma=2.0,learning_rate=0.001,\n",
    "                   max_depth=10,random_state=18)\n"
   ]
  },
  {
   "cell_type": "code",
   "execution_count": 227,
   "metadata": {},
   "outputs": [
    {
     "data": {
      "text/plain": [
       "XGBClassifier(base_score=0.5, booster='gbtree', colsample_bylevel=1,\n",
       "       colsample_bytree=1, gamma=2.0, learning_rate=0.001,\n",
       "       max_delta_step=0, max_depth=10, min_child_weight=1, missing=None,\n",
       "       n_estimators=50, n_jobs=1, nthread=None, objective='multi:softprob',\n",
       "       random_state=18, reg_alpha=0, reg_lambda=1, scale_pos_weight=1,\n",
       "       seed=None, silent=True, subsample=1.0)"
      ]
     },
     "execution_count": 227,
     "metadata": {},
     "output_type": "execute_result"
    }
   ],
   "source": [
    "xgb.fit(x_train_svm, y_train_svm)"
   ]
  },
  {
   "cell_type": "code",
   "execution_count": 228,
   "metadata": {},
   "outputs": [
    {
     "name": "stderr",
     "output_type": "stream",
     "text": [
      "/usr/local/lib/python3.5/dist-packages/sklearn/preprocessing/label.py:151: DeprecationWarning: The truth value of an empty array is ambiguous. Returning False, but in future this will result in an error. Use `array.size > 0` to check that an array is not empty.\n",
      "  if diff:\n"
     ]
    },
    {
     "data": {
      "text/plain": [
       "0.9166666666666666"
      ]
     },
     "execution_count": 228,
     "metadata": {},
     "output_type": "execute_result"
    }
   ],
   "source": [
    "#for stratified validation sample\n",
    "xgb_pred=rf.predict(x_test_svm)\n",
    "xgb.score(x_test_svm, y_test_svm) #accuracy\n"
   ]
  },
  {
   "cell_type": "code",
   "execution_count": 229,
   "metadata": {},
   "outputs": [
    {
     "name": "stderr",
     "output_type": "stream",
     "text": [
      "/usr/local/lib/python3.5/dist-packages/sklearn/model_selection/_split.py:605: Warning: The least populated class in y has only 2 members, which is too few. The minimum number of members in any class cannot be less than n_splits=5.\n",
      "  % (min_groups, self.n_splits)), Warning)\n",
      "/usr/local/lib/python3.5/dist-packages/sklearn/preprocessing/label.py:151: DeprecationWarning: The truth value of an empty array is ambiguous. Returning False, but in future this will result in an error. Use `array.size > 0` to check that an array is not empty.\n",
      "  if diff:\n",
      "/usr/local/lib/python3.5/dist-packages/sklearn/preprocessing/label.py:151: DeprecationWarning: The truth value of an empty array is ambiguous. Returning False, but in future this will result in an error. Use `array.size > 0` to check that an array is not empty.\n",
      "  if diff:\n",
      "/usr/local/lib/python3.5/dist-packages/sklearn/preprocessing/label.py:151: DeprecationWarning: The truth value of an empty array is ambiguous. Returning False, but in future this will result in an error. Use `array.size > 0` to check that an array is not empty.\n",
      "  if diff:\n"
     ]
    },
    {
     "name": "stdout",
     "output_type": "stream",
     "text": [
      "[0.92307692 0.93491124 0.92814371 0.94011976 0.94578313]\n"
     ]
    },
    {
     "name": "stderr",
     "output_type": "stream",
     "text": [
      "/usr/local/lib/python3.5/dist-packages/sklearn/preprocessing/label.py:151: DeprecationWarning: The truth value of an empty array is ambiguous. Returning False, but in future this will result in an error. Use `array.size > 0` to check that an array is not empty.\n",
      "  if diff:\n",
      "/usr/local/lib/python3.5/dist-packages/sklearn/preprocessing/label.py:151: DeprecationWarning: The truth value of an empty array is ambiguous. Returning False, but in future this will result in an error. Use `array.size > 0` to check that an array is not empty.\n",
      "  if diff:\n"
     ]
    }
   ],
   "source": [
    "cv_score = cross_val_score(xgb, total_pred_svm, total_target_svm, cv=5)\n",
    "print(cv_score)"
   ]
  },
  {
   "cell_type": "code",
   "execution_count": 230,
   "metadata": {},
   "outputs": [
    {
     "name": "stdout",
     "output_type": "stream",
     "text": [
      "Confusion matrix, without normalization\n",
      "[[  0  10   0]\n",
      " [  0 157   1]\n",
      " [  0   0   0]]\n"
     ]
    },
    {
     "data": {
      "image/png": "[encoded data removed]",
      "text/plain": [
       "<Figure size 432x288 with 2 Axes>"
      ]
     },
     "metadata": {},
     "output_type": "display_data"
    }
   ],
   "source": [
    "cnf_matrix=confusion_matrix(y_test_svm,xgb_pred)\n",
    "plt.figure()\n",
    "plot_confusion_matrix(cnf_matrix, classes=('maln_mam','maln_normal','maln_sam'))"
   ]
  },
  {
   "cell_type": "code",
   "execution_count": null,
   "metadata": {},
   "outputs": [],
   "source": []
  }
 ],
 "metadata": {
  "kernelspec": {
   "display_name": "Python 3",
   "language": "python",
   "name": "python3"
  },
  "language_info": {
   "codemirror_mode": {
    "name": "ipython",
    "version": 3
   },
   "file_extension": ".py",
   "mimetype": "text/x-python",
   "name": "python",
   "nbconvert_exporter": "python",
   "pygments_lexer": "ipython3",
   "version": "3.5.2"
  }
 },
 "nbformat": 4,
 "nbformat_minor": 2
}
